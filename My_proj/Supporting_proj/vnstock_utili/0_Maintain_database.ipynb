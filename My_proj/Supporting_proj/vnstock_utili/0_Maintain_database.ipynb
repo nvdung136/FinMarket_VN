{
 "cells": [
  {
   "cell_type": "code",
   "execution_count": 1,
   "metadata": {},
   "outputs": [],
   "source": [
    "import vnstock\n",
    "import sqlite3\n",
    "import pandas as pd"
   ]
  },
  {
   "cell_type": "code",
   "execution_count": 2,
   "metadata": {},
   "outputs": [],
   "source": [
    "conn = sqlite3.connect(\"C:/Users/nvdun/OneDrive/3.Programing and tools/0. Git repository/FinMarket_VN/My_proj/Supporting_proj/vnstock_utili/VN_stock_MasterDATA.db\")\n",
    "cursor = conn.cursor()"
   ]
  },
  {
   "cell_type": "code",
   "execution_count": 3,
   "metadata": {},
   "outputs": [
    {
     "data": {
      "text/html": [
       "<div>\n",
       "<style scoped>\n",
       "    .dataframe tbody tr th:only-of-type {\n",
       "        vertical-align: middle;\n",
       "    }\n",
       "\n",
       "    .dataframe tbody tr th {\n",
       "        vertical-align: top;\n",
       "    }\n",
       "\n",
       "    .dataframe thead th {\n",
       "        text-align: right;\n",
       "    }\n",
       "</style>\n",
       "<table border=\"1\" class=\"dataframe\">\n",
       "  <thead>\n",
       "    <tr style=\"text-align: right;\">\n",
       "      <th></th>\n",
       "      <th>ticker</th>\n",
       "      <th>exchange</th>\n",
       "      <th>industry</th>\n",
       "      <th>companyType</th>\n",
       "      <th>noShareholders</th>\n",
       "      <th>foreignPercent</th>\n",
       "      <th>outstandingShare</th>\n",
       "      <th>issueShare</th>\n",
       "      <th>establishedYear</th>\n",
       "      <th>noEmployees</th>\n",
       "      <th>...</th>\n",
       "      <th>deltaInMonth</th>\n",
       "      <th>deltaInYear</th>\n",
       "      <th>shortName</th>\n",
       "      <th>industryEn</th>\n",
       "      <th>industryID</th>\n",
       "      <th>industryIDv2</th>\n",
       "      <th>website</th>\n",
       "      <th>T9_SHolder</th>\n",
       "      <th>T5_SHolder</th>\n",
       "      <th>Free_float</th>\n",
       "    </tr>\n",
       "  </thead>\n",
       "  <tbody>\n",
       "    <tr>\n",
       "      <th>0</th>\n",
       "      <td>SSI</td>\n",
       "      <td>HOSE</td>\n",
       "      <td>Dịch vụ tài chính</td>\n",
       "      <td>CK</td>\n",
       "      <td>90824</td>\n",
       "      <td>0.436</td>\n",
       "      <td>1499.1</td>\n",
       "      <td>1501.1</td>\n",
       "      <td>1999</td>\n",
       "      <td>1592</td>\n",
       "      <td>...</td>\n",
       "      <td>-0.010</td>\n",
       "      <td>0.724</td>\n",
       "      <td>Chứng khoán SSI</td>\n",
       "      <td>Financial Services</td>\n",
       "      <td>300</td>\n",
       "      <td>8777</td>\n",
       "      <td>https://www.ssi.com.vn</td>\n",
       "      <td>0.2672</td>\n",
       "      <td>0.2613</td>\n",
       "      <td>0.998668</td>\n",
       "    </tr>\n",
       "    <tr>\n",
       "      <th>1</th>\n",
       "      <td>BCM</td>\n",
       "      <td>HOSE</td>\n",
       "      <td>Bất động sản</td>\n",
       "      <td>CT</td>\n",
       "      <td>3520</td>\n",
       "      <td>0.021</td>\n",
       "      <td>1035.0</td>\n",
       "      <td>1035.0</td>\n",
       "      <td>2006</td>\n",
       "      <td>3585</td>\n",
       "      <td>...</td>\n",
       "      <td>0.020</td>\n",
       "      <td>-0.328</td>\n",
       "      <td>Becamex IDC</td>\n",
       "      <td>Real Estate</td>\n",
       "      <td>336</td>\n",
       "      <td>8633</td>\n",
       "      <td>https://becamex.com.vn</td>\n",
       "      <td>0.9658</td>\n",
       "      <td>0.9636</td>\n",
       "      <td>1.000000</td>\n",
       "    </tr>\n",
       "    <tr>\n",
       "      <th>2</th>\n",
       "      <td>VHM</td>\n",
       "      <td>HOSE</td>\n",
       "      <td>Bất động sản</td>\n",
       "      <td>CT</td>\n",
       "      <td>31513</td>\n",
       "      <td>0.222</td>\n",
       "      <td>4354.4</td>\n",
       "      <td>4354.4</td>\n",
       "      <td>2008</td>\n",
       "      <td>11664</td>\n",
       "      <td>...</td>\n",
       "      <td>-0.068</td>\n",
       "      <td>-0.229</td>\n",
       "      <td>Vinhomes</td>\n",
       "      <td>Real Estate</td>\n",
       "      <td>336</td>\n",
       "      <td>8633</td>\n",
       "      <td>https://vinhomes.vn/vi</td>\n",
       "      <td>0.7202</td>\n",
       "      <td>0.0000</td>\n",
       "      <td>1.000000</td>\n",
       "    </tr>\n",
       "    <tr>\n",
       "      <th>3</th>\n",
       "      <td>VIC</td>\n",
       "      <td>HOSE</td>\n",
       "      <td>Bất động sản</td>\n",
       "      <td>CT</td>\n",
       "      <td>32650</td>\n",
       "      <td>0.121</td>\n",
       "      <td>3823.7</td>\n",
       "      <td>3823.7</td>\n",
       "      <td>2002</td>\n",
       "      <td>313</td>\n",
       "      <td>...</td>\n",
       "      <td>-0.077</td>\n",
       "      <td>-0.343</td>\n",
       "      <td>VinGroup</td>\n",
       "      <td>Real Estate</td>\n",
       "      <td>336</td>\n",
       "      <td>8633</td>\n",
       "      <td>http://www.vingroup.net</td>\n",
       "      <td>0.7276</td>\n",
       "      <td>0.6783</td>\n",
       "      <td>1.000000</td>\n",
       "    </tr>\n",
       "    <tr>\n",
       "      <th>4</th>\n",
       "      <td>VRE</td>\n",
       "      <td>HOSE</td>\n",
       "      <td>Bất động sản</td>\n",
       "      <td>CT</td>\n",
       "      <td>34058</td>\n",
       "      <td>0.296</td>\n",
       "      <td>2272.3</td>\n",
       "      <td>2328.8</td>\n",
       "      <td>2012</td>\n",
       "      <td>2120</td>\n",
       "      <td>...</td>\n",
       "      <td>-0.100</td>\n",
       "      <td>-0.358</td>\n",
       "      <td>Vincom Retail</td>\n",
       "      <td>Real Estate</td>\n",
       "      <td>336</td>\n",
       "      <td>8633</td>\n",
       "      <td>https://vincom.com.vn</td>\n",
       "      <td>0.5887</td>\n",
       "      <td>0.0000</td>\n",
       "      <td>0.975739</td>\n",
       "    </tr>\n",
       "    <tr>\n",
       "      <th>...</th>\n",
       "      <td>...</td>\n",
       "      <td>...</td>\n",
       "      <td>...</td>\n",
       "      <td>...</td>\n",
       "      <td>...</td>\n",
       "      <td>...</td>\n",
       "      <td>...</td>\n",
       "      <td>...</td>\n",
       "      <td>...</td>\n",
       "      <td>...</td>\n",
       "      <td>...</td>\n",
       "      <td>...</td>\n",
       "      <td>...</td>\n",
       "      <td>...</td>\n",
       "      <td>...</td>\n",
       "      <td>...</td>\n",
       "      <td>...</td>\n",
       "      <td>...</td>\n",
       "      <td>...</td>\n",
       "      <td>...</td>\n",
       "      <td>...</td>\n",
       "    </tr>\n",
       "    <tr>\n",
       "      <th>98</th>\n",
       "      <td>REE</td>\n",
       "      <td>HOSE</td>\n",
       "      <td>Hàng &amp; Dịch vụ Công nghiệp</td>\n",
       "      <td>CT</td>\n",
       "      <td>16958</td>\n",
       "      <td>0.490</td>\n",
       "      <td>408.7</td>\n",
       "      <td>409.7</td>\n",
       "      <td>2005</td>\n",
       "      <td>2122</td>\n",
       "      <td>...</td>\n",
       "      <td>-0.054</td>\n",
       "      <td>-0.196</td>\n",
       "      <td>Cơ Điện Lạnh REE</td>\n",
       "      <td>Industrial Goods &amp; Services</td>\n",
       "      <td>189</td>\n",
       "      <td>2757</td>\n",
       "      <td>https://www.reecorp.com</td>\n",
       "      <td>0.6844</td>\n",
       "      <td>0.6282</td>\n",
       "      <td>0.997559</td>\n",
       "    </tr>\n",
       "    <tr>\n",
       "      <th>99</th>\n",
       "      <td>NET</td>\n",
       "      <td>HNX</td>\n",
       "      <td>Hàng cá nhân &amp; Gia dụng</td>\n",
       "      <td>CT</td>\n",
       "      <td>168</td>\n",
       "      <td>0.010</td>\n",
       "      <td>22.4</td>\n",
       "      <td>22.4</td>\n",
       "      <td>1972</td>\n",
       "      <td>442</td>\n",
       "      <td>...</td>\n",
       "      <td>0.172</td>\n",
       "      <td>0.887</td>\n",
       "      <td>Bột giặt Net</td>\n",
       "      <td>Personal &amp; Household Goods</td>\n",
       "      <td>228</td>\n",
       "      <td>3767</td>\n",
       "      <td>http://www.netcovn.com.vn</td>\n",
       "      <td>0.9293</td>\n",
       "      <td>0.9218</td>\n",
       "      <td>1.000000</td>\n",
       "    </tr>\n",
       "    <tr>\n",
       "      <th>100</th>\n",
       "      <td>CTD</td>\n",
       "      <td>HOSE</td>\n",
       "      <td>Xây dựng và Vật liệu</td>\n",
       "      <td>CT</td>\n",
       "      <td>7450</td>\n",
       "      <td>0.437</td>\n",
       "      <td>99.9</td>\n",
       "      <td>103.6</td>\n",
       "      <td>2004</td>\n",
       "      <td>1985</td>\n",
       "      <td>...</td>\n",
       "      <td>-0.050</td>\n",
       "      <td>1.509</td>\n",
       "      <td>Xây dựng Coteccons</td>\n",
       "      <td>Construction &amp; Materials</td>\n",
       "      <td>181</td>\n",
       "      <td>2357</td>\n",
       "      <td>http://www.coteccons.vn</td>\n",
       "      <td>0.6231</td>\n",
       "      <td>0.5313</td>\n",
       "      <td>0.964286</td>\n",
       "    </tr>\n",
       "    <tr>\n",
       "      <th>101</th>\n",
       "      <td>VCF</td>\n",
       "      <td>HOSE</td>\n",
       "      <td>Thực phẩm và đồ uống</td>\n",
       "      <td>CT</td>\n",
       "      <td>390</td>\n",
       "      <td>0.006</td>\n",
       "      <td>26.6</td>\n",
       "      <td>26.6</td>\n",
       "      <td>1998</td>\n",
       "      <td>241</td>\n",
       "      <td>...</td>\n",
       "      <td>-0.045</td>\n",
       "      <td>-0.406</td>\n",
       "      <td>VinaCafé Biên Hòa</td>\n",
       "      <td>Food &amp; Beverage</td>\n",
       "      <td>216</td>\n",
       "      <td>3537</td>\n",
       "      <td>www.vinacafebienhoa.com</td>\n",
       "      <td>0.9891</td>\n",
       "      <td>0.9879</td>\n",
       "      <td>1.000000</td>\n",
       "    </tr>\n",
       "    <tr>\n",
       "      <th>102</th>\n",
       "      <td>NVL</td>\n",
       "      <td>HOSE</td>\n",
       "      <td>Bất động sản</td>\n",
       "      <td>CT</td>\n",
       "      <td>11113</td>\n",
       "      <td>0.037</td>\n",
       "      <td>1950.1</td>\n",
       "      <td>1950.1</td>\n",
       "      <td>1992</td>\n",
       "      <td>1404</td>\n",
       "      <td>...</td>\n",
       "      <td>-0.042</td>\n",
       "      <td>0.267</td>\n",
       "      <td>Novaland</td>\n",
       "      <td>Real Estate</td>\n",
       "      <td>336</td>\n",
       "      <td>8633</td>\n",
       "      <td>http://www.novaland.com.vn</td>\n",
       "      <td>0.9940</td>\n",
       "      <td>0.8659</td>\n",
       "      <td>1.000000</td>\n",
       "    </tr>\n",
       "  </tbody>\n",
       "</table>\n",
       "<p>103 rows × 22 columns</p>\n",
       "</div>"
      ],
      "text/plain": [
       "    ticker exchange                    industry companyType  noShareholders  \\\n",
       "0      SSI     HOSE           Dịch vụ tài chính          CK           90824   \n",
       "1      BCM     HOSE                Bất động sản          CT            3520   \n",
       "2      VHM     HOSE                Bất động sản          CT           31513   \n",
       "3      VIC     HOSE                Bất động sản          CT           32650   \n",
       "4      VRE     HOSE                Bất động sản          CT           34058   \n",
       "..     ...      ...                         ...         ...             ...   \n",
       "98     REE     HOSE  Hàng & Dịch vụ Công nghiệp          CT           16958   \n",
       "99     NET      HNX     Hàng cá nhân & Gia dụng          CT             168   \n",
       "100    CTD     HOSE        Xây dựng và Vật liệu          CT            7450   \n",
       "101    VCF     HOSE        Thực phẩm và đồ uống          CT             390   \n",
       "102    NVL     HOSE                Bất động sản          CT           11113   \n",
       "\n",
       "     foreignPercent  outstandingShare  issueShare establishedYear  \\\n",
       "0             0.436            1499.1      1501.1            1999   \n",
       "1             0.021            1035.0      1035.0            2006   \n",
       "2             0.222            4354.4      4354.4            2008   \n",
       "3             0.121            3823.7      3823.7            2002   \n",
       "4             0.296            2272.3      2328.8            2012   \n",
       "..              ...               ...         ...             ...   \n",
       "98            0.490             408.7       409.7            2005   \n",
       "99            0.010              22.4        22.4            1972   \n",
       "100           0.437              99.9       103.6            2004   \n",
       "101           0.006              26.6        26.6            1998   \n",
       "102           0.037            1950.1      1950.1            1992   \n",
       "\n",
       "     noEmployees  ...  deltaInMonth  deltaInYear           shortName  \\\n",
       "0           1592  ...        -0.010        0.724     Chứng khoán SSI   \n",
       "1           3585  ...         0.020       -0.328         Becamex IDC   \n",
       "2          11664  ...        -0.068       -0.229            Vinhomes   \n",
       "3            313  ...        -0.077       -0.343            VinGroup   \n",
       "4           2120  ...        -0.100       -0.358       Vincom Retail   \n",
       "..           ...  ...           ...          ...                 ...   \n",
       "98          2122  ...        -0.054       -0.196    Cơ Điện Lạnh REE   \n",
       "99           442  ...         0.172        0.887        Bột giặt Net   \n",
       "100         1985  ...        -0.050        1.509  Xây dựng Coteccons   \n",
       "101          241  ...        -0.045       -0.406   VinaCafé Biên Hòa   \n",
       "102         1404  ...        -0.042        0.267            Novaland   \n",
       "\n",
       "                      industryEn industryID industryIDv2  \\\n",
       "0             Financial Services        300         8777   \n",
       "1                    Real Estate        336         8633   \n",
       "2                    Real Estate        336         8633   \n",
       "3                    Real Estate        336         8633   \n",
       "4                    Real Estate        336         8633   \n",
       "..                           ...        ...          ...   \n",
       "98   Industrial Goods & Services        189         2757   \n",
       "99    Personal & Household Goods        228         3767   \n",
       "100     Construction & Materials        181         2357   \n",
       "101              Food & Beverage        216         3537   \n",
       "102                  Real Estate        336         8633   \n",
       "\n",
       "                        website T9_SHolder T5_SHolder  Free_float  \n",
       "0        https://www.ssi.com.vn     0.2672     0.2613    0.998668  \n",
       "1        https://becamex.com.vn     0.9658     0.9636    1.000000  \n",
       "2        https://vinhomes.vn/vi     0.7202     0.0000    1.000000  \n",
       "3       http://www.vingroup.net     0.7276     0.6783    1.000000  \n",
       "4         https://vincom.com.vn     0.5887     0.0000    0.975739  \n",
       "..                          ...        ...        ...         ...  \n",
       "98      https://www.reecorp.com     0.6844     0.6282    0.997559  \n",
       "99    http://www.netcovn.com.vn     0.9293     0.9218    1.000000  \n",
       "100     http://www.coteccons.vn     0.6231     0.5313    0.964286  \n",
       "101     www.vinacafebienhoa.com     0.9891     0.9879    1.000000  \n",
       "102  http://www.novaland.com.vn     0.9940     0.8659    1.000000  \n",
       "\n",
       "[103 rows x 22 columns]"
      ]
     },
     "execution_count": 3,
     "metadata": {},
     "output_type": "execute_result"
    }
   ],
   "source": [
    "DF_TCK = pd.read_sql('SELECT * FROM Profile_',conn)\n",
    "DF_TCK"
   ]
  },
  {
   "cell_type": "code",
   "execution_count": 4,
   "metadata": {},
   "outputs": [
    {
     "data": {
      "text/plain": [
       "['SSI',\n",
       " 'BCM',\n",
       " 'VHM',\n",
       " 'VIC',\n",
       " 'VRE',\n",
       " 'BVH',\n",
       " 'POW',\n",
       " 'GAS',\n",
       " 'ACB',\n",
       " 'BID',\n",
       " 'CTG',\n",
       " 'HDB',\n",
       " 'MBB',\n",
       " 'SSB',\n",
       " 'SHB',\n",
       " 'STB',\n",
       " 'TCB',\n",
       " 'TPB',\n",
       " 'VCB',\n",
       " 'VIB',\n",
       " 'VPB',\n",
       " 'HPG',\n",
       " 'GVR',\n",
       " 'MSN',\n",
       " 'VNM',\n",
       " 'SAB',\n",
       " 'VJC',\n",
       " 'MWG',\n",
       " 'PLX',\n",
       " 'FPT',\n",
       " 'BCG',\n",
       " 'FTS',\n",
       " 'HCM',\n",
       " 'VCI',\n",
       " 'VIX',\n",
       " 'VND',\n",
       " 'AGG',\n",
       " 'CRE',\n",
       " 'DIG',\n",
       " 'DXG',\n",
       " 'DXS',\n",
       " 'HDC',\n",
       " 'HDG',\n",
       " 'TCH',\n",
       " 'KBC',\n",
       " 'KDH',\n",
       " 'KOS',\n",
       " 'NLG',\n",
       " 'PDR',\n",
       " 'SZC',\n",
       " 'SJS',\n",
       " 'VPI',\n",
       " 'GEG',\n",
       " 'NT2',\n",
       " 'PPC',\n",
       " 'VSH',\n",
       " 'BWE',\n",
       " 'EIB',\n",
       " 'LPB',\n",
       " 'MSB',\n",
       " 'OCB',\n",
       " 'DHC',\n",
       " 'PTB',\n",
       " 'HSG',\n",
       " 'NKG',\n",
       " 'AAA',\n",
       " 'DCM',\n",
       " 'DGC',\n",
       " 'DPM',\n",
       " 'PHR',\n",
       " 'ANV',\n",
       " 'ASM',\n",
       " 'DBC',\n",
       " 'HAG',\n",
       " 'KDC',\n",
       " 'PAN',\n",
       " 'SBT',\n",
       " 'VHC',\n",
       " 'PNJ',\n",
       " 'SCS',\n",
       " 'DGW',\n",
       " 'FRT',\n",
       " 'PVD',\n",
       " 'IMP',\n",
       " 'SAM',\n",
       " 'CMG',\n",
       " 'BMP',\n",
       " 'CII',\n",
       " 'CTR',\n",
       " 'HHV',\n",
       " 'HT1',\n",
       " 'PC1',\n",
       " 'VCG',\n",
       " 'VGC',\n",
       " 'GEX',\n",
       " 'GMD',\n",
       " 'PVT',\n",
       " 'TMS',\n",
       " 'REE',\n",
       " 'NET',\n",
       " 'CTD',\n",
       " 'VCF',\n",
       " 'NVL']"
      ]
     },
     "execution_count": 4,
     "metadata": {},
     "output_type": "execute_result"
    }
   ],
   "source": [
    "List_TCK = DF_TCK['ticker'].to_list()\n",
    "List_TCK"
   ]
  },
  {
   "cell_type": "code",
   "execution_count": 5,
   "metadata": {},
   "outputs": [
    {
     "name": "stderr",
     "output_type": "stream",
     "text": [
      "C:\\Users\\nvdun\\AppData\\Local\\Temp\\ipykernel_5460\\1029729830.py:9: FutureWarning: Series.__getitem__ treating keys as positions is deprecated. In a future version, integer keys will always be treated as labels (consistent with DataFrame behavior). To access a value by position, use `ser.iloc[pos]`\n",
      "  Top_9_SHolder = DF_.sum(axis=0)[2]\n",
      "C:\\Users\\nvdun\\AppData\\Local\\Temp\\ipykernel_5460\\1029729830.py:13: FutureWarning: Series.__getitem__ treating keys as positions is deprecated. In a future version, integer keys will always be treated as labels (consistent with DataFrame behavior). To access a value by position, use `ser.iloc[pos]`\n",
      "  Top_5_SHolder = DF_.sum(axis=0)[2]\n"
     ]
    },
    {
     "name": "stdout",
     "output_type": "stream",
     "text": [
      "1\n"
     ]
    },
    {
     "name": "stderr",
     "output_type": "stream",
     "text": [
      "C:\\Users\\nvdun\\AppData\\Local\\Temp\\ipykernel_5460\\1029729830.py:9: FutureWarning: Series.__getitem__ treating keys as positions is deprecated. In a future version, integer keys will always be treated as labels (consistent with DataFrame behavior). To access a value by position, use `ser.iloc[pos]`\n",
      "  Top_9_SHolder = DF_.sum(axis=0)[2]\n",
      "C:\\Users\\nvdun\\AppData\\Local\\Temp\\ipykernel_5460\\1029729830.py:13: FutureWarning: Series.__getitem__ treating keys as positions is deprecated. In a future version, integer keys will always be treated as labels (consistent with DataFrame behavior). To access a value by position, use `ser.iloc[pos]`\n",
      "  Top_5_SHolder = DF_.sum(axis=0)[2]\n"
     ]
    },
    {
     "name": "stdout",
     "output_type": "stream",
     "text": [
      "2\n"
     ]
    },
    {
     "name": "stderr",
     "output_type": "stream",
     "text": [
      "C:\\Users\\nvdun\\AppData\\Local\\Temp\\ipykernel_5460\\1029729830.py:9: FutureWarning: Series.__getitem__ treating keys as positions is deprecated. In a future version, integer keys will always be treated as labels (consistent with DataFrame behavior). To access a value by position, use `ser.iloc[pos]`\n",
      "  Top_9_SHolder = DF_.sum(axis=0)[2]\n",
      "C:\\Users\\nvdun\\AppData\\Local\\Temp\\ipykernel_5460\\1029729830.py:13: FutureWarning: Series.__getitem__ treating keys as positions is deprecated. In a future version, integer keys will always be treated as labels (consistent with DataFrame behavior). To access a value by position, use `ser.iloc[pos]`\n",
      "  Top_5_SHolder = DF_.sum(axis=0)[2]\n"
     ]
    },
    {
     "name": "stdout",
     "output_type": "stream",
     "text": [
      "3\n"
     ]
    },
    {
     "name": "stderr",
     "output_type": "stream",
     "text": [
      "C:\\Users\\nvdun\\AppData\\Local\\Temp\\ipykernel_5460\\1029729830.py:9: FutureWarning: Series.__getitem__ treating keys as positions is deprecated. In a future version, integer keys will always be treated as labels (consistent with DataFrame behavior). To access a value by position, use `ser.iloc[pos]`\n",
      "  Top_9_SHolder = DF_.sum(axis=0)[2]\n",
      "C:\\Users\\nvdun\\AppData\\Local\\Temp\\ipykernel_5460\\1029729830.py:13: FutureWarning: Series.__getitem__ treating keys as positions is deprecated. In a future version, integer keys will always be treated as labels (consistent with DataFrame behavior). To access a value by position, use `ser.iloc[pos]`\n",
      "  Top_5_SHolder = DF_.sum(axis=0)[2]\n"
     ]
    },
    {
     "name": "stdout",
     "output_type": "stream",
     "text": [
      "4\n"
     ]
    },
    {
     "name": "stderr",
     "output_type": "stream",
     "text": [
      "C:\\Users\\nvdun\\AppData\\Local\\Temp\\ipykernel_5460\\1029729830.py:9: FutureWarning: Series.__getitem__ treating keys as positions is deprecated. In a future version, integer keys will always be treated as labels (consistent with DataFrame behavior). To access a value by position, use `ser.iloc[pos]`\n",
      "  Top_9_SHolder = DF_.sum(axis=0)[2]\n",
      "C:\\Users\\nvdun\\AppData\\Local\\Temp\\ipykernel_5460\\1029729830.py:13: FutureWarning: Series.__getitem__ treating keys as positions is deprecated. In a future version, integer keys will always be treated as labels (consistent with DataFrame behavior). To access a value by position, use `ser.iloc[pos]`\n",
      "  Top_5_SHolder = DF_.sum(axis=0)[2]\n"
     ]
    },
    {
     "name": "stdout",
     "output_type": "stream",
     "text": [
      "5\n"
     ]
    },
    {
     "name": "stderr",
     "output_type": "stream",
     "text": [
      "C:\\Users\\nvdun\\AppData\\Local\\Temp\\ipykernel_5460\\1029729830.py:9: FutureWarning: Series.__getitem__ treating keys as positions is deprecated. In a future version, integer keys will always be treated as labels (consistent with DataFrame behavior). To access a value by position, use `ser.iloc[pos]`\n",
      "  Top_9_SHolder = DF_.sum(axis=0)[2]\n",
      "C:\\Users\\nvdun\\AppData\\Local\\Temp\\ipykernel_5460\\1029729830.py:13: FutureWarning: Series.__getitem__ treating keys as positions is deprecated. In a future version, integer keys will always be treated as labels (consistent with DataFrame behavior). To access a value by position, use `ser.iloc[pos]`\n",
      "  Top_5_SHolder = DF_.sum(axis=0)[2]\n"
     ]
    },
    {
     "name": "stdout",
     "output_type": "stream",
     "text": [
      "6\n"
     ]
    },
    {
     "name": "stderr",
     "output_type": "stream",
     "text": [
      "C:\\Users\\nvdun\\AppData\\Local\\Temp\\ipykernel_5460\\1029729830.py:9: FutureWarning: Series.__getitem__ treating keys as positions is deprecated. In a future version, integer keys will always be treated as labels (consistent with DataFrame behavior). To access a value by position, use `ser.iloc[pos]`\n",
      "  Top_9_SHolder = DF_.sum(axis=0)[2]\n",
      "C:\\Users\\nvdun\\AppData\\Local\\Temp\\ipykernel_5460\\1029729830.py:13: FutureWarning: Series.__getitem__ treating keys as positions is deprecated. In a future version, integer keys will always be treated as labels (consistent with DataFrame behavior). To access a value by position, use `ser.iloc[pos]`\n",
      "  Top_5_SHolder = DF_.sum(axis=0)[2]\n"
     ]
    },
    {
     "name": "stdout",
     "output_type": "stream",
     "text": [
      "7\n"
     ]
    },
    {
     "name": "stderr",
     "output_type": "stream",
     "text": [
      "C:\\Users\\nvdun\\AppData\\Local\\Temp\\ipykernel_5460\\1029729830.py:9: FutureWarning: Series.__getitem__ treating keys as positions is deprecated. In a future version, integer keys will always be treated as labels (consistent with DataFrame behavior). To access a value by position, use `ser.iloc[pos]`\n",
      "  Top_9_SHolder = DF_.sum(axis=0)[2]\n",
      "C:\\Users\\nvdun\\AppData\\Local\\Temp\\ipykernel_5460\\1029729830.py:13: FutureWarning: Series.__getitem__ treating keys as positions is deprecated. In a future version, integer keys will always be treated as labels (consistent with DataFrame behavior). To access a value by position, use `ser.iloc[pos]`\n",
      "  Top_5_SHolder = DF_.sum(axis=0)[2]\n"
     ]
    },
    {
     "name": "stdout",
     "output_type": "stream",
     "text": [
      "8\n"
     ]
    },
    {
     "name": "stderr",
     "output_type": "stream",
     "text": [
      "C:\\Users\\nvdun\\AppData\\Local\\Temp\\ipykernel_5460\\1029729830.py:9: FutureWarning: Series.__getitem__ treating keys as positions is deprecated. In a future version, integer keys will always be treated as labels (consistent with DataFrame behavior). To access a value by position, use `ser.iloc[pos]`\n",
      "  Top_9_SHolder = DF_.sum(axis=0)[2]\n",
      "C:\\Users\\nvdun\\AppData\\Local\\Temp\\ipykernel_5460\\1029729830.py:13: FutureWarning: Series.__getitem__ treating keys as positions is deprecated. In a future version, integer keys will always be treated as labels (consistent with DataFrame behavior). To access a value by position, use `ser.iloc[pos]`\n",
      "  Top_5_SHolder = DF_.sum(axis=0)[2]\n"
     ]
    },
    {
     "name": "stdout",
     "output_type": "stream",
     "text": [
      "9\n"
     ]
    },
    {
     "name": "stderr",
     "output_type": "stream",
     "text": [
      "C:\\Users\\nvdun\\AppData\\Local\\Temp\\ipykernel_5460\\1029729830.py:9: FutureWarning: Series.__getitem__ treating keys as positions is deprecated. In a future version, integer keys will always be treated as labels (consistent with DataFrame behavior). To access a value by position, use `ser.iloc[pos]`\n",
      "  Top_9_SHolder = DF_.sum(axis=0)[2]\n",
      "C:\\Users\\nvdun\\AppData\\Local\\Temp\\ipykernel_5460\\1029729830.py:13: FutureWarning: Series.__getitem__ treating keys as positions is deprecated. In a future version, integer keys will always be treated as labels (consistent with DataFrame behavior). To access a value by position, use `ser.iloc[pos]`\n",
      "  Top_5_SHolder = DF_.sum(axis=0)[2]\n"
     ]
    },
    {
     "name": "stdout",
     "output_type": "stream",
     "text": [
      "10\n"
     ]
    },
    {
     "name": "stderr",
     "output_type": "stream",
     "text": [
      "C:\\Users\\nvdun\\AppData\\Local\\Temp\\ipykernel_5460\\1029729830.py:9: FutureWarning: Series.__getitem__ treating keys as positions is deprecated. In a future version, integer keys will always be treated as labels (consistent with DataFrame behavior). To access a value by position, use `ser.iloc[pos]`\n",
      "  Top_9_SHolder = DF_.sum(axis=0)[2]\n",
      "C:\\Users\\nvdun\\AppData\\Local\\Temp\\ipykernel_5460\\1029729830.py:13: FutureWarning: Series.__getitem__ treating keys as positions is deprecated. In a future version, integer keys will always be treated as labels (consistent with DataFrame behavior). To access a value by position, use `ser.iloc[pos]`\n",
      "  Top_5_SHolder = DF_.sum(axis=0)[2]\n"
     ]
    },
    {
     "name": "stdout",
     "output_type": "stream",
     "text": [
      "11\n"
     ]
    },
    {
     "name": "stderr",
     "output_type": "stream",
     "text": [
      "C:\\Users\\nvdun\\AppData\\Local\\Temp\\ipykernel_5460\\1029729830.py:9: FutureWarning: Series.__getitem__ treating keys as positions is deprecated. In a future version, integer keys will always be treated as labels (consistent with DataFrame behavior). To access a value by position, use `ser.iloc[pos]`\n",
      "  Top_9_SHolder = DF_.sum(axis=0)[2]\n",
      "C:\\Users\\nvdun\\AppData\\Local\\Temp\\ipykernel_5460\\1029729830.py:13: FutureWarning: Series.__getitem__ treating keys as positions is deprecated. In a future version, integer keys will always be treated as labels (consistent with DataFrame behavior). To access a value by position, use `ser.iloc[pos]`\n",
      "  Top_5_SHolder = DF_.sum(axis=0)[2]\n"
     ]
    },
    {
     "name": "stdout",
     "output_type": "stream",
     "text": [
      "12\n"
     ]
    },
    {
     "name": "stderr",
     "output_type": "stream",
     "text": [
      "C:\\Users\\nvdun\\AppData\\Local\\Temp\\ipykernel_5460\\1029729830.py:9: FutureWarning: Series.__getitem__ treating keys as positions is deprecated. In a future version, integer keys will always be treated as labels (consistent with DataFrame behavior). To access a value by position, use `ser.iloc[pos]`\n",
      "  Top_9_SHolder = DF_.sum(axis=0)[2]\n",
      "C:\\Users\\nvdun\\AppData\\Local\\Temp\\ipykernel_5460\\1029729830.py:13: FutureWarning: Series.__getitem__ treating keys as positions is deprecated. In a future version, integer keys will always be treated as labels (consistent with DataFrame behavior). To access a value by position, use `ser.iloc[pos]`\n",
      "  Top_5_SHolder = DF_.sum(axis=0)[2]\n"
     ]
    },
    {
     "name": "stdout",
     "output_type": "stream",
     "text": [
      "13\n"
     ]
    },
    {
     "name": "stderr",
     "output_type": "stream",
     "text": [
      "C:\\Users\\nvdun\\AppData\\Local\\Temp\\ipykernel_5460\\1029729830.py:9: FutureWarning: Series.__getitem__ treating keys as positions is deprecated. In a future version, integer keys will always be treated as labels (consistent with DataFrame behavior). To access a value by position, use `ser.iloc[pos]`\n",
      "  Top_9_SHolder = DF_.sum(axis=0)[2]\n",
      "C:\\Users\\nvdun\\AppData\\Local\\Temp\\ipykernel_5460\\1029729830.py:13: FutureWarning: Series.__getitem__ treating keys as positions is deprecated. In a future version, integer keys will always be treated as labels (consistent with DataFrame behavior). To access a value by position, use `ser.iloc[pos]`\n",
      "  Top_5_SHolder = DF_.sum(axis=0)[2]\n"
     ]
    },
    {
     "name": "stdout",
     "output_type": "stream",
     "text": [
      "14\n"
     ]
    },
    {
     "name": "stderr",
     "output_type": "stream",
     "text": [
      "C:\\Users\\nvdun\\AppData\\Local\\Temp\\ipykernel_5460\\1029729830.py:9: FutureWarning: Series.__getitem__ treating keys as positions is deprecated. In a future version, integer keys will always be treated as labels (consistent with DataFrame behavior). To access a value by position, use `ser.iloc[pos]`\n",
      "  Top_9_SHolder = DF_.sum(axis=0)[2]\n",
      "C:\\Users\\nvdun\\AppData\\Local\\Temp\\ipykernel_5460\\1029729830.py:13: FutureWarning: Series.__getitem__ treating keys as positions is deprecated. In a future version, integer keys will always be treated as labels (consistent with DataFrame behavior). To access a value by position, use `ser.iloc[pos]`\n",
      "  Top_5_SHolder = DF_.sum(axis=0)[2]\n"
     ]
    },
    {
     "name": "stdout",
     "output_type": "stream",
     "text": [
      "15\n"
     ]
    },
    {
     "name": "stderr",
     "output_type": "stream",
     "text": [
      "C:\\Users\\nvdun\\AppData\\Local\\Temp\\ipykernel_5460\\1029729830.py:9: FutureWarning: Series.__getitem__ treating keys as positions is deprecated. In a future version, integer keys will always be treated as labels (consistent with DataFrame behavior). To access a value by position, use `ser.iloc[pos]`\n",
      "  Top_9_SHolder = DF_.sum(axis=0)[2]\n",
      "C:\\Users\\nvdun\\AppData\\Local\\Temp\\ipykernel_5460\\1029729830.py:13: FutureWarning: Series.__getitem__ treating keys as positions is deprecated. In a future version, integer keys will always be treated as labels (consistent with DataFrame behavior). To access a value by position, use `ser.iloc[pos]`\n",
      "  Top_5_SHolder = DF_.sum(axis=0)[2]\n"
     ]
    },
    {
     "name": "stdout",
     "output_type": "stream",
     "text": [
      "16\n"
     ]
    },
    {
     "name": "stderr",
     "output_type": "stream",
     "text": [
      "C:\\Users\\nvdun\\AppData\\Local\\Temp\\ipykernel_5460\\1029729830.py:9: FutureWarning: Series.__getitem__ treating keys as positions is deprecated. In a future version, integer keys will always be treated as labels (consistent with DataFrame behavior). To access a value by position, use `ser.iloc[pos]`\n",
      "  Top_9_SHolder = DF_.sum(axis=0)[2]\n",
      "C:\\Users\\nvdun\\AppData\\Local\\Temp\\ipykernel_5460\\1029729830.py:13: FutureWarning: Series.__getitem__ treating keys as positions is deprecated. In a future version, integer keys will always be treated as labels (consistent with DataFrame behavior). To access a value by position, use `ser.iloc[pos]`\n",
      "  Top_5_SHolder = DF_.sum(axis=0)[2]\n"
     ]
    },
    {
     "name": "stdout",
     "output_type": "stream",
     "text": [
      "17\n"
     ]
    },
    {
     "name": "stderr",
     "output_type": "stream",
     "text": [
      "C:\\Users\\nvdun\\AppData\\Local\\Temp\\ipykernel_5460\\1029729830.py:9: FutureWarning: Series.__getitem__ treating keys as positions is deprecated. In a future version, integer keys will always be treated as labels (consistent with DataFrame behavior). To access a value by position, use `ser.iloc[pos]`\n",
      "  Top_9_SHolder = DF_.sum(axis=0)[2]\n",
      "C:\\Users\\nvdun\\AppData\\Local\\Temp\\ipykernel_5460\\1029729830.py:13: FutureWarning: Series.__getitem__ treating keys as positions is deprecated. In a future version, integer keys will always be treated as labels (consistent with DataFrame behavior). To access a value by position, use `ser.iloc[pos]`\n",
      "  Top_5_SHolder = DF_.sum(axis=0)[2]\n"
     ]
    },
    {
     "name": "stdout",
     "output_type": "stream",
     "text": [
      "18\n"
     ]
    },
    {
     "name": "stderr",
     "output_type": "stream",
     "text": [
      "C:\\Users\\nvdun\\AppData\\Local\\Temp\\ipykernel_5460\\1029729830.py:9: FutureWarning: Series.__getitem__ treating keys as positions is deprecated. In a future version, integer keys will always be treated as labels (consistent with DataFrame behavior). To access a value by position, use `ser.iloc[pos]`\n",
      "  Top_9_SHolder = DF_.sum(axis=0)[2]\n",
      "C:\\Users\\nvdun\\AppData\\Local\\Temp\\ipykernel_5460\\1029729830.py:13: FutureWarning: Series.__getitem__ treating keys as positions is deprecated. In a future version, integer keys will always be treated as labels (consistent with DataFrame behavior). To access a value by position, use `ser.iloc[pos]`\n",
      "  Top_5_SHolder = DF_.sum(axis=0)[2]\n"
     ]
    },
    {
     "name": "stdout",
     "output_type": "stream",
     "text": [
      "19\n"
     ]
    },
    {
     "name": "stderr",
     "output_type": "stream",
     "text": [
      "C:\\Users\\nvdun\\AppData\\Local\\Temp\\ipykernel_5460\\1029729830.py:9: FutureWarning: Series.__getitem__ treating keys as positions is deprecated. In a future version, integer keys will always be treated as labels (consistent with DataFrame behavior). To access a value by position, use `ser.iloc[pos]`\n",
      "  Top_9_SHolder = DF_.sum(axis=0)[2]\n",
      "C:\\Users\\nvdun\\AppData\\Local\\Temp\\ipykernel_5460\\1029729830.py:13: FutureWarning: Series.__getitem__ treating keys as positions is deprecated. In a future version, integer keys will always be treated as labels (consistent with DataFrame behavior). To access a value by position, use `ser.iloc[pos]`\n",
      "  Top_5_SHolder = DF_.sum(axis=0)[2]\n"
     ]
    },
    {
     "name": "stdout",
     "output_type": "stream",
     "text": [
      "20\n"
     ]
    },
    {
     "name": "stderr",
     "output_type": "stream",
     "text": [
      "C:\\Users\\nvdun\\AppData\\Local\\Temp\\ipykernel_5460\\1029729830.py:9: FutureWarning: Series.__getitem__ treating keys as positions is deprecated. In a future version, integer keys will always be treated as labels (consistent with DataFrame behavior). To access a value by position, use `ser.iloc[pos]`\n",
      "  Top_9_SHolder = DF_.sum(axis=0)[2]\n",
      "C:\\Users\\nvdun\\AppData\\Local\\Temp\\ipykernel_5460\\1029729830.py:13: FutureWarning: Series.__getitem__ treating keys as positions is deprecated. In a future version, integer keys will always be treated as labels (consistent with DataFrame behavior). To access a value by position, use `ser.iloc[pos]`\n",
      "  Top_5_SHolder = DF_.sum(axis=0)[2]\n"
     ]
    },
    {
     "name": "stdout",
     "output_type": "stream",
     "text": [
      "21\n"
     ]
    },
    {
     "name": "stderr",
     "output_type": "stream",
     "text": [
      "C:\\Users\\nvdun\\AppData\\Local\\Temp\\ipykernel_5460\\1029729830.py:9: FutureWarning: Series.__getitem__ treating keys as positions is deprecated. In a future version, integer keys will always be treated as labels (consistent with DataFrame behavior). To access a value by position, use `ser.iloc[pos]`\n",
      "  Top_9_SHolder = DF_.sum(axis=0)[2]\n",
      "C:\\Users\\nvdun\\AppData\\Local\\Temp\\ipykernel_5460\\1029729830.py:13: FutureWarning: Series.__getitem__ treating keys as positions is deprecated. In a future version, integer keys will always be treated as labels (consistent with DataFrame behavior). To access a value by position, use `ser.iloc[pos]`\n",
      "  Top_5_SHolder = DF_.sum(axis=0)[2]\n"
     ]
    },
    {
     "name": "stdout",
     "output_type": "stream",
     "text": [
      "22\n"
     ]
    },
    {
     "name": "stderr",
     "output_type": "stream",
     "text": [
      "C:\\Users\\nvdun\\AppData\\Local\\Temp\\ipykernel_5460\\1029729830.py:9: FutureWarning: Series.__getitem__ treating keys as positions is deprecated. In a future version, integer keys will always be treated as labels (consistent with DataFrame behavior). To access a value by position, use `ser.iloc[pos]`\n",
      "  Top_9_SHolder = DF_.sum(axis=0)[2]\n",
      "C:\\Users\\nvdun\\AppData\\Local\\Temp\\ipykernel_5460\\1029729830.py:13: FutureWarning: Series.__getitem__ treating keys as positions is deprecated. In a future version, integer keys will always be treated as labels (consistent with DataFrame behavior). To access a value by position, use `ser.iloc[pos]`\n",
      "  Top_5_SHolder = DF_.sum(axis=0)[2]\n"
     ]
    },
    {
     "name": "stdout",
     "output_type": "stream",
     "text": [
      "23\n"
     ]
    },
    {
     "name": "stderr",
     "output_type": "stream",
     "text": [
      "C:\\Users\\nvdun\\AppData\\Local\\Temp\\ipykernel_5460\\1029729830.py:9: FutureWarning: Series.__getitem__ treating keys as positions is deprecated. In a future version, integer keys will always be treated as labels (consistent with DataFrame behavior). To access a value by position, use `ser.iloc[pos]`\n",
      "  Top_9_SHolder = DF_.sum(axis=0)[2]\n",
      "C:\\Users\\nvdun\\AppData\\Local\\Temp\\ipykernel_5460\\1029729830.py:13: FutureWarning: Series.__getitem__ treating keys as positions is deprecated. In a future version, integer keys will always be treated as labels (consistent with DataFrame behavior). To access a value by position, use `ser.iloc[pos]`\n",
      "  Top_5_SHolder = DF_.sum(axis=0)[2]\n"
     ]
    },
    {
     "name": "stdout",
     "output_type": "stream",
     "text": [
      "24\n"
     ]
    },
    {
     "name": "stderr",
     "output_type": "stream",
     "text": [
      "C:\\Users\\nvdun\\AppData\\Local\\Temp\\ipykernel_5460\\1029729830.py:9: FutureWarning: Series.__getitem__ treating keys as positions is deprecated. In a future version, integer keys will always be treated as labels (consistent with DataFrame behavior). To access a value by position, use `ser.iloc[pos]`\n",
      "  Top_9_SHolder = DF_.sum(axis=0)[2]\n",
      "C:\\Users\\nvdun\\AppData\\Local\\Temp\\ipykernel_5460\\1029729830.py:13: FutureWarning: Series.__getitem__ treating keys as positions is deprecated. In a future version, integer keys will always be treated as labels (consistent with DataFrame behavior). To access a value by position, use `ser.iloc[pos]`\n",
      "  Top_5_SHolder = DF_.sum(axis=0)[2]\n"
     ]
    },
    {
     "name": "stdout",
     "output_type": "stream",
     "text": [
      "25\n"
     ]
    },
    {
     "name": "stderr",
     "output_type": "stream",
     "text": [
      "C:\\Users\\nvdun\\AppData\\Local\\Temp\\ipykernel_5460\\1029729830.py:9: FutureWarning: Series.__getitem__ treating keys as positions is deprecated. In a future version, integer keys will always be treated as labels (consistent with DataFrame behavior). To access a value by position, use `ser.iloc[pos]`\n",
      "  Top_9_SHolder = DF_.sum(axis=0)[2]\n",
      "C:\\Users\\nvdun\\AppData\\Local\\Temp\\ipykernel_5460\\1029729830.py:13: FutureWarning: Series.__getitem__ treating keys as positions is deprecated. In a future version, integer keys will always be treated as labels (consistent with DataFrame behavior). To access a value by position, use `ser.iloc[pos]`\n",
      "  Top_5_SHolder = DF_.sum(axis=0)[2]\n"
     ]
    },
    {
     "name": "stdout",
     "output_type": "stream",
     "text": [
      "26\n"
     ]
    },
    {
     "name": "stderr",
     "output_type": "stream",
     "text": [
      "C:\\Users\\nvdun\\AppData\\Local\\Temp\\ipykernel_5460\\1029729830.py:9: FutureWarning: Series.__getitem__ treating keys as positions is deprecated. In a future version, integer keys will always be treated as labels (consistent with DataFrame behavior). To access a value by position, use `ser.iloc[pos]`\n",
      "  Top_9_SHolder = DF_.sum(axis=0)[2]\n",
      "C:\\Users\\nvdun\\AppData\\Local\\Temp\\ipykernel_5460\\1029729830.py:13: FutureWarning: Series.__getitem__ treating keys as positions is deprecated. In a future version, integer keys will always be treated as labels (consistent with DataFrame behavior). To access a value by position, use `ser.iloc[pos]`\n",
      "  Top_5_SHolder = DF_.sum(axis=0)[2]\n"
     ]
    },
    {
     "name": "stdout",
     "output_type": "stream",
     "text": [
      "27\n"
     ]
    },
    {
     "name": "stderr",
     "output_type": "stream",
     "text": [
      "C:\\Users\\nvdun\\AppData\\Local\\Temp\\ipykernel_5460\\1029729830.py:9: FutureWarning: Series.__getitem__ treating keys as positions is deprecated. In a future version, integer keys will always be treated as labels (consistent with DataFrame behavior). To access a value by position, use `ser.iloc[pos]`\n",
      "  Top_9_SHolder = DF_.sum(axis=0)[2]\n",
      "C:\\Users\\nvdun\\AppData\\Local\\Temp\\ipykernel_5460\\1029729830.py:13: FutureWarning: Series.__getitem__ treating keys as positions is deprecated. In a future version, integer keys will always be treated as labels (consistent with DataFrame behavior). To access a value by position, use `ser.iloc[pos]`\n",
      "  Top_5_SHolder = DF_.sum(axis=0)[2]\n"
     ]
    },
    {
     "name": "stdout",
     "output_type": "stream",
     "text": [
      "28\n"
     ]
    },
    {
     "name": "stderr",
     "output_type": "stream",
     "text": [
      "C:\\Users\\nvdun\\AppData\\Local\\Temp\\ipykernel_5460\\1029729830.py:9: FutureWarning: Series.__getitem__ treating keys as positions is deprecated. In a future version, integer keys will always be treated as labels (consistent with DataFrame behavior). To access a value by position, use `ser.iloc[pos]`\n",
      "  Top_9_SHolder = DF_.sum(axis=0)[2]\n",
      "C:\\Users\\nvdun\\AppData\\Local\\Temp\\ipykernel_5460\\1029729830.py:13: FutureWarning: Series.__getitem__ treating keys as positions is deprecated. In a future version, integer keys will always be treated as labels (consistent with DataFrame behavior). To access a value by position, use `ser.iloc[pos]`\n",
      "  Top_5_SHolder = DF_.sum(axis=0)[2]\n"
     ]
    },
    {
     "name": "stdout",
     "output_type": "stream",
     "text": [
      "29\n"
     ]
    },
    {
     "name": "stderr",
     "output_type": "stream",
     "text": [
      "C:\\Users\\nvdun\\AppData\\Local\\Temp\\ipykernel_5460\\1029729830.py:9: FutureWarning: Series.__getitem__ treating keys as positions is deprecated. In a future version, integer keys will always be treated as labels (consistent with DataFrame behavior). To access a value by position, use `ser.iloc[pos]`\n",
      "  Top_9_SHolder = DF_.sum(axis=0)[2]\n",
      "C:\\Users\\nvdun\\AppData\\Local\\Temp\\ipykernel_5460\\1029729830.py:13: FutureWarning: Series.__getitem__ treating keys as positions is deprecated. In a future version, integer keys will always be treated as labels (consistent with DataFrame behavior). To access a value by position, use `ser.iloc[pos]`\n",
      "  Top_5_SHolder = DF_.sum(axis=0)[2]\n"
     ]
    },
    {
     "name": "stdout",
     "output_type": "stream",
     "text": [
      "30\n"
     ]
    },
    {
     "name": "stderr",
     "output_type": "stream",
     "text": [
      "C:\\Users\\nvdun\\AppData\\Local\\Temp\\ipykernel_5460\\1029729830.py:9: FutureWarning: Series.__getitem__ treating keys as positions is deprecated. In a future version, integer keys will always be treated as labels (consistent with DataFrame behavior). To access a value by position, use `ser.iloc[pos]`\n",
      "  Top_9_SHolder = DF_.sum(axis=0)[2]\n",
      "C:\\Users\\nvdun\\AppData\\Local\\Temp\\ipykernel_5460\\1029729830.py:13: FutureWarning: Series.__getitem__ treating keys as positions is deprecated. In a future version, integer keys will always be treated as labels (consistent with DataFrame behavior). To access a value by position, use `ser.iloc[pos]`\n",
      "  Top_5_SHolder = DF_.sum(axis=0)[2]\n"
     ]
    },
    {
     "name": "stdout",
     "output_type": "stream",
     "text": [
      "31\n"
     ]
    },
    {
     "name": "stderr",
     "output_type": "stream",
     "text": [
      "C:\\Users\\nvdun\\AppData\\Local\\Temp\\ipykernel_5460\\1029729830.py:9: FutureWarning: Series.__getitem__ treating keys as positions is deprecated. In a future version, integer keys will always be treated as labels (consistent with DataFrame behavior). To access a value by position, use `ser.iloc[pos]`\n",
      "  Top_9_SHolder = DF_.sum(axis=0)[2]\n",
      "C:\\Users\\nvdun\\AppData\\Local\\Temp\\ipykernel_5460\\1029729830.py:13: FutureWarning: Series.__getitem__ treating keys as positions is deprecated. In a future version, integer keys will always be treated as labels (consistent with DataFrame behavior). To access a value by position, use `ser.iloc[pos]`\n",
      "  Top_5_SHolder = DF_.sum(axis=0)[2]\n"
     ]
    },
    {
     "name": "stdout",
     "output_type": "stream",
     "text": [
      "32\n"
     ]
    },
    {
     "name": "stderr",
     "output_type": "stream",
     "text": [
      "C:\\Users\\nvdun\\AppData\\Local\\Temp\\ipykernel_5460\\1029729830.py:9: FutureWarning: Series.__getitem__ treating keys as positions is deprecated. In a future version, integer keys will always be treated as labels (consistent with DataFrame behavior). To access a value by position, use `ser.iloc[pos]`\n",
      "  Top_9_SHolder = DF_.sum(axis=0)[2]\n",
      "C:\\Users\\nvdun\\AppData\\Local\\Temp\\ipykernel_5460\\1029729830.py:13: FutureWarning: Series.__getitem__ treating keys as positions is deprecated. In a future version, integer keys will always be treated as labels (consistent with DataFrame behavior). To access a value by position, use `ser.iloc[pos]`\n",
      "  Top_5_SHolder = DF_.sum(axis=0)[2]\n"
     ]
    },
    {
     "name": "stdout",
     "output_type": "stream",
     "text": [
      "33\n"
     ]
    },
    {
     "name": "stderr",
     "output_type": "stream",
     "text": [
      "C:\\Users\\nvdun\\AppData\\Local\\Temp\\ipykernel_5460\\1029729830.py:9: FutureWarning: Series.__getitem__ treating keys as positions is deprecated. In a future version, integer keys will always be treated as labels (consistent with DataFrame behavior). To access a value by position, use `ser.iloc[pos]`\n",
      "  Top_9_SHolder = DF_.sum(axis=0)[2]\n",
      "C:\\Users\\nvdun\\AppData\\Local\\Temp\\ipykernel_5460\\1029729830.py:13: FutureWarning: Series.__getitem__ treating keys as positions is deprecated. In a future version, integer keys will always be treated as labels (consistent with DataFrame behavior). To access a value by position, use `ser.iloc[pos]`\n",
      "  Top_5_SHolder = DF_.sum(axis=0)[2]\n"
     ]
    },
    {
     "name": "stdout",
     "output_type": "stream",
     "text": [
      "34\n"
     ]
    },
    {
     "name": "stderr",
     "output_type": "stream",
     "text": [
      "C:\\Users\\nvdun\\AppData\\Local\\Temp\\ipykernel_5460\\1029729830.py:9: FutureWarning: Series.__getitem__ treating keys as positions is deprecated. In a future version, integer keys will always be treated as labels (consistent with DataFrame behavior). To access a value by position, use `ser.iloc[pos]`\n",
      "  Top_9_SHolder = DF_.sum(axis=0)[2]\n",
      "C:\\Users\\nvdun\\AppData\\Local\\Temp\\ipykernel_5460\\1029729830.py:13: FutureWarning: Series.__getitem__ treating keys as positions is deprecated. In a future version, integer keys will always be treated as labels (consistent with DataFrame behavior). To access a value by position, use `ser.iloc[pos]`\n",
      "  Top_5_SHolder = DF_.sum(axis=0)[2]\n"
     ]
    },
    {
     "name": "stdout",
     "output_type": "stream",
     "text": [
      "35\n"
     ]
    },
    {
     "name": "stderr",
     "output_type": "stream",
     "text": [
      "C:\\Users\\nvdun\\AppData\\Local\\Temp\\ipykernel_5460\\1029729830.py:9: FutureWarning: Series.__getitem__ treating keys as positions is deprecated. In a future version, integer keys will always be treated as labels (consistent with DataFrame behavior). To access a value by position, use `ser.iloc[pos]`\n",
      "  Top_9_SHolder = DF_.sum(axis=0)[2]\n",
      "C:\\Users\\nvdun\\AppData\\Local\\Temp\\ipykernel_5460\\1029729830.py:13: FutureWarning: Series.__getitem__ treating keys as positions is deprecated. In a future version, integer keys will always be treated as labels (consistent with DataFrame behavior). To access a value by position, use `ser.iloc[pos]`\n",
      "  Top_5_SHolder = DF_.sum(axis=0)[2]\n"
     ]
    },
    {
     "name": "stdout",
     "output_type": "stream",
     "text": [
      "36\n"
     ]
    },
    {
     "name": "stderr",
     "output_type": "stream",
     "text": [
      "C:\\Users\\nvdun\\AppData\\Local\\Temp\\ipykernel_5460\\1029729830.py:9: FutureWarning: Series.__getitem__ treating keys as positions is deprecated. In a future version, integer keys will always be treated as labels (consistent with DataFrame behavior). To access a value by position, use `ser.iloc[pos]`\n",
      "  Top_9_SHolder = DF_.sum(axis=0)[2]\n",
      "C:\\Users\\nvdun\\AppData\\Local\\Temp\\ipykernel_5460\\1029729830.py:13: FutureWarning: Series.__getitem__ treating keys as positions is deprecated. In a future version, integer keys will always be treated as labels (consistent with DataFrame behavior). To access a value by position, use `ser.iloc[pos]`\n",
      "  Top_5_SHolder = DF_.sum(axis=0)[2]\n"
     ]
    },
    {
     "name": "stdout",
     "output_type": "stream",
     "text": [
      "37\n"
     ]
    },
    {
     "name": "stderr",
     "output_type": "stream",
     "text": [
      "C:\\Users\\nvdun\\AppData\\Local\\Temp\\ipykernel_5460\\1029729830.py:9: FutureWarning: Series.__getitem__ treating keys as positions is deprecated. In a future version, integer keys will always be treated as labels (consistent with DataFrame behavior). To access a value by position, use `ser.iloc[pos]`\n",
      "  Top_9_SHolder = DF_.sum(axis=0)[2]\n",
      "C:\\Users\\nvdun\\AppData\\Local\\Temp\\ipykernel_5460\\1029729830.py:13: FutureWarning: Series.__getitem__ treating keys as positions is deprecated. In a future version, integer keys will always be treated as labels (consistent with DataFrame behavior). To access a value by position, use `ser.iloc[pos]`\n",
      "  Top_5_SHolder = DF_.sum(axis=0)[2]\n"
     ]
    },
    {
     "name": "stdout",
     "output_type": "stream",
     "text": [
      "38\n"
     ]
    },
    {
     "name": "stderr",
     "output_type": "stream",
     "text": [
      "C:\\Users\\nvdun\\AppData\\Local\\Temp\\ipykernel_5460\\1029729830.py:9: FutureWarning: Series.__getitem__ treating keys as positions is deprecated. In a future version, integer keys will always be treated as labels (consistent with DataFrame behavior). To access a value by position, use `ser.iloc[pos]`\n",
      "  Top_9_SHolder = DF_.sum(axis=0)[2]\n",
      "C:\\Users\\nvdun\\AppData\\Local\\Temp\\ipykernel_5460\\1029729830.py:13: FutureWarning: Series.__getitem__ treating keys as positions is deprecated. In a future version, integer keys will always be treated as labels (consistent with DataFrame behavior). To access a value by position, use `ser.iloc[pos]`\n",
      "  Top_5_SHolder = DF_.sum(axis=0)[2]\n"
     ]
    },
    {
     "name": "stdout",
     "output_type": "stream",
     "text": [
      "39\n"
     ]
    },
    {
     "name": "stderr",
     "output_type": "stream",
     "text": [
      "C:\\Users\\nvdun\\AppData\\Local\\Temp\\ipykernel_5460\\1029729830.py:9: FutureWarning: Series.__getitem__ treating keys as positions is deprecated. In a future version, integer keys will always be treated as labels (consistent with DataFrame behavior). To access a value by position, use `ser.iloc[pos]`\n",
      "  Top_9_SHolder = DF_.sum(axis=0)[2]\n",
      "C:\\Users\\nvdun\\AppData\\Local\\Temp\\ipykernel_5460\\1029729830.py:13: FutureWarning: Series.__getitem__ treating keys as positions is deprecated. In a future version, integer keys will always be treated as labels (consistent with DataFrame behavior). To access a value by position, use `ser.iloc[pos]`\n",
      "  Top_5_SHolder = DF_.sum(axis=0)[2]\n"
     ]
    },
    {
     "name": "stdout",
     "output_type": "stream",
     "text": [
      "40\n"
     ]
    },
    {
     "name": "stderr",
     "output_type": "stream",
     "text": [
      "C:\\Users\\nvdun\\AppData\\Local\\Temp\\ipykernel_5460\\1029729830.py:9: FutureWarning: Series.__getitem__ treating keys as positions is deprecated. In a future version, integer keys will always be treated as labels (consistent with DataFrame behavior). To access a value by position, use `ser.iloc[pos]`\n",
      "  Top_9_SHolder = DF_.sum(axis=0)[2]\n",
      "C:\\Users\\nvdun\\AppData\\Local\\Temp\\ipykernel_5460\\1029729830.py:13: FutureWarning: Series.__getitem__ treating keys as positions is deprecated. In a future version, integer keys will always be treated as labels (consistent with DataFrame behavior). To access a value by position, use `ser.iloc[pos]`\n",
      "  Top_5_SHolder = DF_.sum(axis=0)[2]\n"
     ]
    },
    {
     "name": "stdout",
     "output_type": "stream",
     "text": [
      "41\n"
     ]
    },
    {
     "name": "stderr",
     "output_type": "stream",
     "text": [
      "C:\\Users\\nvdun\\AppData\\Local\\Temp\\ipykernel_5460\\1029729830.py:9: FutureWarning: Series.__getitem__ treating keys as positions is deprecated. In a future version, integer keys will always be treated as labels (consistent with DataFrame behavior). To access a value by position, use `ser.iloc[pos]`\n",
      "  Top_9_SHolder = DF_.sum(axis=0)[2]\n",
      "C:\\Users\\nvdun\\AppData\\Local\\Temp\\ipykernel_5460\\1029729830.py:13: FutureWarning: Series.__getitem__ treating keys as positions is deprecated. In a future version, integer keys will always be treated as labels (consistent with DataFrame behavior). To access a value by position, use `ser.iloc[pos]`\n",
      "  Top_5_SHolder = DF_.sum(axis=0)[2]\n"
     ]
    },
    {
     "name": "stdout",
     "output_type": "stream",
     "text": [
      "42\n"
     ]
    },
    {
     "name": "stderr",
     "output_type": "stream",
     "text": [
      "C:\\Users\\nvdun\\AppData\\Local\\Temp\\ipykernel_5460\\1029729830.py:9: FutureWarning: Series.__getitem__ treating keys as positions is deprecated. In a future version, integer keys will always be treated as labels (consistent with DataFrame behavior). To access a value by position, use `ser.iloc[pos]`\n",
      "  Top_9_SHolder = DF_.sum(axis=0)[2]\n",
      "C:\\Users\\nvdun\\AppData\\Local\\Temp\\ipykernel_5460\\1029729830.py:13: FutureWarning: Series.__getitem__ treating keys as positions is deprecated. In a future version, integer keys will always be treated as labels (consistent with DataFrame behavior). To access a value by position, use `ser.iloc[pos]`\n",
      "  Top_5_SHolder = DF_.sum(axis=0)[2]\n"
     ]
    },
    {
     "name": "stdout",
     "output_type": "stream",
     "text": [
      "43\n"
     ]
    },
    {
     "name": "stderr",
     "output_type": "stream",
     "text": [
      "C:\\Users\\nvdun\\AppData\\Local\\Temp\\ipykernel_5460\\1029729830.py:9: FutureWarning: Series.__getitem__ treating keys as positions is deprecated. In a future version, integer keys will always be treated as labels (consistent with DataFrame behavior). To access a value by position, use `ser.iloc[pos]`\n",
      "  Top_9_SHolder = DF_.sum(axis=0)[2]\n",
      "C:\\Users\\nvdun\\AppData\\Local\\Temp\\ipykernel_5460\\1029729830.py:13: FutureWarning: Series.__getitem__ treating keys as positions is deprecated. In a future version, integer keys will always be treated as labels (consistent with DataFrame behavior). To access a value by position, use `ser.iloc[pos]`\n",
      "  Top_5_SHolder = DF_.sum(axis=0)[2]\n"
     ]
    },
    {
     "name": "stdout",
     "output_type": "stream",
     "text": [
      "44\n"
     ]
    },
    {
     "name": "stderr",
     "output_type": "stream",
     "text": [
      "C:\\Users\\nvdun\\AppData\\Local\\Temp\\ipykernel_5460\\1029729830.py:9: FutureWarning: Series.__getitem__ treating keys as positions is deprecated. In a future version, integer keys will always be treated as labels (consistent with DataFrame behavior). To access a value by position, use `ser.iloc[pos]`\n",
      "  Top_9_SHolder = DF_.sum(axis=0)[2]\n",
      "C:\\Users\\nvdun\\AppData\\Local\\Temp\\ipykernel_5460\\1029729830.py:13: FutureWarning: Series.__getitem__ treating keys as positions is deprecated. In a future version, integer keys will always be treated as labels (consistent with DataFrame behavior). To access a value by position, use `ser.iloc[pos]`\n",
      "  Top_5_SHolder = DF_.sum(axis=0)[2]\n"
     ]
    },
    {
     "name": "stdout",
     "output_type": "stream",
     "text": [
      "45\n"
     ]
    },
    {
     "name": "stderr",
     "output_type": "stream",
     "text": [
      "C:\\Users\\nvdun\\AppData\\Local\\Temp\\ipykernel_5460\\1029729830.py:9: FutureWarning: Series.__getitem__ treating keys as positions is deprecated. In a future version, integer keys will always be treated as labels (consistent with DataFrame behavior). To access a value by position, use `ser.iloc[pos]`\n",
      "  Top_9_SHolder = DF_.sum(axis=0)[2]\n",
      "C:\\Users\\nvdun\\AppData\\Local\\Temp\\ipykernel_5460\\1029729830.py:13: FutureWarning: Series.__getitem__ treating keys as positions is deprecated. In a future version, integer keys will always be treated as labels (consistent with DataFrame behavior). To access a value by position, use `ser.iloc[pos]`\n",
      "  Top_5_SHolder = DF_.sum(axis=0)[2]\n"
     ]
    },
    {
     "name": "stdout",
     "output_type": "stream",
     "text": [
      "46\n"
     ]
    },
    {
     "name": "stderr",
     "output_type": "stream",
     "text": [
      "C:\\Users\\nvdun\\AppData\\Local\\Temp\\ipykernel_5460\\1029729830.py:9: FutureWarning: Series.__getitem__ treating keys as positions is deprecated. In a future version, integer keys will always be treated as labels (consistent with DataFrame behavior). To access a value by position, use `ser.iloc[pos]`\n",
      "  Top_9_SHolder = DF_.sum(axis=0)[2]\n",
      "C:\\Users\\nvdun\\AppData\\Local\\Temp\\ipykernel_5460\\1029729830.py:13: FutureWarning: Series.__getitem__ treating keys as positions is deprecated. In a future version, integer keys will always be treated as labels (consistent with DataFrame behavior). To access a value by position, use `ser.iloc[pos]`\n",
      "  Top_5_SHolder = DF_.sum(axis=0)[2]\n"
     ]
    },
    {
     "name": "stdout",
     "output_type": "stream",
     "text": [
      "47\n"
     ]
    },
    {
     "name": "stderr",
     "output_type": "stream",
     "text": [
      "C:\\Users\\nvdun\\AppData\\Local\\Temp\\ipykernel_5460\\1029729830.py:9: FutureWarning: Series.__getitem__ treating keys as positions is deprecated. In a future version, integer keys will always be treated as labels (consistent with DataFrame behavior). To access a value by position, use `ser.iloc[pos]`\n",
      "  Top_9_SHolder = DF_.sum(axis=0)[2]\n",
      "C:\\Users\\nvdun\\AppData\\Local\\Temp\\ipykernel_5460\\1029729830.py:13: FutureWarning: Series.__getitem__ treating keys as positions is deprecated. In a future version, integer keys will always be treated as labels (consistent with DataFrame behavior). To access a value by position, use `ser.iloc[pos]`\n",
      "  Top_5_SHolder = DF_.sum(axis=0)[2]\n"
     ]
    },
    {
     "name": "stdout",
     "output_type": "stream",
     "text": [
      "48\n"
     ]
    },
    {
     "name": "stderr",
     "output_type": "stream",
     "text": [
      "C:\\Users\\nvdun\\AppData\\Local\\Temp\\ipykernel_5460\\1029729830.py:9: FutureWarning: Series.__getitem__ treating keys as positions is deprecated. In a future version, integer keys will always be treated as labels (consistent with DataFrame behavior). To access a value by position, use `ser.iloc[pos]`\n",
      "  Top_9_SHolder = DF_.sum(axis=0)[2]\n",
      "C:\\Users\\nvdun\\AppData\\Local\\Temp\\ipykernel_5460\\1029729830.py:13: FutureWarning: Series.__getitem__ treating keys as positions is deprecated. In a future version, integer keys will always be treated as labels (consistent with DataFrame behavior). To access a value by position, use `ser.iloc[pos]`\n",
      "  Top_5_SHolder = DF_.sum(axis=0)[2]\n"
     ]
    },
    {
     "name": "stdout",
     "output_type": "stream",
     "text": [
      "49\n"
     ]
    },
    {
     "name": "stderr",
     "output_type": "stream",
     "text": [
      "C:\\Users\\nvdun\\AppData\\Local\\Temp\\ipykernel_5460\\1029729830.py:9: FutureWarning: Series.__getitem__ treating keys as positions is deprecated. In a future version, integer keys will always be treated as labels (consistent with DataFrame behavior). To access a value by position, use `ser.iloc[pos]`\n",
      "  Top_9_SHolder = DF_.sum(axis=0)[2]\n",
      "C:\\Users\\nvdun\\AppData\\Local\\Temp\\ipykernel_5460\\1029729830.py:13: FutureWarning: Series.__getitem__ treating keys as positions is deprecated. In a future version, integer keys will always be treated as labels (consistent with DataFrame behavior). To access a value by position, use `ser.iloc[pos]`\n",
      "  Top_5_SHolder = DF_.sum(axis=0)[2]\n"
     ]
    },
    {
     "name": "stdout",
     "output_type": "stream",
     "text": [
      "50\n"
     ]
    },
    {
     "name": "stderr",
     "output_type": "stream",
     "text": [
      "C:\\Users\\nvdun\\AppData\\Local\\Temp\\ipykernel_5460\\1029729830.py:9: FutureWarning: Series.__getitem__ treating keys as positions is deprecated. In a future version, integer keys will always be treated as labels (consistent with DataFrame behavior). To access a value by position, use `ser.iloc[pos]`\n",
      "  Top_9_SHolder = DF_.sum(axis=0)[2]\n",
      "C:\\Users\\nvdun\\AppData\\Local\\Temp\\ipykernel_5460\\1029729830.py:13: FutureWarning: Series.__getitem__ treating keys as positions is deprecated. In a future version, integer keys will always be treated as labels (consistent with DataFrame behavior). To access a value by position, use `ser.iloc[pos]`\n",
      "  Top_5_SHolder = DF_.sum(axis=0)[2]\n"
     ]
    },
    {
     "name": "stdout",
     "output_type": "stream",
     "text": [
      "51\n"
     ]
    },
    {
     "name": "stderr",
     "output_type": "stream",
     "text": [
      "C:\\Users\\nvdun\\AppData\\Local\\Temp\\ipykernel_5460\\1029729830.py:9: FutureWarning: Series.__getitem__ treating keys as positions is deprecated. In a future version, integer keys will always be treated as labels (consistent with DataFrame behavior). To access a value by position, use `ser.iloc[pos]`\n",
      "  Top_9_SHolder = DF_.sum(axis=0)[2]\n",
      "C:\\Users\\nvdun\\AppData\\Local\\Temp\\ipykernel_5460\\1029729830.py:13: FutureWarning: Series.__getitem__ treating keys as positions is deprecated. In a future version, integer keys will always be treated as labels (consistent with DataFrame behavior). To access a value by position, use `ser.iloc[pos]`\n",
      "  Top_5_SHolder = DF_.sum(axis=0)[2]\n"
     ]
    },
    {
     "name": "stdout",
     "output_type": "stream",
     "text": [
      "52\n"
     ]
    },
    {
     "name": "stderr",
     "output_type": "stream",
     "text": [
      "C:\\Users\\nvdun\\AppData\\Local\\Temp\\ipykernel_5460\\1029729830.py:9: FutureWarning: Series.__getitem__ treating keys as positions is deprecated. In a future version, integer keys will always be treated as labels (consistent with DataFrame behavior). To access a value by position, use `ser.iloc[pos]`\n",
      "  Top_9_SHolder = DF_.sum(axis=0)[2]\n",
      "C:\\Users\\nvdun\\AppData\\Local\\Temp\\ipykernel_5460\\1029729830.py:13: FutureWarning: Series.__getitem__ treating keys as positions is deprecated. In a future version, integer keys will always be treated as labels (consistent with DataFrame behavior). To access a value by position, use `ser.iloc[pos]`\n",
      "  Top_5_SHolder = DF_.sum(axis=0)[2]\n"
     ]
    },
    {
     "name": "stdout",
     "output_type": "stream",
     "text": [
      "53\n"
     ]
    },
    {
     "name": "stderr",
     "output_type": "stream",
     "text": [
      "C:\\Users\\nvdun\\AppData\\Local\\Temp\\ipykernel_5460\\1029729830.py:9: FutureWarning: Series.__getitem__ treating keys as positions is deprecated. In a future version, integer keys will always be treated as labels (consistent with DataFrame behavior). To access a value by position, use `ser.iloc[pos]`\n",
      "  Top_9_SHolder = DF_.sum(axis=0)[2]\n",
      "C:\\Users\\nvdun\\AppData\\Local\\Temp\\ipykernel_5460\\1029729830.py:13: FutureWarning: Series.__getitem__ treating keys as positions is deprecated. In a future version, integer keys will always be treated as labels (consistent with DataFrame behavior). To access a value by position, use `ser.iloc[pos]`\n",
      "  Top_5_SHolder = DF_.sum(axis=0)[2]\n"
     ]
    },
    {
     "name": "stdout",
     "output_type": "stream",
     "text": [
      "54\n"
     ]
    },
    {
     "name": "stderr",
     "output_type": "stream",
     "text": [
      "C:\\Users\\nvdun\\AppData\\Local\\Temp\\ipykernel_5460\\1029729830.py:9: FutureWarning: Series.__getitem__ treating keys as positions is deprecated. In a future version, integer keys will always be treated as labels (consistent with DataFrame behavior). To access a value by position, use `ser.iloc[pos]`\n",
      "  Top_9_SHolder = DF_.sum(axis=0)[2]\n",
      "C:\\Users\\nvdun\\AppData\\Local\\Temp\\ipykernel_5460\\1029729830.py:13: FutureWarning: Series.__getitem__ treating keys as positions is deprecated. In a future version, integer keys will always be treated as labels (consistent with DataFrame behavior). To access a value by position, use `ser.iloc[pos]`\n",
      "  Top_5_SHolder = DF_.sum(axis=0)[2]\n"
     ]
    },
    {
     "name": "stdout",
     "output_type": "stream",
     "text": [
      "55\n"
     ]
    },
    {
     "name": "stderr",
     "output_type": "stream",
     "text": [
      "C:\\Users\\nvdun\\AppData\\Local\\Temp\\ipykernel_5460\\1029729830.py:9: FutureWarning: Series.__getitem__ treating keys as positions is deprecated. In a future version, integer keys will always be treated as labels (consistent with DataFrame behavior). To access a value by position, use `ser.iloc[pos]`\n",
      "  Top_9_SHolder = DF_.sum(axis=0)[2]\n",
      "C:\\Users\\nvdun\\AppData\\Local\\Temp\\ipykernel_5460\\1029729830.py:13: FutureWarning: Series.__getitem__ treating keys as positions is deprecated. In a future version, integer keys will always be treated as labels (consistent with DataFrame behavior). To access a value by position, use `ser.iloc[pos]`\n",
      "  Top_5_SHolder = DF_.sum(axis=0)[2]\n"
     ]
    },
    {
     "name": "stdout",
     "output_type": "stream",
     "text": [
      "56\n"
     ]
    },
    {
     "name": "stderr",
     "output_type": "stream",
     "text": [
      "C:\\Users\\nvdun\\AppData\\Local\\Temp\\ipykernel_5460\\1029729830.py:9: FutureWarning: Series.__getitem__ treating keys as positions is deprecated. In a future version, integer keys will always be treated as labels (consistent with DataFrame behavior). To access a value by position, use `ser.iloc[pos]`\n",
      "  Top_9_SHolder = DF_.sum(axis=0)[2]\n",
      "C:\\Users\\nvdun\\AppData\\Local\\Temp\\ipykernel_5460\\1029729830.py:13: FutureWarning: Series.__getitem__ treating keys as positions is deprecated. In a future version, integer keys will always be treated as labels (consistent with DataFrame behavior). To access a value by position, use `ser.iloc[pos]`\n",
      "  Top_5_SHolder = DF_.sum(axis=0)[2]\n"
     ]
    },
    {
     "name": "stdout",
     "output_type": "stream",
     "text": [
      "57\n",
      "Error in EIB\n",
      "Error in LPB\n",
      "Error in MSB\n",
      "Error in OCB\n",
      "Error in DHC\n",
      "Error in PTB\n",
      "Error in HSG\n",
      "Error in NKG\n",
      "Error in AAA\n",
      "Error in DCM\n",
      "Error in DGC\n",
      "Error in DPM\n",
      "Error in PHR\n",
      "Error in ANV\n",
      "Error in ASM\n",
      "Error in DBC\n",
      "Error in HAG\n",
      "Error in KDC\n",
      "Error in PAN\n",
      "Error in SBT\n",
      "Error in VHC\n",
      "Error in PNJ\n",
      "Error in SCS\n",
      "Error in DGW\n",
      "Error in FRT\n",
      "Error in PVD\n",
      "Error in IMP\n",
      "Error in SAM\n",
      "Error in CMG\n",
      "Error in BMP\n",
      "Error in CII\n",
      "Error in CTR\n",
      "Error in HHV\n",
      "Error in HT1\n",
      "Error in PC1\n",
      "Error in VCG\n",
      "Error in VGC\n",
      "Error in GEX\n",
      "Error in GMD\n",
      "Error in PVT\n",
      "Error in TMS\n",
      "Error in REE\n",
      "Error in NET\n",
      "Error in CTD\n",
      "Error in VCF\n",
      "Error in NVL\n"
     ]
    }
   ],
   "source": [
    "count =0\n",
    "\n",
    "for TCK in List_TCK:\n",
    "    try:\n",
    "        count +=1\n",
    "        DF_Profile = vnstock.company_overview(TCK)\n",
    "        DF_ = vnstock.company_large_shareholders(TCK)\n",
    "        DF_.drop(DF_.index[-1:],inplace=True)\n",
    "        Top_9_SHolder = DF_.sum(axis=0)[2]\n",
    "        if(Top_9_SHolder>1): \n",
    "            Top_9_SHolder = 1\n",
    "        DF_.drop(DF_.index[-4:],inplace=True)\n",
    "        Top_5_SHolder = DF_.sum(axis=0)[2]\n",
    "        if(Top_5_SHolder>1): \n",
    "            Top_5_SHolder = 1\n",
    "        DF_Profile['T9_SHolder']=Top_9_SHolder\n",
    "        DF_Profile['T5_SHolder']=Top_5_SHolder\n",
    "        Free_float = DF_Profile.iloc[0,6]/DF_Profile.iloc[0,7]\n",
    "        if(Free_float>1):\n",
    "            Free_float = 1\n",
    "        DF_Profile['Free_float'] = Free_float\n",
    "        DF_Profile.to_sql('Profile_',conn,if_exists='replace',index=False)\n",
    "        print(count)\n",
    "    except:\n",
    "        print(f'Error in {TCK}')\n"
   ]
  },
  {
   "cell_type": "code",
   "execution_count": 8,
   "metadata": {},
   "outputs": [
    {
     "ename": "KeyError",
     "evalue": "\"None of [Index(['year', 'quarter'], dtype='object')] are in the [columns]\"",
     "output_type": "error",
     "traceback": [
      "\u001b[1;31m---------------------------------------------------------------------------\u001b[0m",
      "\u001b[1;31mKeyError\u001b[0m                                  Traceback (most recent call last)",
      "Cell \u001b[1;32mIn[8], line 3\u001b[0m\n\u001b[0;32m      1\u001b[0m DF_Q_BS \u001b[38;5;241m=\u001b[39m pd\u001b[38;5;241m.\u001b[39mDataFrame()\n\u001b[0;32m      2\u001b[0m \u001b[38;5;28;01mfor\u001b[39;00m TCK \u001b[38;5;129;01min\u001b[39;00m List_TCK:\n\u001b[1;32m----> 3\u001b[0m     DF_FStatement \u001b[38;5;241m=\u001b[39m \u001b[43mvnstock\u001b[49m\u001b[38;5;241;43m.\u001b[39;49m\u001b[43mfinancial_flow\u001b[49m\u001b[43m(\u001b[49m\u001b[43mTCK\u001b[49m\u001b[43m,\u001b[49m\u001b[38;5;124;43m'\u001b[39;49m\u001b[38;5;124;43mbalancesheet\u001b[39;49m\u001b[38;5;124;43m'\u001b[39;49m\u001b[43m,\u001b[49m\u001b[38;5;124;43m'\u001b[39;49m\u001b[38;5;124;43mquarterly\u001b[39;49m\u001b[38;5;124;43m'\u001b[39;49m\u001b[43m,\u001b[49m\u001b[43mget_all\u001b[49m\u001b[38;5;241;43m=\u001b[39;49m\u001b[38;5;28;43;01mFalse\u001b[39;49;00m\u001b[43m)\u001b[49m\n\u001b[0;32m      4\u001b[0m     DF_FStatement\u001b[38;5;241m.\u001b[39mreset_index(inplace\u001b[38;5;241m=\u001b[39m\u001b[38;5;28;01mTrue\u001b[39;00m)\n\u001b[0;32m      5\u001b[0m     DF_Q_BS \u001b[38;5;241m=\u001b[39m pd\u001b[38;5;241m.\u001b[39mconcat([DF_Q_BS,DF_FStatement],ignore_index\u001b[38;5;241m=\u001b[39m\u001b[38;5;28;01mTrue\u001b[39;00m)\n",
      "File \u001b[1;32mc:\\Users\\nvdun\\AppData\\Local\\Programs\\Python\\Python310\\lib\\site-packages\\vnstock\\fundamental.py:320\u001b[0m, in \u001b[0;36mfinancial_flow\u001b[1;34m(symbol, report_type, report_range, get_all)\u001b[0m\n\u001b[0;32m    318\u001b[0m data \u001b[38;5;241m=\u001b[39m requests\u001b[38;5;241m.\u001b[39mget(\u001b[38;5;124mf\u001b[39m\u001b[38;5;124m'\u001b[39m\u001b[38;5;124mhttps://apipubaws.tcbs.com.vn/tcanalysis/v1/finance/\u001b[39m\u001b[38;5;132;01m{\u001b[39;00msymbol\u001b[38;5;132;01m}\u001b[39;00m\u001b[38;5;124m/\u001b[39m\u001b[38;5;132;01m{\u001b[39;00mreport_type\u001b[38;5;132;01m}\u001b[39;00m\u001b[38;5;124m'\u001b[39m, params\u001b[38;5;241m=\u001b[39m{\u001b[38;5;124m'\u001b[39m\u001b[38;5;124myearly\u001b[39m\u001b[38;5;124m'\u001b[39m: \u001b[38;5;28mrange\u001b[39m, \u001b[38;5;124m'\u001b[39m\u001b[38;5;124misAll\u001b[39m\u001b[38;5;124m'\u001b[39m: get_all})\u001b[38;5;241m.\u001b[39mjson()\n\u001b[0;32m    319\u001b[0m df \u001b[38;5;241m=\u001b[39m json_normalize(data)\n\u001b[1;32m--> 320\u001b[0m df[[\u001b[38;5;124m'\u001b[39m\u001b[38;5;124myear\u001b[39m\u001b[38;5;124m'\u001b[39m, \u001b[38;5;124m'\u001b[39m\u001b[38;5;124mquarter\u001b[39m\u001b[38;5;124m'\u001b[39m]] \u001b[38;5;241m=\u001b[39m \u001b[43mdf\u001b[49m\u001b[43m[\u001b[49m\u001b[43m[\u001b[49m\u001b[38;5;124;43m'\u001b[39;49m\u001b[38;5;124;43myear\u001b[39;49m\u001b[38;5;124;43m'\u001b[39;49m\u001b[43m,\u001b[49m\u001b[43m \u001b[49m\u001b[38;5;124;43m'\u001b[39;49m\u001b[38;5;124;43mquarter\u001b[39;49m\u001b[38;5;124;43m'\u001b[39;49m\u001b[43m]\u001b[49m\u001b[43m]\u001b[49m\u001b[38;5;241m.\u001b[39mastype(\u001b[38;5;28mstr\u001b[39m)\n\u001b[0;32m    321\u001b[0m \u001b[38;5;66;03m# if report_range == 'yearly' then set index to df['year'], else set index to df['year'] + df['quarter']\u001b[39;00m\n\u001b[0;32m    322\u001b[0m \u001b[38;5;28;01mif\u001b[39;00m report_range \u001b[38;5;241m==\u001b[39m \u001b[38;5;124m'\u001b[39m\u001b[38;5;124myearly\u001b[39m\u001b[38;5;124m'\u001b[39m:\n",
      "File \u001b[1;32mc:\\Users\\nvdun\\AppData\\Local\\Programs\\Python\\Python310\\lib\\site-packages\\pandas\\core\\frame.py:3902\u001b[0m, in \u001b[0;36mDataFrame.__getitem__\u001b[1;34m(self, key)\u001b[0m\n\u001b[0;32m   3900\u001b[0m     \u001b[38;5;28;01mif\u001b[39;00m is_iterator(key):\n\u001b[0;32m   3901\u001b[0m         key \u001b[38;5;241m=\u001b[39m \u001b[38;5;28mlist\u001b[39m(key)\n\u001b[1;32m-> 3902\u001b[0m     indexer \u001b[38;5;241m=\u001b[39m \u001b[38;5;28;43mself\u001b[39;49m\u001b[38;5;241;43m.\u001b[39;49m\u001b[43mcolumns\u001b[49m\u001b[38;5;241;43m.\u001b[39;49m\u001b[43m_get_indexer_strict\u001b[49m\u001b[43m(\u001b[49m\u001b[43mkey\u001b[49m\u001b[43m,\u001b[49m\u001b[43m \u001b[49m\u001b[38;5;124;43m\"\u001b[39;49m\u001b[38;5;124;43mcolumns\u001b[39;49m\u001b[38;5;124;43m\"\u001b[39;49m\u001b[43m)\u001b[49m[\u001b[38;5;241m1\u001b[39m]\n\u001b[0;32m   3904\u001b[0m \u001b[38;5;66;03m# take() does not accept boolean indexers\u001b[39;00m\n\u001b[0;32m   3905\u001b[0m \u001b[38;5;28;01mif\u001b[39;00m \u001b[38;5;28mgetattr\u001b[39m(indexer, \u001b[38;5;124m\"\u001b[39m\u001b[38;5;124mdtype\u001b[39m\u001b[38;5;124m\"\u001b[39m, \u001b[38;5;28;01mNone\u001b[39;00m) \u001b[38;5;241m==\u001b[39m \u001b[38;5;28mbool\u001b[39m:\n",
      "File \u001b[1;32mc:\\Users\\nvdun\\AppData\\Local\\Programs\\Python\\Python310\\lib\\site-packages\\pandas\\core\\indexes\\base.py:6114\u001b[0m, in \u001b[0;36mIndex._get_indexer_strict\u001b[1;34m(self, key, axis_name)\u001b[0m\n\u001b[0;32m   6111\u001b[0m \u001b[38;5;28;01melse\u001b[39;00m:\n\u001b[0;32m   6112\u001b[0m     keyarr, indexer, new_indexer \u001b[38;5;241m=\u001b[39m \u001b[38;5;28mself\u001b[39m\u001b[38;5;241m.\u001b[39m_reindex_non_unique(keyarr)\n\u001b[1;32m-> 6114\u001b[0m \u001b[38;5;28;43mself\u001b[39;49m\u001b[38;5;241;43m.\u001b[39;49m\u001b[43m_raise_if_missing\u001b[49m\u001b[43m(\u001b[49m\u001b[43mkeyarr\u001b[49m\u001b[43m,\u001b[49m\u001b[43m \u001b[49m\u001b[43mindexer\u001b[49m\u001b[43m,\u001b[49m\u001b[43m \u001b[49m\u001b[43maxis_name\u001b[49m\u001b[43m)\u001b[49m\n\u001b[0;32m   6116\u001b[0m keyarr \u001b[38;5;241m=\u001b[39m \u001b[38;5;28mself\u001b[39m\u001b[38;5;241m.\u001b[39mtake(indexer)\n\u001b[0;32m   6117\u001b[0m \u001b[38;5;28;01mif\u001b[39;00m \u001b[38;5;28misinstance\u001b[39m(key, Index):\n\u001b[0;32m   6118\u001b[0m     \u001b[38;5;66;03m# GH 42790 - Preserve name from an Index\u001b[39;00m\n",
      "File \u001b[1;32mc:\\Users\\nvdun\\AppData\\Local\\Programs\\Python\\Python310\\lib\\site-packages\\pandas\\core\\indexes\\base.py:6175\u001b[0m, in \u001b[0;36mIndex._raise_if_missing\u001b[1;34m(self, key, indexer, axis_name)\u001b[0m\n\u001b[0;32m   6173\u001b[0m     \u001b[38;5;28;01mif\u001b[39;00m use_interval_msg:\n\u001b[0;32m   6174\u001b[0m         key \u001b[38;5;241m=\u001b[39m \u001b[38;5;28mlist\u001b[39m(key)\n\u001b[1;32m-> 6175\u001b[0m     \u001b[38;5;28;01mraise\u001b[39;00m \u001b[38;5;167;01mKeyError\u001b[39;00m(\u001b[38;5;124mf\u001b[39m\u001b[38;5;124m\"\u001b[39m\u001b[38;5;124mNone of [\u001b[39m\u001b[38;5;132;01m{\u001b[39;00mkey\u001b[38;5;132;01m}\u001b[39;00m\u001b[38;5;124m] are in the [\u001b[39m\u001b[38;5;132;01m{\u001b[39;00maxis_name\u001b[38;5;132;01m}\u001b[39;00m\u001b[38;5;124m]\u001b[39m\u001b[38;5;124m\"\u001b[39m)\n\u001b[0;32m   6177\u001b[0m not_found \u001b[38;5;241m=\u001b[39m \u001b[38;5;28mlist\u001b[39m(ensure_index(key)[missing_mask\u001b[38;5;241m.\u001b[39mnonzero()[\u001b[38;5;241m0\u001b[39m]]\u001b[38;5;241m.\u001b[39munique())\n\u001b[0;32m   6178\u001b[0m \u001b[38;5;28;01mraise\u001b[39;00m \u001b[38;5;167;01mKeyError\u001b[39;00m(\u001b[38;5;124mf\u001b[39m\u001b[38;5;124m\"\u001b[39m\u001b[38;5;132;01m{\u001b[39;00mnot_found\u001b[38;5;132;01m}\u001b[39;00m\u001b[38;5;124m not in index\u001b[39m\u001b[38;5;124m\"\u001b[39m)\n",
      "\u001b[1;31mKeyError\u001b[0m: \"None of [Index(['year', 'quarter'], dtype='object')] are in the [columns]\""
     ]
    }
   ],
   "source": [
    "DF_Q_BS = pd.DataFrame()\n",
    "for TCK in List_TCK:\n",
    "    DF_FStatement = vnstock.financial_flow(TCK,'balancesheet','quarter',get_all=False)\n",
    "    DF_FStatement.reset_index(inplace=True)\n",
    "    DF_Q_BS = pd.concat([DF_Q_BS,DF_FStatement],ignore_index=True)\n",
    "    print(DF_Q_BS.shape)"
   ]
  },
  {
   "cell_type": "code",
   "execution_count": null,
   "metadata": {},
   "outputs": [
    {
     "data": {
      "text/plain": [
       "1000"
      ]
     },
     "execution_count": 13,
     "metadata": {},
     "output_type": "execute_result"
    }
   ],
   "source": [
    "DF_Q_BS.to_sql('BalanceSheet_Q',conn,if_exists='replace',index=False)"
   ]
  },
  {
   "cell_type": "code",
   "execution_count": null,
   "metadata": {},
   "outputs": [
    {
     "name": "stdout",
     "output_type": "stream",
     "text": [
      "(5, 36)\n",
      "(10, 36)\n",
      "(15, 36)\n",
      "(20, 36)\n",
      "(25, 36)\n",
      "(30, 36)\n",
      "(35, 36)\n",
      "(40, 36)\n",
      "(45, 36)\n",
      "(50, 36)\n",
      "(55, 36)\n",
      "(60, 36)\n",
      "(65, 36)\n",
      "(70, 36)\n",
      "(75, 36)\n",
      "(80, 36)\n",
      "(85, 36)\n",
      "(90, 36)\n",
      "(95, 36)\n",
      "(100, 36)\n",
      "(105, 36)\n",
      "(110, 36)\n",
      "(115, 36)\n",
      "(120, 36)\n",
      "(125, 36)\n",
      "(130, 36)\n",
      "(135, 36)\n",
      "(140, 36)\n",
      "(145, 36)\n",
      "(150, 36)\n",
      "(155, 36)\n",
      "(160, 36)\n",
      "(165, 36)\n",
      "(170, 36)\n",
      "(175, 36)\n",
      "(180, 36)\n",
      "(185, 36)\n",
      "(190, 36)\n",
      "(195, 36)\n",
      "(200, 36)\n",
      "(205, 36)\n",
      "(210, 36)\n",
      "(215, 36)\n",
      "(220, 36)\n",
      "(225, 36)\n",
      "(230, 36)\n",
      "(235, 36)\n",
      "(240, 36)\n",
      "(245, 36)\n",
      "(250, 36)\n",
      "(255, 36)\n",
      "(260, 36)\n",
      "(265, 36)\n",
      "(270, 36)\n",
      "(275, 36)\n",
      "(280, 36)\n",
      "(285, 36)\n",
      "(290, 36)\n",
      "(295, 36)\n",
      "(300, 36)\n",
      "(305, 36)\n",
      "(310, 36)\n",
      "(315, 36)\n",
      "(320, 36)\n",
      "(325, 36)\n",
      "(330, 36)\n",
      "(335, 36)\n",
      "(340, 36)\n",
      "(345, 36)\n",
      "(350, 36)\n",
      "(355, 36)\n",
      "(360, 36)\n",
      "(365, 36)\n",
      "(370, 36)\n",
      "(375, 36)\n",
      "(380, 36)\n",
      "(385, 36)\n",
      "(390, 36)\n",
      "(395, 36)\n",
      "(400, 36)\n",
      "(405, 36)\n",
      "(410, 36)\n",
      "(415, 36)\n",
      "(420, 36)\n",
      "(425, 36)\n",
      "(430, 36)\n",
      "(435, 36)\n",
      "(440, 36)\n",
      "(445, 36)\n",
      "(450, 36)\n",
      "(455, 36)\n",
      "(460, 36)\n",
      "(465, 36)\n",
      "(470, 36)\n",
      "(475, 36)\n",
      "(480, 36)\n",
      "(485, 36)\n",
      "(490, 36)\n",
      "(495, 36)\n",
      "(500, 36)\n"
     ]
    }
   ],
   "source": [
    "DF_Y_BS = pd.DataFrame()\n",
    "for TCK in List_TCK:\n",
    "    DF_FStatement = vnstock.financial_flow(TCK,'balancesheet','yearly',get_all=False)\n",
    "    DF_FStatement.reset_index(inplace=True)\n",
    "    DF_Y_BS = pd.concat([DF_Y_BS,DF_FStatement],ignore_index=True)\n",
    "    print(DF_Y_BS.shape)"
   ]
  },
  {
   "cell_type": "code",
   "execution_count": null,
   "metadata": {},
   "outputs": [
    {
     "data": {
      "text/plain": [
       "500"
      ]
     },
     "execution_count": 15,
     "metadata": {},
     "output_type": "execute_result"
    }
   ],
   "source": [
    "DF_Y_BS.to_sql('BalanceSheet_Y',conn,if_exists='replace',index=False)"
   ]
  },
  {
   "cell_type": "code",
   "execution_count": null,
   "metadata": {},
   "outputs": [
    {
     "name": "stdout",
     "output_type": "stream",
     "text": [
      "(10, 23)\n",
      "(20, 23)\n",
      "(30, 23)\n",
      "(40, 23)\n",
      "(50, 23)\n"
     ]
    },
    {
     "name": "stderr",
     "output_type": "stream",
     "text": [
      "C:\\Users\\nvdun\\AppData\\Local\\Temp\\ipykernel_5892\\2980697082.py:5: FutureWarning: The behavior of DataFrame concatenation with empty or all-NA entries is deprecated. In a future version, this will no longer exclude empty or all-NA columns when determining the result dtypes. To retain the old behavior, exclude the relevant entries before the concat operation.\n",
      "  DF_Q_PnL = pd.concat([DF_Q_PnL,DF_FStatement],ignore_index=True)\n"
     ]
    },
    {
     "name": "stdout",
     "output_type": "stream",
     "text": [
      "(60, 23)\n",
      "(70, 23)\n",
      "(80, 23)\n",
      "(90, 23)\n",
      "(100, 23)\n",
      "(110, 23)\n",
      "(120, 23)\n",
      "(130, 23)\n",
      "(140, 23)\n",
      "(150, 23)\n",
      "(160, 23)\n",
      "(170, 23)\n",
      "(180, 23)\n",
      "(190, 23)\n",
      "(200, 23)\n",
      "(210, 23)\n",
      "(220, 23)\n",
      "(230, 23)\n",
      "(240, 23)\n",
      "(250, 23)\n",
      "(260, 23)\n",
      "(270, 23)\n",
      "(280, 23)\n",
      "(290, 23)\n",
      "(300, 23)\n",
      "(310, 23)\n",
      "(320, 23)\n",
      "(330, 23)\n",
      "(340, 23)\n",
      "(350, 23)\n",
      "(360, 23)\n",
      "(370, 23)\n",
      "(380, 23)\n",
      "(390, 23)\n",
      "(400, 23)\n",
      "(410, 23)\n",
      "(420, 23)\n",
      "(430, 23)\n",
      "(440, 23)\n",
      "(450, 23)\n",
      "(460, 23)\n",
      "(470, 23)\n",
      "(480, 23)\n",
      "(490, 23)\n",
      "(500, 23)\n",
      "(510, 23)\n",
      "(520, 23)\n",
      "(530, 23)\n",
      "(540, 23)\n",
      "(550, 23)\n",
      "(560, 23)\n",
      "(570, 23)\n",
      "(580, 23)\n",
      "(590, 23)\n",
      "(600, 23)\n",
      "(610, 23)\n",
      "(620, 23)\n",
      "(630, 23)\n",
      "(640, 23)\n",
      "(650, 23)\n",
      "(660, 23)\n",
      "(670, 23)\n",
      "(680, 23)\n",
      "(690, 23)\n",
      "(700, 23)\n",
      "(710, 23)\n",
      "(720, 23)\n",
      "(730, 23)\n",
      "(740, 23)\n",
      "(750, 23)\n",
      "(760, 23)\n",
      "(770, 23)\n",
      "(780, 23)\n",
      "(790, 23)\n",
      "(800, 23)\n",
      "(810, 23)\n",
      "(820, 23)\n",
      "(830, 23)\n",
      "(840, 23)\n",
      "(850, 23)\n",
      "(860, 23)\n",
      "(870, 23)\n",
      "(880, 23)\n"
     ]
    },
    {
     "name": "stderr",
     "output_type": "stream",
     "text": [
      "C:\\Users\\nvdun\\AppData\\Local\\Temp\\ipykernel_5892\\2980697082.py:5: FutureWarning: The behavior of DataFrame concatenation with empty or all-NA entries is deprecated. In a future version, this will no longer exclude empty or all-NA columns when determining the result dtypes. To retain the old behavior, exclude the relevant entries before the concat operation.\n",
      "  DF_Q_PnL = pd.concat([DF_Q_PnL,DF_FStatement],ignore_index=True)\n"
     ]
    },
    {
     "name": "stdout",
     "output_type": "stream",
     "text": [
      "(890, 23)\n",
      "(900, 23)\n",
      "(910, 23)\n",
      "(920, 23)\n",
      "(930, 23)\n",
      "(940, 23)\n",
      "(950, 23)\n",
      "(960, 23)\n",
      "(970, 23)\n",
      "(980, 23)\n",
      "(990, 23)\n",
      "(1000, 23)\n"
     ]
    }
   ],
   "source": [
    "DF_Q_PnL = pd.DataFrame()\n",
    "for TCK in List_TCK:\n",
    "    DF_FStatement = vnstock.financial_flow(TCK,'incomestatement','quarterly',get_all=False)\n",
    "    DF_FStatement.reset_index(inplace=True)\n",
    "    DF_Q_PnL = pd.concat([DF_Q_PnL,DF_FStatement],ignore_index=True)\n",
    "    print(DF_Q_PnL.shape)"
   ]
  },
  {
   "cell_type": "code",
   "execution_count": null,
   "metadata": {},
   "outputs": [
    {
     "data": {
      "text/plain": [
       "1000"
      ]
     },
     "execution_count": 17,
     "metadata": {},
     "output_type": "execute_result"
    }
   ],
   "source": [
    "DF_Q_PnL.to_sql('PnL_Q',conn,if_exists='replace',index=False)"
   ]
  },
  {
   "cell_type": "code",
   "execution_count": null,
   "metadata": {},
   "outputs": [
    {
     "name": "stdout",
     "output_type": "stream",
     "text": [
      "(5, 23)\n",
      "(10, 23)\n",
      "(15, 23)\n",
      "(20, 23)\n",
      "(25, 23)\n"
     ]
    },
    {
     "name": "stderr",
     "output_type": "stream",
     "text": [
      "C:\\Users\\nvdun\\AppData\\Local\\Temp\\ipykernel_5892\\3927387735.py:5: FutureWarning: The behavior of DataFrame concatenation with empty or all-NA entries is deprecated. In a future version, this will no longer exclude empty or all-NA columns when determining the result dtypes. To retain the old behavior, exclude the relevant entries before the concat operation.\n",
      "  DF_Y_PnL = pd.concat([DF_Y_PnL,DF_FStatement],ignore_index=True)\n"
     ]
    },
    {
     "name": "stdout",
     "output_type": "stream",
     "text": [
      "(30, 23)\n",
      "(35, 23)\n",
      "(40, 23)\n",
      "(45, 23)\n",
      "(50, 23)\n",
      "(55, 23)\n",
      "(60, 23)\n",
      "(65, 23)\n",
      "(70, 23)\n",
      "(75, 23)\n",
      "(80, 23)\n",
      "(85, 23)\n",
      "(90, 23)\n",
      "(95, 23)\n",
      "(100, 23)\n",
      "(105, 23)\n",
      "(110, 23)\n",
      "(115, 23)\n",
      "(120, 23)\n",
      "(125, 23)\n",
      "(130, 23)\n",
      "(135, 23)\n",
      "(140, 23)\n",
      "(145, 23)\n",
      "(150, 23)\n",
      "(155, 23)\n",
      "(160, 23)\n",
      "(165, 23)\n",
      "(170, 23)\n",
      "(175, 23)\n",
      "(180, 23)\n",
      "(185, 23)\n",
      "(190, 23)\n",
      "(195, 23)\n",
      "(200, 23)\n",
      "(205, 23)\n",
      "(210, 23)\n",
      "(215, 23)\n",
      "(220, 23)\n",
      "(225, 23)\n",
      "(230, 23)\n",
      "(235, 23)\n",
      "(240, 23)\n",
      "(245, 23)\n",
      "(250, 23)\n",
      "(255, 23)\n",
      "(260, 23)\n",
      "(265, 23)\n",
      "(270, 23)\n",
      "(275, 23)\n",
      "(280, 23)\n",
      "(285, 23)\n",
      "(290, 23)\n",
      "(295, 23)\n",
      "(300, 23)\n",
      "(305, 23)\n",
      "(310, 23)\n",
      "(315, 23)\n",
      "(320, 23)\n",
      "(325, 23)\n",
      "(330, 23)\n",
      "(335, 23)\n",
      "(340, 23)\n",
      "(345, 23)\n",
      "(350, 23)\n",
      "(355, 23)\n",
      "(360, 23)\n",
      "(365, 23)\n",
      "(370, 23)\n",
      "(375, 23)\n",
      "(380, 23)\n",
      "(385, 23)\n",
      "(390, 23)\n",
      "(395, 23)\n",
      "(400, 23)\n",
      "(405, 23)\n",
      "(410, 23)\n",
      "(415, 23)\n",
      "(420, 23)\n",
      "(425, 23)\n",
      "(430, 23)\n",
      "(435, 23)\n",
      "(440, 23)\n",
      "(445, 23)\n",
      "(450, 23)\n",
      "(455, 23)\n",
      "(460, 23)\n",
      "(465, 23)\n",
      "(470, 23)\n",
      "(475, 23)\n",
      "(480, 23)\n",
      "(485, 23)\n",
      "(490, 23)\n",
      "(495, 23)\n",
      "(500, 23)\n"
     ]
    }
   ],
   "source": [
    "DF_Y_PnL = pd.DataFrame()\n",
    "for TCK in List_TCK:\n",
    "    DF_FStatement = vnstock.financial_flow(TCK,'incomestatement','yearly',get_all=False)\n",
    "    DF_FStatement.reset_index(inplace=True)\n",
    "    DF_Y_PnL = pd.concat([DF_Y_PnL,DF_FStatement],ignore_index=True)\n",
    "    print(DF_Y_PnL.shape)"
   ]
  },
  {
   "cell_type": "code",
   "execution_count": null,
   "metadata": {},
   "outputs": [
    {
     "name": "stdout",
     "output_type": "stream",
     "text": [
      "(10, 7)\n",
      "(20, 7)\n",
      "(30, 7)\n",
      "(40, 7)\n",
      "(50, 7)\n",
      "(60, 7)\n",
      "(70, 7)\n",
      "(80, 7)\n",
      "(90, 7)\n",
      "(100, 7)\n",
      "(110, 7)\n",
      "(120, 7)\n",
      "(130, 7)\n",
      "(140, 7)\n",
      "(150, 7)\n",
      "(160, 7)\n",
      "(170, 7)\n",
      "(180, 7)\n",
      "(190, 7)\n",
      "(200, 7)\n",
      "(210, 7)\n",
      "(220, 7)\n",
      "(230, 7)\n",
      "(240, 7)\n",
      "(250, 7)\n",
      "(260, 7)\n",
      "(270, 7)\n",
      "(280, 7)\n",
      "(290, 7)\n",
      "(300, 7)\n",
      "(310, 7)\n",
      "(320, 7)\n",
      "(330, 7)\n",
      "(340, 7)\n",
      "(350, 7)\n",
      "(360, 7)\n",
      "(370, 7)\n",
      "(380, 7)\n",
      "(390, 7)\n",
      "(400, 7)\n",
      "(410, 7)\n",
      "(420, 7)\n",
      "(430, 7)\n",
      "(442, 7)\n",
      "(452, 7)\n",
      "(462, 7)\n",
      "(472, 7)\n",
      "(482, 7)\n",
      "(492, 7)\n",
      "(502, 7)\n",
      "(512, 7)\n",
      "(522, 7)\n",
      "(532, 7)\n",
      "(542, 7)\n",
      "(552, 7)\n",
      "(562, 7)\n",
      "(572, 7)\n",
      "(582, 7)\n",
      "(592, 7)\n",
      "(602, 7)\n",
      "(612, 7)\n",
      "(622, 7)\n",
      "(632, 7)\n",
      "(643, 7)\n",
      "(653, 7)\n",
      "(663, 7)\n",
      "(673, 7)\n",
      "(683, 7)\n",
      "(693, 7)\n",
      "(703, 7)\n",
      "(713, 7)\n",
      "(723, 7)\n",
      "(733, 7)\n",
      "(743, 7)\n",
      "(753, 7)\n",
      "(763, 7)\n",
      "(773, 7)\n",
      "(783, 7)\n",
      "(793, 7)\n",
      "(803, 7)\n",
      "(813, 7)\n",
      "(823, 7)\n",
      "(833, 7)\n",
      "(843, 7)\n",
      "(853, 7)\n",
      "(863, 7)\n",
      "(873, 7)\n",
      "(883, 7)\n",
      "(893, 7)\n",
      "(903, 7)\n",
      "(913, 7)\n",
      "(923, 7)\n",
      "(933, 7)\n",
      "(943, 7)\n",
      "(953, 7)\n",
      "(963, 7)\n",
      "(973, 7)\n",
      "(983, 7)\n",
      "(993, 7)\n",
      "(1003, 7)\n"
     ]
    }
   ],
   "source": [
    "DF_Q_CF = pd.DataFrame()\n",
    "for TCK in List_TCK:\n",
    "    DF_FStatement = vnstock.financial_flow(TCK,'cashflow','quarterly',get_all=False)\n",
    "    DF_FStatement.reset_index(inplace=True)\n",
    "    DF_Q_CF = pd.concat([DF_Q_CF,DF_FStatement],ignore_index=True)\n",
    "    print(DF_Q_CF.shape)"
   ]
  },
  {
   "cell_type": "code",
   "execution_count": null,
   "metadata": {},
   "outputs": [
    {
     "name": "stdout",
     "output_type": "stream",
     "text": [
      "(5, 7)\n",
      "(10, 7)\n",
      "(15, 7)\n",
      "(20, 7)\n",
      "(25, 7)\n",
      "(30, 7)\n",
      "(35, 7)\n",
      "(40, 7)\n",
      "(45, 7)\n",
      "(50, 7)\n",
      "(55, 7)\n",
      "(60, 7)\n",
      "(65, 7)\n",
      "(70, 7)\n",
      "(75, 7)\n",
      "(80, 7)\n",
      "(85, 7)\n",
      "(90, 7)\n",
      "(95, 7)\n",
      "(100, 7)\n",
      "(105, 7)\n",
      "(110, 7)\n",
      "(115, 7)\n",
      "(120, 7)\n",
      "(125, 7)\n",
      "(130, 7)\n",
      "(135, 7)\n",
      "(140, 7)\n",
      "(145, 7)\n",
      "(150, 7)\n",
      "(155, 7)\n",
      "(160, 7)\n",
      "(165, 7)\n",
      "(170, 7)\n",
      "(175, 7)\n",
      "(180, 7)\n",
      "(185, 7)\n",
      "(190, 7)\n",
      "(195, 7)\n",
      "(200, 7)\n",
      "(205, 7)\n",
      "(210, 7)\n",
      "(215, 7)\n",
      "(220, 7)\n",
      "(225, 7)\n",
      "(230, 7)\n",
      "(235, 7)\n",
      "(240, 7)\n",
      "(245, 7)\n",
      "(250, 7)\n",
      "(255, 7)\n",
      "(260, 7)\n",
      "(265, 7)\n",
      "(270, 7)\n",
      "(275, 7)\n",
      "(280, 7)\n",
      "(285, 7)\n",
      "(290, 7)\n",
      "(295, 7)\n",
      "(300, 7)\n",
      "(305, 7)\n",
      "(310, 7)\n",
      "(315, 7)\n",
      "(320, 7)\n",
      "(325, 7)\n",
      "(330, 7)\n",
      "(335, 7)\n",
      "(340, 7)\n",
      "(345, 7)\n",
      "(350, 7)\n",
      "(355, 7)\n",
      "(360, 7)\n",
      "(365, 7)\n",
      "(370, 7)\n",
      "(375, 7)\n",
      "(380, 7)\n",
      "(385, 7)\n",
      "(390, 7)\n",
      "(395, 7)\n",
      "(400, 7)\n",
      "(405, 7)\n",
      "(410, 7)\n",
      "(415, 7)\n",
      "(420, 7)\n",
      "(425, 7)\n",
      "(430, 7)\n",
      "(435, 7)\n",
      "(440, 7)\n",
      "(445, 7)\n",
      "(450, 7)\n",
      "(455, 7)\n",
      "(460, 7)\n",
      "(465, 7)\n",
      "(470, 7)\n",
      "(475, 7)\n",
      "(480, 7)\n",
      "(485, 7)\n",
      "(490, 7)\n",
      "(495, 7)\n",
      "(500, 7)\n"
     ]
    }
   ],
   "source": [
    "DF_Y_CF = pd.DataFrame()\n",
    "for TCK in List_TCK:\n",
    "    DF_FStatement = vnstock.financial_flow(TCK,'cashflow','yearly',get_all=False)\n",
    "    DF_FStatement.reset_index(inplace=True)\n",
    "    DF_Y_CF = pd.concat([DF_Y_CF,DF_FStatement],ignore_index=True)\n",
    "    print(DF_Y_CF.shape)"
   ]
  },
  {
   "cell_type": "code",
   "execution_count": null,
   "metadata": {},
   "outputs": [
    {
     "data": {
      "text/plain": [
       "500"
      ]
     },
     "execution_count": 21,
     "metadata": {},
     "output_type": "execute_result"
    }
   ],
   "source": [
    "DF_Y_CF.to_sql('CF_Y',conn,if_exists='replace',index = False)\n",
    "DF_Q_CF.to_sql('CF_Q',conn,if_exists='replace',index = False)\n",
    "DF_Y_PnL.to_sql('PnL_Y',conn,if_exists='replace',index = False)"
   ]
  },
  {
   "cell_type": "code",
   "execution_count": null,
   "metadata": {},
   "outputs": [],
   "source": [
    "cols_name = ['ticker','DATE','Last_PRC','AVG_3_PRC','AVG_5_PRC','AVG_10_PRC','AVG_20_PRC','Last_VOL','AVG_3_VOL','AVG_5_VOL','AVG_10_VOL','AVG_20_VOL']\n",
    "Proxy_Prc_ = pd.DataFrame(columns=cols_name)"
   ]
  },
  {
   "cell_type": "code",
   "execution_count": null,
   "metadata": {},
   "outputs": [
    {
     "name": "stdout",
     "output_type": "stream",
     "text": [
      "TCK: SSI\n",
      "(1, 12)\n"
     ]
    },
    {
     "name": "stderr",
     "output_type": "stream",
     "text": [
      "C:\\Users\\nvdun\\AppData\\Local\\Temp\\ipykernel_5892\\2594150798.py:19: FutureWarning: The behavior of DataFrame concatenation with empty or all-NA entries is deprecated. In a future version, this will no longer exclude empty or all-NA columns when determining the result dtypes. To retain the old behavior, exclude the relevant entries before the concat operation.\n",
      "  Proxy_Prc_= pd.concat([Proxy_Prc_,new_row_df],ignore_index=True)\n"
     ]
    },
    {
     "name": "stdout",
     "output_type": "stream",
     "text": [
      "TCK: BCM\n",
      "(2, 12)\n",
      "TCK: VHM\n",
      "(3, 12)\n",
      "TCK: VIC\n",
      "(4, 12)\n",
      "TCK: VRE\n",
      "(5, 12)\n",
      "TCK: BVH\n",
      "(6, 12)\n",
      "TCK: POW\n",
      "(7, 12)\n",
      "TCK: GAS\n",
      "(8, 12)\n",
      "TCK: ACB\n",
      "(9, 12)\n",
      "TCK: BID\n",
      "(10, 12)\n",
      "TCK: CTG\n",
      "(11, 12)\n",
      "TCK: HDB\n",
      "(12, 12)\n",
      "TCK: MBB\n",
      "(13, 12)\n",
      "TCK: SSB\n",
      "(14, 12)\n",
      "TCK: SHB\n",
      "(15, 12)\n",
      "TCK: STB\n",
      "(16, 12)\n",
      "TCK: TCB\n",
      "(17, 12)\n",
      "TCK: TPB\n",
      "(18, 12)\n",
      "TCK: VCB\n",
      "(19, 12)\n",
      "TCK: VIB\n",
      "(20, 12)\n",
      "TCK: VPB\n",
      "(21, 12)\n",
      "TCK: HPG\n",
      "(22, 12)\n",
      "TCK: GVR\n",
      "(23, 12)\n",
      "TCK: MSN\n",
      "(24, 12)\n",
      "TCK: VNM\n",
      "(25, 12)\n",
      "TCK: SAB\n",
      "(26, 12)\n",
      "TCK: VJC\n",
      "(27, 12)\n",
      "TCK: MWG\n",
      "(28, 12)\n",
      "TCK: PLX\n",
      "(29, 12)\n",
      "TCK: FPT\n",
      "(30, 12)\n",
      "TCK: BCG\n",
      "(31, 12)\n",
      "TCK: FTS\n",
      "(32, 12)\n",
      "TCK: HCM\n",
      "(33, 12)\n",
      "TCK: VCI\n",
      "(34, 12)\n",
      "TCK: VIX\n",
      "(35, 12)\n",
      "TCK: VND\n",
      "(36, 12)\n",
      "TCK: AGG\n",
      "(37, 12)\n",
      "TCK: CRE\n",
      "(38, 12)\n",
      "TCK: DIG\n",
      "(39, 12)\n",
      "TCK: DXG\n",
      "(40, 12)\n",
      "TCK: DXS\n",
      "(41, 12)\n",
      "TCK: HDC\n",
      "(42, 12)\n",
      "TCK: HDG\n",
      "(43, 12)\n",
      "TCK: TCH\n",
      "(44, 12)\n",
      "TCK: KBC\n",
      "(45, 12)\n",
      "TCK: KDH\n",
      "(46, 12)\n",
      "TCK: KOS\n",
      "(47, 12)\n",
      "TCK: NLG\n",
      "(48, 12)\n",
      "TCK: PDR\n",
      "(49, 12)\n",
      "TCK: SZC\n",
      "(50, 12)\n",
      "TCK: SJS\n",
      "(51, 12)\n",
      "TCK: VPI\n",
      "(52, 12)\n",
      "TCK: GEG\n",
      "(53, 12)\n",
      "TCK: NT2\n",
      "(54, 12)\n",
      "TCK: PPC\n",
      "(55, 12)\n",
      "TCK: VSH\n",
      "(56, 12)\n",
      "TCK: BWE\n",
      "(57, 12)\n",
      "TCK: EIB\n",
      "(58, 12)\n",
      "TCK: LPB\n",
      "(59, 12)\n",
      "TCK: MSB\n",
      "(60, 12)\n",
      "TCK: OCB\n",
      "(61, 12)\n",
      "TCK: DHC\n",
      "(62, 12)\n",
      "TCK: PTB\n",
      "(63, 12)\n",
      "TCK: HSG\n",
      "(64, 12)\n",
      "TCK: NKG\n",
      "(65, 12)\n",
      "TCK: AAA\n",
      "(66, 12)\n",
      "TCK: DCM\n",
      "(67, 12)\n",
      "TCK: DGC\n",
      "(68, 12)\n",
      "TCK: DPM\n",
      "(69, 12)\n",
      "TCK: PHR\n",
      "(70, 12)\n",
      "TCK: ANV\n",
      "(71, 12)\n",
      "TCK: ASM\n",
      "(72, 12)\n",
      "TCK: DBC\n",
      "(73, 12)\n",
      "TCK: HAG\n",
      "(74, 12)\n",
      "TCK: KDC\n",
      "(75, 12)\n",
      "TCK: PAN\n",
      "(76, 12)\n",
      "TCK: SBT\n",
      "(77, 12)\n",
      "TCK: VHC\n",
      "(78, 12)\n",
      "TCK: PNJ\n",
      "(79, 12)\n",
      "TCK: SCS\n",
      "(80, 12)\n",
      "TCK: DGW\n",
      "(81, 12)\n",
      "TCK: FRT\n",
      "(82, 12)\n",
      "TCK: PVD\n",
      "(83, 12)\n",
      "TCK: IMP\n",
      "(84, 12)\n",
      "TCK: SAM\n",
      "(85, 12)\n",
      "TCK: CMG\n",
      "(86, 12)\n",
      "TCK: BMP\n",
      "(87, 12)\n",
      "TCK: CII\n",
      "(88, 12)\n",
      "TCK: CTD\n",
      "(89, 12)\n",
      "TCK: CTR\n",
      "(90, 12)\n",
      "TCK: HHV\n",
      "(91, 12)\n",
      "TCK: HT1\n",
      "(92, 12)\n",
      "TCK: PC1\n",
      "(93, 12)\n",
      "TCK: VCG\n",
      "(94, 12)\n",
      "TCK: VGC\n",
      "(95, 12)\n",
      "TCK: GEX\n",
      "(96, 12)\n",
      "TCK: GMD\n",
      "(97, 12)\n",
      "TCK: PVT\n",
      "(98, 12)\n",
      "TCK: TMS\n",
      "(99, 12)\n",
      "TCK: REE\n",
      "(100, 12)\n"
     ]
    },
    {
     "data": {
      "text/html": [
       "<div>\n",
       "<style scoped>\n",
       "    .dataframe tbody tr th:only-of-type {\n",
       "        vertical-align: middle;\n",
       "    }\n",
       "\n",
       "    .dataframe tbody tr th {\n",
       "        vertical-align: top;\n",
       "    }\n",
       "\n",
       "    .dataframe thead th {\n",
       "        text-align: right;\n",
       "    }\n",
       "</style>\n",
       "<table border=\"1\" class=\"dataframe\">\n",
       "  <thead>\n",
       "    <tr style=\"text-align: right;\">\n",
       "      <th></th>\n",
       "      <th>ticker</th>\n",
       "      <th>DATE</th>\n",
       "      <th>Last_PRC</th>\n",
       "      <th>AVG_3_PRC</th>\n",
       "      <th>AVG_5_PRC</th>\n",
       "      <th>AVG_10_PRC</th>\n",
       "      <th>AVG_20_PRC</th>\n",
       "      <th>Last_VOL</th>\n",
       "      <th>AVG_3_VOL</th>\n",
       "      <th>AVG_5_VOL</th>\n",
       "      <th>AVG_10_VOL</th>\n",
       "      <th>AVG_20_VOL</th>\n",
       "    </tr>\n",
       "  </thead>\n",
       "  <tbody>\n",
       "    <tr>\n",
       "      <th>0</th>\n",
       "      <td>SSI</td>\n",
       "      <td>2024-02-07</td>\n",
       "      <td>35100</td>\n",
       "      <td>35017.0</td>\n",
       "      <td>34900.0</td>\n",
       "      <td>34505.0</td>\n",
       "      <td>34110.0</td>\n",
       "      <td>15710800</td>\n",
       "      <td>16144900.0</td>\n",
       "      <td>16618800.0</td>\n",
       "      <td>17730770.0</td>\n",
       "      <td>19483770.0</td>\n",
       "    </tr>\n",
       "    <tr>\n",
       "      <th>1</th>\n",
       "      <td>BCM</td>\n",
       "      <td>2024-02-07</td>\n",
       "      <td>64000</td>\n",
       "      <td>63767.0</td>\n",
       "      <td>64360.0</td>\n",
       "      <td>63790.0</td>\n",
       "      <td>62185.0</td>\n",
       "      <td>276500</td>\n",
       "      <td>459667.0</td>\n",
       "      <td>559500.0</td>\n",
       "      <td>722850.0</td>\n",
       "      <td>619935.0</td>\n",
       "    </tr>\n",
       "    <tr>\n",
       "      <th>2</th>\n",
       "      <td>VHM</td>\n",
       "      <td>2024-02-07</td>\n",
       "      <td>41800</td>\n",
       "      <td>41350.0</td>\n",
       "      <td>41290.0</td>\n",
       "      <td>41585.0</td>\n",
       "      <td>41970.0</td>\n",
       "      <td>3768900</td>\n",
       "      <td>4221900.0</td>\n",
       "      <td>5109640.0</td>\n",
       "      <td>4457670.0</td>\n",
       "      <td>5015825.0</td>\n",
       "    </tr>\n",
       "    <tr>\n",
       "      <th>3</th>\n",
       "      <td>VIC</td>\n",
       "      <td>2024-02-07</td>\n",
       "      <td>42400</td>\n",
       "      <td>42300.0</td>\n",
       "      <td>42270.0</td>\n",
       "      <td>42480.0</td>\n",
       "      <td>42852.0</td>\n",
       "      <td>1596000</td>\n",
       "      <td>1961033.0</td>\n",
       "      <td>2012140.0</td>\n",
       "      <td>1891180.0</td>\n",
       "      <td>1927125.0</td>\n",
       "    </tr>\n",
       "    <tr>\n",
       "      <th>4</th>\n",
       "      <td>VRE</td>\n",
       "      <td>2024-02-07</td>\n",
       "      <td>21900</td>\n",
       "      <td>21800.0</td>\n",
       "      <td>22070.0</td>\n",
       "      <td>22705.0</td>\n",
       "      <td>23098.0</td>\n",
       "      <td>6100200</td>\n",
       "      <td>8949567.0</td>\n",
       "      <td>8047800.0</td>\n",
       "      <td>8187080.0</td>\n",
       "      <td>6731430.0</td>\n",
       "    </tr>\n",
       "    <tr>\n",
       "      <th>...</th>\n",
       "      <td>...</td>\n",
       "      <td>...</td>\n",
       "      <td>...</td>\n",
       "      <td>...</td>\n",
       "      <td>...</td>\n",
       "      <td>...</td>\n",
       "      <td>...</td>\n",
       "      <td>...</td>\n",
       "      <td>...</td>\n",
       "      <td>...</td>\n",
       "      <td>...</td>\n",
       "      <td>...</td>\n",
       "    </tr>\n",
       "    <tr>\n",
       "      <th>95</th>\n",
       "      <td>GEX</td>\n",
       "      <td>2024-02-07</td>\n",
       "      <td>21500</td>\n",
       "      <td>21283.0</td>\n",
       "      <td>21340.0</td>\n",
       "      <td>21500.0</td>\n",
       "      <td>21530.0</td>\n",
       "      <td>9320400</td>\n",
       "      <td>10092933.0</td>\n",
       "      <td>9858520.0</td>\n",
       "      <td>8962150.0</td>\n",
       "      <td>10023735.0</td>\n",
       "    </tr>\n",
       "    <tr>\n",
       "      <th>96</th>\n",
       "      <td>GMD</td>\n",
       "      <td>2024-02-07</td>\n",
       "      <td>69500</td>\n",
       "      <td>69100.0</td>\n",
       "      <td>69020.0</td>\n",
       "      <td>69280.0</td>\n",
       "      <td>69510.0</td>\n",
       "      <td>1059600</td>\n",
       "      <td>1041033.0</td>\n",
       "      <td>883780.0</td>\n",
       "      <td>882910.0</td>\n",
       "      <td>902460.0</td>\n",
       "    </tr>\n",
       "    <tr>\n",
       "      <th>97</th>\n",
       "      <td>PVT</td>\n",
       "      <td>2024-02-07</td>\n",
       "      <td>26750</td>\n",
       "      <td>26500.0</td>\n",
       "      <td>26340.0</td>\n",
       "      <td>26365.0</td>\n",
       "      <td>26405.0</td>\n",
       "      <td>2873000</td>\n",
       "      <td>2369900.0</td>\n",
       "      <td>2079100.0</td>\n",
       "      <td>2154060.0</td>\n",
       "      <td>2783735.0</td>\n",
       "    </tr>\n",
       "    <tr>\n",
       "      <th>98</th>\n",
       "      <td>TMS</td>\n",
       "      <td>2024-02-07</td>\n",
       "      <td>47000</td>\n",
       "      <td>47000.0</td>\n",
       "      <td>46910.0</td>\n",
       "      <td>46640.0</td>\n",
       "      <td>46008.0</td>\n",
       "      <td>3000</td>\n",
       "      <td>2800.0</td>\n",
       "      <td>4300.0</td>\n",
       "      <td>7000.0</td>\n",
       "      <td>6375.0</td>\n",
       "    </tr>\n",
       "    <tr>\n",
       "      <th>99</th>\n",
       "      <td>REE</td>\n",
       "      <td>2024-02-07</td>\n",
       "      <td>56500</td>\n",
       "      <td>56067.0</td>\n",
       "      <td>55720.0</td>\n",
       "      <td>56000.0</td>\n",
       "      <td>55965.0</td>\n",
       "      <td>323400</td>\n",
       "      <td>509400.0</td>\n",
       "      <td>627760.0</td>\n",
       "      <td>555150.0</td>\n",
       "      <td>457815.0</td>\n",
       "    </tr>\n",
       "  </tbody>\n",
       "</table>\n",
       "<p>100 rows × 12 columns</p>\n",
       "</div>"
      ],
      "text/plain": [
       "   ticker        DATE Last_PRC  AVG_3_PRC  AVG_5_PRC  AVG_10_PRC  AVG_20_PRC  \\\n",
       "0     SSI  2024-02-07    35100    35017.0    34900.0     34505.0     34110.0   \n",
       "1     BCM  2024-02-07    64000    63767.0    64360.0     63790.0     62185.0   \n",
       "2     VHM  2024-02-07    41800    41350.0    41290.0     41585.0     41970.0   \n",
       "3     VIC  2024-02-07    42400    42300.0    42270.0     42480.0     42852.0   \n",
       "4     VRE  2024-02-07    21900    21800.0    22070.0     22705.0     23098.0   \n",
       "..    ...         ...      ...        ...        ...         ...         ...   \n",
       "95    GEX  2024-02-07    21500    21283.0    21340.0     21500.0     21530.0   \n",
       "96    GMD  2024-02-07    69500    69100.0    69020.0     69280.0     69510.0   \n",
       "97    PVT  2024-02-07    26750    26500.0    26340.0     26365.0     26405.0   \n",
       "98    TMS  2024-02-07    47000    47000.0    46910.0     46640.0     46008.0   \n",
       "99    REE  2024-02-07    56500    56067.0    55720.0     56000.0     55965.0   \n",
       "\n",
       "    Last_VOL   AVG_3_VOL   AVG_5_VOL  AVG_10_VOL  AVG_20_VOL  \n",
       "0   15710800  16144900.0  16618800.0  17730770.0  19483770.0  \n",
       "1     276500    459667.0    559500.0    722850.0    619935.0  \n",
       "2    3768900   4221900.0   5109640.0   4457670.0   5015825.0  \n",
       "3    1596000   1961033.0   2012140.0   1891180.0   1927125.0  \n",
       "4    6100200   8949567.0   8047800.0   8187080.0   6731430.0  \n",
       "..       ...         ...         ...         ...         ...  \n",
       "95   9320400  10092933.0   9858520.0   8962150.0  10023735.0  \n",
       "96   1059600   1041033.0    883780.0    882910.0    902460.0  \n",
       "97   2873000   2369900.0   2079100.0   2154060.0   2783735.0  \n",
       "98      3000      2800.0      4300.0      7000.0      6375.0  \n",
       "99    323400    509400.0    627760.0    555150.0    457815.0  \n",
       "\n",
       "[100 rows x 12 columns]"
      ]
     },
     "execution_count": 75,
     "metadata": {},
     "output_type": "execute_result"
    }
   ],
   "source": [
    "for TCK in List_TCK:\n",
    "    DF_trading = vnstock.stock_historical_data(TCK,start_date='2023-02-14',end_date='2024-02-14',resolution = '1D')\n",
    "    Date = DF_trading.iloc[-1,0]\n",
    "    Last_CLS = DF_trading.iloc[-1,4]\n",
    "    Last_Vol = DF_trading.iloc[-1,5]\n",
    "    AVG_3_CLS = round(DF_trading.iloc[-3:,4].sum()/3,0)\n",
    "    AVG_5_CLS = round(DF_trading.iloc[-5:,4].sum()/5,0)\n",
    "    AVG_10_CLS = round(DF_trading.iloc[-10:,4].sum()/10,0)\n",
    "    AVG_20_CLS = round(DF_trading.iloc[-20:,4].sum()/20,0)\n",
    "    AVG_3_VOL = round(DF_trading.iloc[-3:,5].sum()/3,0)\n",
    "    AVG_5_VOL = round(DF_trading.iloc[-5:,5].sum()/5,0)\n",
    "    AVG_10_VOL = round(DF_trading.iloc[-10:,5].sum()/10,0)\n",
    "    AVG_20_VOL = round(DF_trading.iloc[-20:,5].sum()/20,0)\n",
    "    # print(f'Last prc: {Last_CLS}\\nLast vol: {Last_Vol}\\nAverage 3: {AVG_3_CLS}\\nAverage 5: {AVG_5_CLS}\\nAverage 10: {AVG_10_CLS}\\nAverage 20: {AVG_20_CLS}\\nAverage 3 vol: {AVG_3_VOL}\\nAverage 5 vol: {AVG_5_VOL}\\nAverage 10 vol: {AVG_10_VOL}\\nAverage 20 vol: {AVG_20_VOL}')\n",
    "    \n",
    "    print(f'TCK: {TCK}')\n",
    "    data_arr = [TCK,Date,Last_CLS,AVG_3_CLS,AVG_5_CLS,AVG_10_CLS,AVG_20_CLS,Last_Vol,AVG_3_VOL,AVG_5_VOL,AVG_10_VOL,AVG_20_VOL]\n",
    "    new_row_df = pd.DataFrame([data_arr],columns= cols_name)\n",
    "    Proxy_Prc_= pd.concat([Proxy_Prc_,new_row_df],ignore_index=True)\n",
    "    print(Proxy_Prc_.shape)\n",
    "Proxy_Prc_"
   ]
  },
  {
   "cell_type": "code",
   "execution_count": null,
   "metadata": {},
   "outputs": [
    {
     "data": {
      "text/plain": [
       "100"
      ]
     },
     "execution_count": 76,
     "metadata": {},
     "output_type": "execute_result"
    }
   ],
   "source": [
    "Proxy_Prc_.to_sql('Proxy_PRC',conn,if_exists='replace',index=False)\n",
    "# DF_trading = vnstock.stock_historical_data(List_TCK[1],start_date='2023-02-14',end_date='2024-02-14',resolution = '1D')\n",
    "# DF_trading.iloc[-3:,4]\n",
    "# DF_trading.tail(5)[4].sum()"
   ]
  }
 ],
 "metadata": {
  "kernelspec": {
   "display_name": "Python 3",
   "language": "python",
   "name": "python3"
  },
  "language_info": {
   "codemirror_mode": {
    "name": "ipython",
    "version": 3
   },
   "file_extension": ".py",
   "mimetype": "text/x-python",
   "name": "python",
   "nbconvert_exporter": "python",
   "pygments_lexer": "ipython3",
   "version": "3.10.5"
  }
 },
 "nbformat": 4,
 "nbformat_minor": 2
}
