{
 "cells": [
  {
   "cell_type": "code",
   "execution_count": 1,
   "metadata": {},
   "outputs": [],
   "source": [
    "import vnstock\n",
    "import sqlite3\n",
    "import pandas as pd"
   ]
  },
  {
   "cell_type": "code",
   "execution_count": 2,
   "metadata": {},
   "outputs": [],
   "source": [
    "conn = sqlite3.connect(\"./VN_stock_MasterDATA.db\")\n",
    "cursor = conn.cursor()"
   ]
  },
  {
   "cell_type": "code",
   "execution_count": 3,
   "metadata": {},
   "outputs": [
    {
     "data": {
      "text/html": [
       "<div>\n",
       "<style scoped>\n",
       "    .dataframe tbody tr th:only-of-type {\n",
       "        vertical-align: middle;\n",
       "    }\n",
       "\n",
       "    .dataframe tbody tr th {\n",
       "        vertical-align: top;\n",
       "    }\n",
       "\n",
       "    .dataframe thead th {\n",
       "        text-align: right;\n",
       "    }\n",
       "</style>\n",
       "<table border=\"1\" class=\"dataframe\">\n",
       "  <thead>\n",
       "    <tr style=\"text-align: right;\">\n",
       "      <th></th>\n",
       "      <th>ticker</th>\n",
       "      <th>exchange</th>\n",
       "      <th>industry</th>\n",
       "      <th>companyType</th>\n",
       "      <th>noShareholders</th>\n",
       "      <th>foreignPercent</th>\n",
       "      <th>outstandingShare</th>\n",
       "      <th>issueShare</th>\n",
       "      <th>establishedYear</th>\n",
       "      <th>noEmployees</th>\n",
       "      <th>...</th>\n",
       "      <th>deltaInMonth</th>\n",
       "      <th>deltaInYear</th>\n",
       "      <th>shortName</th>\n",
       "      <th>industryEn</th>\n",
       "      <th>industryID</th>\n",
       "      <th>industryIDv2</th>\n",
       "      <th>website</th>\n",
       "      <th>T9_SHolder</th>\n",
       "      <th>T5_SHolder</th>\n",
       "      <th>Free_float</th>\n",
       "    </tr>\n",
       "  </thead>\n",
       "  <tbody>\n",
       "    <tr>\n",
       "      <th>0</th>\n",
       "      <td>SSI</td>\n",
       "      <td>HOSE</td>\n",
       "      <td>Dịch vụ tài chính</td>\n",
       "      <td>CK</td>\n",
       "      <td>90824</td>\n",
       "      <td>0.436</td>\n",
       "      <td>1499.1</td>\n",
       "      <td>1501.1</td>\n",
       "      <td>1999</td>\n",
       "      <td>1592</td>\n",
       "      <td>...</td>\n",
       "      <td>-0.010</td>\n",
       "      <td>0.724</td>\n",
       "      <td>Chứng khoán SSI</td>\n",
       "      <td>Financial Services</td>\n",
       "      <td>300</td>\n",
       "      <td>8777</td>\n",
       "      <td>https://www.ssi.com.vn</td>\n",
       "      <td>0.2672</td>\n",
       "      <td>0.2613</td>\n",
       "      <td>0.998668</td>\n",
       "    </tr>\n",
       "    <tr>\n",
       "      <th>1</th>\n",
       "      <td>BCM</td>\n",
       "      <td>HOSE</td>\n",
       "      <td>Bất động sản</td>\n",
       "      <td>CT</td>\n",
       "      <td>3520</td>\n",
       "      <td>0.021</td>\n",
       "      <td>1035.0</td>\n",
       "      <td>1035.0</td>\n",
       "      <td>2006</td>\n",
       "      <td>3585</td>\n",
       "      <td>...</td>\n",
       "      <td>0.020</td>\n",
       "      <td>-0.328</td>\n",
       "      <td>Becamex IDC</td>\n",
       "      <td>Real Estate</td>\n",
       "      <td>336</td>\n",
       "      <td>8633</td>\n",
       "      <td>https://becamex.com.vn</td>\n",
       "      <td>0.9658</td>\n",
       "      <td>0.9636</td>\n",
       "      <td>1.000000</td>\n",
       "    </tr>\n",
       "    <tr>\n",
       "      <th>2</th>\n",
       "      <td>VHM</td>\n",
       "      <td>HOSE</td>\n",
       "      <td>Bất động sản</td>\n",
       "      <td>CT</td>\n",
       "      <td>31513</td>\n",
       "      <td>0.222</td>\n",
       "      <td>4354.4</td>\n",
       "      <td>4354.4</td>\n",
       "      <td>2008</td>\n",
       "      <td>11664</td>\n",
       "      <td>...</td>\n",
       "      <td>-0.068</td>\n",
       "      <td>-0.229</td>\n",
       "      <td>Vinhomes</td>\n",
       "      <td>Real Estate</td>\n",
       "      <td>336</td>\n",
       "      <td>8633</td>\n",
       "      <td>https://vinhomes.vn/vi</td>\n",
       "      <td>0.7202</td>\n",
       "      <td>0.0000</td>\n",
       "      <td>1.000000</td>\n",
       "    </tr>\n",
       "    <tr>\n",
       "      <th>3</th>\n",
       "      <td>VIC</td>\n",
       "      <td>HOSE</td>\n",
       "      <td>Bất động sản</td>\n",
       "      <td>CT</td>\n",
       "      <td>32650</td>\n",
       "      <td>0.121</td>\n",
       "      <td>3823.7</td>\n",
       "      <td>3823.7</td>\n",
       "      <td>2002</td>\n",
       "      <td>313</td>\n",
       "      <td>...</td>\n",
       "      <td>-0.077</td>\n",
       "      <td>-0.343</td>\n",
       "      <td>VinGroup</td>\n",
       "      <td>Real Estate</td>\n",
       "      <td>336</td>\n",
       "      <td>8633</td>\n",
       "      <td>http://www.vingroup.net</td>\n",
       "      <td>0.7276</td>\n",
       "      <td>0.6783</td>\n",
       "      <td>1.000000</td>\n",
       "    </tr>\n",
       "    <tr>\n",
       "      <th>4</th>\n",
       "      <td>VRE</td>\n",
       "      <td>HOSE</td>\n",
       "      <td>Bất động sản</td>\n",
       "      <td>CT</td>\n",
       "      <td>34058</td>\n",
       "      <td>0.296</td>\n",
       "      <td>2272.3</td>\n",
       "      <td>2328.8</td>\n",
       "      <td>2012</td>\n",
       "      <td>2120</td>\n",
       "      <td>...</td>\n",
       "      <td>-0.100</td>\n",
       "      <td>-0.358</td>\n",
       "      <td>Vincom Retail</td>\n",
       "      <td>Real Estate</td>\n",
       "      <td>336</td>\n",
       "      <td>8633</td>\n",
       "      <td>https://vincom.com.vn</td>\n",
       "      <td>0.5887</td>\n",
       "      <td>0.0000</td>\n",
       "      <td>0.975739</td>\n",
       "    </tr>\n",
       "    <tr>\n",
       "      <th>...</th>\n",
       "      <td>...</td>\n",
       "      <td>...</td>\n",
       "      <td>...</td>\n",
       "      <td>...</td>\n",
       "      <td>...</td>\n",
       "      <td>...</td>\n",
       "      <td>...</td>\n",
       "      <td>...</td>\n",
       "      <td>...</td>\n",
       "      <td>...</td>\n",
       "      <td>...</td>\n",
       "      <td>...</td>\n",
       "      <td>...</td>\n",
       "      <td>...</td>\n",
       "      <td>...</td>\n",
       "      <td>...</td>\n",
       "      <td>...</td>\n",
       "      <td>...</td>\n",
       "      <td>...</td>\n",
       "      <td>...</td>\n",
       "      <td>...</td>\n",
       "    </tr>\n",
       "    <tr>\n",
       "      <th>96</th>\n",
       "      <td>GMD</td>\n",
       "      <td>HOSE</td>\n",
       "      <td>Hàng &amp; Dịch vụ Công nghiệp</td>\n",
       "      <td>CT</td>\n",
       "      <td>12179</td>\n",
       "      <td>0.483</td>\n",
       "      <td>305.9</td>\n",
       "      <td>305.9</td>\n",
       "      <td>1993</td>\n",
       "      <td>1522</td>\n",
       "      <td>...</td>\n",
       "      <td>-0.060</td>\n",
       "      <td>0.175</td>\n",
       "      <td>Gemadept</td>\n",
       "      <td>Industrial Goods &amp; Services</td>\n",
       "      <td>193</td>\n",
       "      <td>2777</td>\n",
       "      <td>http://www.gemadept.com.vn</td>\n",
       "      <td>0.1713</td>\n",
       "      <td>0.1617</td>\n",
       "      <td>1.000000</td>\n",
       "    </tr>\n",
       "    <tr>\n",
       "      <th>97</th>\n",
       "      <td>PVT</td>\n",
       "      <td>HOSE</td>\n",
       "      <td>Hàng &amp; Dịch vụ Công nghiệp</td>\n",
       "      <td>CT</td>\n",
       "      <td>0</td>\n",
       "      <td>0.123</td>\n",
       "      <td>323.7</td>\n",
       "      <td>323.7</td>\n",
       "      <td>2006</td>\n",
       "      <td>915</td>\n",
       "      <td>...</td>\n",
       "      <td>-0.029</td>\n",
       "      <td>0.313</td>\n",
       "      <td>Vận tải Dầu khí PVTrans</td>\n",
       "      <td>Industrial Goods &amp; Services</td>\n",
       "      <td>191</td>\n",
       "      <td>2773</td>\n",
       "      <td>http://www.pvtrans.com</td>\n",
       "      <td>0.5111</td>\n",
       "      <td>0.5100</td>\n",
       "      <td>1.000000</td>\n",
       "    </tr>\n",
       "    <tr>\n",
       "      <th>98</th>\n",
       "      <td>TMS</td>\n",
       "      <td>HOSE</td>\n",
       "      <td>Hàng &amp; Dịch vụ Công nghiệp</td>\n",
       "      <td>CT</td>\n",
       "      <td>1080</td>\n",
       "      <td>0.429</td>\n",
       "      <td>158.3</td>\n",
       "      <td>158.3</td>\n",
       "      <td>1983</td>\n",
       "      <td>1185</td>\n",
       "      <td>...</td>\n",
       "      <td>0.067</td>\n",
       "      <td>0.035</td>\n",
       "      <td>Transimex</td>\n",
       "      <td>Industrial Goods &amp; Services</td>\n",
       "      <td>193</td>\n",
       "      <td>2777</td>\n",
       "      <td>http://transimex.com.vn</td>\n",
       "      <td>1.0000</td>\n",
       "      <td>0.7396</td>\n",
       "      <td>1.000000</td>\n",
       "    </tr>\n",
       "    <tr>\n",
       "      <th>99</th>\n",
       "      <td>REE</td>\n",
       "      <td>HOSE</td>\n",
       "      <td>Hàng &amp; Dịch vụ Công nghiệp</td>\n",
       "      <td>CT</td>\n",
       "      <td>16958</td>\n",
       "      <td>0.490</td>\n",
       "      <td>408.7</td>\n",
       "      <td>409.7</td>\n",
       "      <td>2005</td>\n",
       "      <td>2122</td>\n",
       "      <td>...</td>\n",
       "      <td>-0.054</td>\n",
       "      <td>-0.196</td>\n",
       "      <td>Cơ Điện Lạnh REE</td>\n",
       "      <td>Industrial Goods &amp; Services</td>\n",
       "      <td>189</td>\n",
       "      <td>2757</td>\n",
       "      <td>https://www.reecorp.com</td>\n",
       "      <td>0.6844</td>\n",
       "      <td>0.6282</td>\n",
       "      <td>0.997559</td>\n",
       "    </tr>\n",
       "    <tr>\n",
       "      <th>100</th>\n",
       "      <td>NET</td>\n",
       "      <td>HNX</td>\n",
       "      <td>Hàng cá nhân &amp; Gia dụng</td>\n",
       "      <td>CT</td>\n",
       "      <td>168</td>\n",
       "      <td>0.010</td>\n",
       "      <td>22.4</td>\n",
       "      <td>22.4</td>\n",
       "      <td>1972</td>\n",
       "      <td>442</td>\n",
       "      <td>...</td>\n",
       "      <td>0.172</td>\n",
       "      <td>0.887</td>\n",
       "      <td>Bột giặt Net</td>\n",
       "      <td>Personal &amp; Household Goods</td>\n",
       "      <td>228</td>\n",
       "      <td>3767</td>\n",
       "      <td>http://www.netcovn.com.vn</td>\n",
       "      <td>0.9293</td>\n",
       "      <td>0.9218</td>\n",
       "      <td>1.000000</td>\n",
       "    </tr>\n",
       "  </tbody>\n",
       "</table>\n",
       "<p>101 rows × 22 columns</p>\n",
       "</div>"
      ],
      "text/plain": [
       "    ticker exchange                    industry companyType  noShareholders  \\\n",
       "0      SSI     HOSE           Dịch vụ tài chính          CK           90824   \n",
       "1      BCM     HOSE                Bất động sản          CT            3520   \n",
       "2      VHM     HOSE                Bất động sản          CT           31513   \n",
       "3      VIC     HOSE                Bất động sản          CT           32650   \n",
       "4      VRE     HOSE                Bất động sản          CT           34058   \n",
       "..     ...      ...                         ...         ...             ...   \n",
       "96     GMD     HOSE  Hàng & Dịch vụ Công nghiệp          CT           12179   \n",
       "97     PVT     HOSE  Hàng & Dịch vụ Công nghiệp          CT               0   \n",
       "98     TMS     HOSE  Hàng & Dịch vụ Công nghiệp          CT            1080   \n",
       "99     REE     HOSE  Hàng & Dịch vụ Công nghiệp          CT           16958   \n",
       "100    NET      HNX     Hàng cá nhân & Gia dụng          CT             168   \n",
       "\n",
       "     foreignPercent  outstandingShare  issueShare establishedYear  \\\n",
       "0             0.436            1499.1      1501.1            1999   \n",
       "1             0.021            1035.0      1035.0            2006   \n",
       "2             0.222            4354.4      4354.4            2008   \n",
       "3             0.121            3823.7      3823.7            2002   \n",
       "4             0.296            2272.3      2328.8            2012   \n",
       "..              ...               ...         ...             ...   \n",
       "96            0.483             305.9       305.9            1993   \n",
       "97            0.123             323.7       323.7            2006   \n",
       "98            0.429             158.3       158.3            1983   \n",
       "99            0.490             408.7       409.7            2005   \n",
       "100           0.010              22.4        22.4            1972   \n",
       "\n",
       "     noEmployees  ...  deltaInMonth  deltaInYear                shortName  \\\n",
       "0           1592  ...        -0.010        0.724          Chứng khoán SSI   \n",
       "1           3585  ...         0.020       -0.328              Becamex IDC   \n",
       "2          11664  ...        -0.068       -0.229                 Vinhomes   \n",
       "3            313  ...        -0.077       -0.343                 VinGroup   \n",
       "4           2120  ...        -0.100       -0.358            Vincom Retail   \n",
       "..           ...  ...           ...          ...                      ...   \n",
       "96          1522  ...        -0.060        0.175                 Gemadept   \n",
       "97           915  ...        -0.029        0.313  Vận tải Dầu khí PVTrans   \n",
       "98          1185  ...         0.067        0.035                Transimex   \n",
       "99          2122  ...        -0.054       -0.196         Cơ Điện Lạnh REE   \n",
       "100          442  ...         0.172        0.887             Bột giặt Net   \n",
       "\n",
       "                      industryEn industryID industryIDv2  \\\n",
       "0             Financial Services        300         8777   \n",
       "1                    Real Estate        336         8633   \n",
       "2                    Real Estate        336         8633   \n",
       "3                    Real Estate        336         8633   \n",
       "4                    Real Estate        336         8633   \n",
       "..                           ...        ...          ...   \n",
       "96   Industrial Goods & Services        193         2777   \n",
       "97   Industrial Goods & Services        191         2773   \n",
       "98   Industrial Goods & Services        193         2777   \n",
       "99   Industrial Goods & Services        189         2757   \n",
       "100   Personal & Household Goods        228         3767   \n",
       "\n",
       "                        website T9_SHolder T5_SHolder  Free_float  \n",
       "0        https://www.ssi.com.vn     0.2672     0.2613    0.998668  \n",
       "1        https://becamex.com.vn     0.9658     0.9636    1.000000  \n",
       "2        https://vinhomes.vn/vi     0.7202     0.0000    1.000000  \n",
       "3       http://www.vingroup.net     0.7276     0.6783    1.000000  \n",
       "4         https://vincom.com.vn     0.5887     0.0000    0.975739  \n",
       "..                          ...        ...        ...         ...  \n",
       "96   http://www.gemadept.com.vn     0.1713     0.1617    1.000000  \n",
       "97       http://www.pvtrans.com     0.5111     0.5100    1.000000  \n",
       "98      http://transimex.com.vn     1.0000     0.7396    1.000000  \n",
       "99      https://www.reecorp.com     0.6844     0.6282    0.997559  \n",
       "100   http://www.netcovn.com.vn     0.9293     0.9218    1.000000  \n",
       "\n",
       "[101 rows x 22 columns]"
      ]
     },
     "execution_count": 3,
     "metadata": {},
     "output_type": "execute_result"
    }
   ],
   "source": [
    "DF_TCK = pd.read_sql('SELECT * FROM Profile_',conn)\n",
    "DF_TCK"
   ]
  },
  {
   "cell_type": "code",
   "execution_count": 5,
   "metadata": {},
   "outputs": [
    {
     "data": {
      "text/plain": [
       "['SSI',\n",
       " 'BCM',\n",
       " 'VHM',\n",
       " 'VIC',\n",
       " 'VRE',\n",
       " 'BVH',\n",
       " 'POW',\n",
       " 'GAS',\n",
       " 'ACB',\n",
       " 'BID',\n",
       " 'CTG',\n",
       " 'HDB',\n",
       " 'MBB',\n",
       " 'SSB',\n",
       " 'SHB',\n",
       " 'STB',\n",
       " 'TCB',\n",
       " 'TPB',\n",
       " 'VCB',\n",
       " 'VIB',\n",
       " 'VPB',\n",
       " 'HPG',\n",
       " 'GVR',\n",
       " 'MSN',\n",
       " 'VNM',\n",
       " 'SAB',\n",
       " 'VJC',\n",
       " 'MWG',\n",
       " 'PLX',\n",
       " 'FPT',\n",
       " 'BCG',\n",
       " 'FTS',\n",
       " 'HCM',\n",
       " 'VCI',\n",
       " 'VIX',\n",
       " 'VND',\n",
       " 'AGG',\n",
       " 'CRE',\n",
       " 'DIG',\n",
       " 'DXG',\n",
       " 'DXS',\n",
       " 'HDC',\n",
       " 'HDG',\n",
       " 'TCH',\n",
       " 'KBC',\n",
       " 'KDH',\n",
       " 'KOS',\n",
       " 'NLG',\n",
       " 'PDR',\n",
       " 'SZC',\n",
       " 'SJS',\n",
       " 'VPI',\n",
       " 'GEG',\n",
       " 'NT2',\n",
       " 'PPC',\n",
       " 'VSH',\n",
       " 'BWE',\n",
       " 'EIB',\n",
       " 'LPB',\n",
       " 'MSB',\n",
       " 'OCB',\n",
       " 'DHC',\n",
       " 'PTB',\n",
       " 'HSG',\n",
       " 'NKG',\n",
       " 'AAA',\n",
       " 'DCM',\n",
       " 'DGC',\n",
       " 'DPM',\n",
       " 'PHR',\n",
       " 'ANV',\n",
       " 'ASM',\n",
       " 'DBC',\n",
       " 'HAG',\n",
       " 'KDC',\n",
       " 'PAN',\n",
       " 'SBT',\n",
       " 'VHC',\n",
       " 'PNJ',\n",
       " 'SCS',\n",
       " 'DGW',\n",
       " 'FRT',\n",
       " 'PVD',\n",
       " 'IMP',\n",
       " 'SAM',\n",
       " 'CMG',\n",
       " 'BMP',\n",
       " 'CII',\n",
       " 'CTD',\n",
       " 'CTR',\n",
       " 'HHV',\n",
       " 'HT1',\n",
       " 'PC1',\n",
       " 'VCG',\n",
       " 'VGC',\n",
       " 'GEX',\n",
       " 'GMD',\n",
       " 'PVT',\n",
       " 'TMS',\n",
       " 'REE',\n",
       " 'NET']"
      ]
     },
     "execution_count": 5,
     "metadata": {},
     "output_type": "execute_result"
    }
   ],
   "source": [
    "List_TCK = DF_TCK['ticker'].to_list()\n",
    "List_TCK"
   ]
  },
  {
   "cell_type": "code",
   "execution_count": 15,
   "metadata": {},
   "outputs": [
    {
     "name": "stderr",
     "output_type": "stream",
     "text": [
      "C:\\Users\\nvdun\\AppData\\Local\\Temp\\ipykernel_13500\\3101836222.py:7: FutureWarning: Series.__getitem__ treating keys as positions is deprecated. In a future version, integer keys will always be treated as labels (consistent with DataFrame behavior). To access a value by position, use `ser.iloc[pos]`\n",
      "  Top_9_SHolder = DF_.sum(axis=0)[2]\n",
      "C:\\Users\\nvdun\\AppData\\Local\\Temp\\ipykernel_13500\\3101836222.py:11: FutureWarning: Series.__getitem__ treating keys as positions is deprecated. In a future version, integer keys will always be treated as labels (consistent with DataFrame behavior). To access a value by position, use `ser.iloc[pos]`\n",
      "  Top_5_SHolder = DF_.sum(axis=0)[2]\n"
     ]
    },
    {
     "name": "stdout",
     "output_type": "stream",
     "text": [
      "1\n"
     ]
    },
    {
     "name": "stderr",
     "output_type": "stream",
     "text": [
      "C:\\Users\\nvdun\\AppData\\Local\\Temp\\ipykernel_13500\\3101836222.py:7: FutureWarning: Series.__getitem__ treating keys as positions is deprecated. In a future version, integer keys will always be treated as labels (consistent with DataFrame behavior). To access a value by position, use `ser.iloc[pos]`\n",
      "  Top_9_SHolder = DF_.sum(axis=0)[2]\n",
      "C:\\Users\\nvdun\\AppData\\Local\\Temp\\ipykernel_13500\\3101836222.py:11: FutureWarning: Series.__getitem__ treating keys as positions is deprecated. In a future version, integer keys will always be treated as labels (consistent with DataFrame behavior). To access a value by position, use `ser.iloc[pos]`\n",
      "  Top_5_SHolder = DF_.sum(axis=0)[2]\n"
     ]
    },
    {
     "name": "stdout",
     "output_type": "stream",
     "text": [
      "2\n"
     ]
    },
    {
     "name": "stderr",
     "output_type": "stream",
     "text": [
      "C:\\Users\\nvdun\\AppData\\Local\\Temp\\ipykernel_13500\\3101836222.py:7: FutureWarning: Series.__getitem__ treating keys as positions is deprecated. In a future version, integer keys will always be treated as labels (consistent with DataFrame behavior). To access a value by position, use `ser.iloc[pos]`\n",
      "  Top_9_SHolder = DF_.sum(axis=0)[2]\n",
      "C:\\Users\\nvdun\\AppData\\Local\\Temp\\ipykernel_13500\\3101836222.py:11: FutureWarning: Series.__getitem__ treating keys as positions is deprecated. In a future version, integer keys will always be treated as labels (consistent with DataFrame behavior). To access a value by position, use `ser.iloc[pos]`\n",
      "  Top_5_SHolder = DF_.sum(axis=0)[2]\n"
     ]
    },
    {
     "name": "stdout",
     "output_type": "stream",
     "text": [
      "3\n"
     ]
    },
    {
     "name": "stderr",
     "output_type": "stream",
     "text": [
      "C:\\Users\\nvdun\\AppData\\Local\\Temp\\ipykernel_13500\\3101836222.py:7: FutureWarning: Series.__getitem__ treating keys as positions is deprecated. In a future version, integer keys will always be treated as labels (consistent with DataFrame behavior). To access a value by position, use `ser.iloc[pos]`\n",
      "  Top_9_SHolder = DF_.sum(axis=0)[2]\n",
      "C:\\Users\\nvdun\\AppData\\Local\\Temp\\ipykernel_13500\\3101836222.py:11: FutureWarning: Series.__getitem__ treating keys as positions is deprecated. In a future version, integer keys will always be treated as labels (consistent with DataFrame behavior). To access a value by position, use `ser.iloc[pos]`\n",
      "  Top_5_SHolder = DF_.sum(axis=0)[2]\n"
     ]
    },
    {
     "name": "stdout",
     "output_type": "stream",
     "text": [
      "4\n"
     ]
    },
    {
     "name": "stderr",
     "output_type": "stream",
     "text": [
      "C:\\Users\\nvdun\\AppData\\Local\\Temp\\ipykernel_13500\\3101836222.py:7: FutureWarning: Series.__getitem__ treating keys as positions is deprecated. In a future version, integer keys will always be treated as labels (consistent with DataFrame behavior). To access a value by position, use `ser.iloc[pos]`\n",
      "  Top_9_SHolder = DF_.sum(axis=0)[2]\n",
      "C:\\Users\\nvdun\\AppData\\Local\\Temp\\ipykernel_13500\\3101836222.py:11: FutureWarning: Series.__getitem__ treating keys as positions is deprecated. In a future version, integer keys will always be treated as labels (consistent with DataFrame behavior). To access a value by position, use `ser.iloc[pos]`\n",
      "  Top_5_SHolder = DF_.sum(axis=0)[2]\n"
     ]
    },
    {
     "name": "stdout",
     "output_type": "stream",
     "text": [
      "5\n"
     ]
    },
    {
     "name": "stderr",
     "output_type": "stream",
     "text": [
      "C:\\Users\\nvdun\\AppData\\Local\\Temp\\ipykernel_13500\\3101836222.py:7: FutureWarning: Series.__getitem__ treating keys as positions is deprecated. In a future version, integer keys will always be treated as labels (consistent with DataFrame behavior). To access a value by position, use `ser.iloc[pos]`\n",
      "  Top_9_SHolder = DF_.sum(axis=0)[2]\n",
      "C:\\Users\\nvdun\\AppData\\Local\\Temp\\ipykernel_13500\\3101836222.py:11: FutureWarning: Series.__getitem__ treating keys as positions is deprecated. In a future version, integer keys will always be treated as labels (consistent with DataFrame behavior). To access a value by position, use `ser.iloc[pos]`\n",
      "  Top_5_SHolder = DF_.sum(axis=0)[2]\n"
     ]
    },
    {
     "name": "stdout",
     "output_type": "stream",
     "text": [
      "6\n"
     ]
    },
    {
     "name": "stderr",
     "output_type": "stream",
     "text": [
      "C:\\Users\\nvdun\\AppData\\Local\\Temp\\ipykernel_13500\\3101836222.py:7: FutureWarning: Series.__getitem__ treating keys as positions is deprecated. In a future version, integer keys will always be treated as labels (consistent with DataFrame behavior). To access a value by position, use `ser.iloc[pos]`\n",
      "  Top_9_SHolder = DF_.sum(axis=0)[2]\n",
      "C:\\Users\\nvdun\\AppData\\Local\\Temp\\ipykernel_13500\\3101836222.py:11: FutureWarning: Series.__getitem__ treating keys as positions is deprecated. In a future version, integer keys will always be treated as labels (consistent with DataFrame behavior). To access a value by position, use `ser.iloc[pos]`\n",
      "  Top_5_SHolder = DF_.sum(axis=0)[2]\n"
     ]
    },
    {
     "name": "stdout",
     "output_type": "stream",
     "text": [
      "7\n"
     ]
    },
    {
     "name": "stderr",
     "output_type": "stream",
     "text": [
      "C:\\Users\\nvdun\\AppData\\Local\\Temp\\ipykernel_13500\\3101836222.py:7: FutureWarning: Series.__getitem__ treating keys as positions is deprecated. In a future version, integer keys will always be treated as labels (consistent with DataFrame behavior). To access a value by position, use `ser.iloc[pos]`\n",
      "  Top_9_SHolder = DF_.sum(axis=0)[2]\n",
      "C:\\Users\\nvdun\\AppData\\Local\\Temp\\ipykernel_13500\\3101836222.py:11: FutureWarning: Series.__getitem__ treating keys as positions is deprecated. In a future version, integer keys will always be treated as labels (consistent with DataFrame behavior). To access a value by position, use `ser.iloc[pos]`\n",
      "  Top_5_SHolder = DF_.sum(axis=0)[2]\n"
     ]
    },
    {
     "name": "stdout",
     "output_type": "stream",
     "text": [
      "8\n"
     ]
    },
    {
     "name": "stderr",
     "output_type": "stream",
     "text": [
      "C:\\Users\\nvdun\\AppData\\Local\\Temp\\ipykernel_13500\\3101836222.py:7: FutureWarning: Series.__getitem__ treating keys as positions is deprecated. In a future version, integer keys will always be treated as labels (consistent with DataFrame behavior). To access a value by position, use `ser.iloc[pos]`\n",
      "  Top_9_SHolder = DF_.sum(axis=0)[2]\n",
      "C:\\Users\\nvdun\\AppData\\Local\\Temp\\ipykernel_13500\\3101836222.py:11: FutureWarning: Series.__getitem__ treating keys as positions is deprecated. In a future version, integer keys will always be treated as labels (consistent with DataFrame behavior). To access a value by position, use `ser.iloc[pos]`\n",
      "  Top_5_SHolder = DF_.sum(axis=0)[2]\n"
     ]
    },
    {
     "name": "stdout",
     "output_type": "stream",
     "text": [
      "9\n"
     ]
    },
    {
     "name": "stderr",
     "output_type": "stream",
     "text": [
      "C:\\Users\\nvdun\\AppData\\Local\\Temp\\ipykernel_13500\\3101836222.py:7: FutureWarning: Series.__getitem__ treating keys as positions is deprecated. In a future version, integer keys will always be treated as labels (consistent with DataFrame behavior). To access a value by position, use `ser.iloc[pos]`\n",
      "  Top_9_SHolder = DF_.sum(axis=0)[2]\n",
      "C:\\Users\\nvdun\\AppData\\Local\\Temp\\ipykernel_13500\\3101836222.py:11: FutureWarning: Series.__getitem__ treating keys as positions is deprecated. In a future version, integer keys will always be treated as labels (consistent with DataFrame behavior). To access a value by position, use `ser.iloc[pos]`\n",
      "  Top_5_SHolder = DF_.sum(axis=0)[2]\n"
     ]
    },
    {
     "name": "stdout",
     "output_type": "stream",
     "text": [
      "10\n"
     ]
    },
    {
     "name": "stderr",
     "output_type": "stream",
     "text": [
      "C:\\Users\\nvdun\\AppData\\Local\\Temp\\ipykernel_13500\\3101836222.py:7: FutureWarning: Series.__getitem__ treating keys as positions is deprecated. In a future version, integer keys will always be treated as labels (consistent with DataFrame behavior). To access a value by position, use `ser.iloc[pos]`\n",
      "  Top_9_SHolder = DF_.sum(axis=0)[2]\n",
      "C:\\Users\\nvdun\\AppData\\Local\\Temp\\ipykernel_13500\\3101836222.py:11: FutureWarning: Series.__getitem__ treating keys as positions is deprecated. In a future version, integer keys will always be treated as labels (consistent with DataFrame behavior). To access a value by position, use `ser.iloc[pos]`\n",
      "  Top_5_SHolder = DF_.sum(axis=0)[2]\n"
     ]
    },
    {
     "name": "stdout",
     "output_type": "stream",
     "text": [
      "11\n"
     ]
    },
    {
     "name": "stderr",
     "output_type": "stream",
     "text": [
      "C:\\Users\\nvdun\\AppData\\Local\\Temp\\ipykernel_13500\\3101836222.py:7: FutureWarning: Series.__getitem__ treating keys as positions is deprecated. In a future version, integer keys will always be treated as labels (consistent with DataFrame behavior). To access a value by position, use `ser.iloc[pos]`\n",
      "  Top_9_SHolder = DF_.sum(axis=0)[2]\n",
      "C:\\Users\\nvdun\\AppData\\Local\\Temp\\ipykernel_13500\\3101836222.py:11: FutureWarning: Series.__getitem__ treating keys as positions is deprecated. In a future version, integer keys will always be treated as labels (consistent with DataFrame behavior). To access a value by position, use `ser.iloc[pos]`\n",
      "  Top_5_SHolder = DF_.sum(axis=0)[2]\n"
     ]
    },
    {
     "name": "stdout",
     "output_type": "stream",
     "text": [
      "12\n"
     ]
    },
    {
     "name": "stderr",
     "output_type": "stream",
     "text": [
      "C:\\Users\\nvdun\\AppData\\Local\\Temp\\ipykernel_13500\\3101836222.py:7: FutureWarning: Series.__getitem__ treating keys as positions is deprecated. In a future version, integer keys will always be treated as labels (consistent with DataFrame behavior). To access a value by position, use `ser.iloc[pos]`\n",
      "  Top_9_SHolder = DF_.sum(axis=0)[2]\n",
      "C:\\Users\\nvdun\\AppData\\Local\\Temp\\ipykernel_13500\\3101836222.py:11: FutureWarning: Series.__getitem__ treating keys as positions is deprecated. In a future version, integer keys will always be treated as labels (consistent with DataFrame behavior). To access a value by position, use `ser.iloc[pos]`\n",
      "  Top_5_SHolder = DF_.sum(axis=0)[2]\n"
     ]
    },
    {
     "name": "stdout",
     "output_type": "stream",
     "text": [
      "13\n"
     ]
    },
    {
     "name": "stderr",
     "output_type": "stream",
     "text": [
      "C:\\Users\\nvdun\\AppData\\Local\\Temp\\ipykernel_13500\\3101836222.py:7: FutureWarning: Series.__getitem__ treating keys as positions is deprecated. In a future version, integer keys will always be treated as labels (consistent with DataFrame behavior). To access a value by position, use `ser.iloc[pos]`\n",
      "  Top_9_SHolder = DF_.sum(axis=0)[2]\n",
      "C:\\Users\\nvdun\\AppData\\Local\\Temp\\ipykernel_13500\\3101836222.py:11: FutureWarning: Series.__getitem__ treating keys as positions is deprecated. In a future version, integer keys will always be treated as labels (consistent with DataFrame behavior). To access a value by position, use `ser.iloc[pos]`\n",
      "  Top_5_SHolder = DF_.sum(axis=0)[2]\n"
     ]
    },
    {
     "name": "stdout",
     "output_type": "stream",
     "text": [
      "14\n"
     ]
    },
    {
     "name": "stderr",
     "output_type": "stream",
     "text": [
      "C:\\Users\\nvdun\\AppData\\Local\\Temp\\ipykernel_13500\\3101836222.py:7: FutureWarning: Series.__getitem__ treating keys as positions is deprecated. In a future version, integer keys will always be treated as labels (consistent with DataFrame behavior). To access a value by position, use `ser.iloc[pos]`\n",
      "  Top_9_SHolder = DF_.sum(axis=0)[2]\n",
      "C:\\Users\\nvdun\\AppData\\Local\\Temp\\ipykernel_13500\\3101836222.py:11: FutureWarning: Series.__getitem__ treating keys as positions is deprecated. In a future version, integer keys will always be treated as labels (consistent with DataFrame behavior). To access a value by position, use `ser.iloc[pos]`\n",
      "  Top_5_SHolder = DF_.sum(axis=0)[2]\n"
     ]
    },
    {
     "name": "stdout",
     "output_type": "stream",
     "text": [
      "15\n"
     ]
    },
    {
     "name": "stderr",
     "output_type": "stream",
     "text": [
      "C:\\Users\\nvdun\\AppData\\Local\\Temp\\ipykernel_13500\\3101836222.py:7: FutureWarning: Series.__getitem__ treating keys as positions is deprecated. In a future version, integer keys will always be treated as labels (consistent with DataFrame behavior). To access a value by position, use `ser.iloc[pos]`\n",
      "  Top_9_SHolder = DF_.sum(axis=0)[2]\n",
      "C:\\Users\\nvdun\\AppData\\Local\\Temp\\ipykernel_13500\\3101836222.py:11: FutureWarning: Series.__getitem__ treating keys as positions is deprecated. In a future version, integer keys will always be treated as labels (consistent with DataFrame behavior). To access a value by position, use `ser.iloc[pos]`\n",
      "  Top_5_SHolder = DF_.sum(axis=0)[2]\n"
     ]
    },
    {
     "name": "stdout",
     "output_type": "stream",
     "text": [
      "16\n"
     ]
    },
    {
     "name": "stderr",
     "output_type": "stream",
     "text": [
      "C:\\Users\\nvdun\\AppData\\Local\\Temp\\ipykernel_13500\\3101836222.py:7: FutureWarning: Series.__getitem__ treating keys as positions is deprecated. In a future version, integer keys will always be treated as labels (consistent with DataFrame behavior). To access a value by position, use `ser.iloc[pos]`\n",
      "  Top_9_SHolder = DF_.sum(axis=0)[2]\n",
      "C:\\Users\\nvdun\\AppData\\Local\\Temp\\ipykernel_13500\\3101836222.py:11: FutureWarning: Series.__getitem__ treating keys as positions is deprecated. In a future version, integer keys will always be treated as labels (consistent with DataFrame behavior). To access a value by position, use `ser.iloc[pos]`\n",
      "  Top_5_SHolder = DF_.sum(axis=0)[2]\n"
     ]
    },
    {
     "name": "stdout",
     "output_type": "stream",
     "text": [
      "17\n"
     ]
    },
    {
     "name": "stderr",
     "output_type": "stream",
     "text": [
      "C:\\Users\\nvdun\\AppData\\Local\\Temp\\ipykernel_13500\\3101836222.py:7: FutureWarning: Series.__getitem__ treating keys as positions is deprecated. In a future version, integer keys will always be treated as labels (consistent with DataFrame behavior). To access a value by position, use `ser.iloc[pos]`\n",
      "  Top_9_SHolder = DF_.sum(axis=0)[2]\n",
      "C:\\Users\\nvdun\\AppData\\Local\\Temp\\ipykernel_13500\\3101836222.py:11: FutureWarning: Series.__getitem__ treating keys as positions is deprecated. In a future version, integer keys will always be treated as labels (consistent with DataFrame behavior). To access a value by position, use `ser.iloc[pos]`\n",
      "  Top_5_SHolder = DF_.sum(axis=0)[2]\n"
     ]
    },
    {
     "name": "stdout",
     "output_type": "stream",
     "text": [
      "18\n"
     ]
    },
    {
     "name": "stderr",
     "output_type": "stream",
     "text": [
      "C:\\Users\\nvdun\\AppData\\Local\\Temp\\ipykernel_13500\\3101836222.py:7: FutureWarning: Series.__getitem__ treating keys as positions is deprecated. In a future version, integer keys will always be treated as labels (consistent with DataFrame behavior). To access a value by position, use `ser.iloc[pos]`\n",
      "  Top_9_SHolder = DF_.sum(axis=0)[2]\n",
      "C:\\Users\\nvdun\\AppData\\Local\\Temp\\ipykernel_13500\\3101836222.py:11: FutureWarning: Series.__getitem__ treating keys as positions is deprecated. In a future version, integer keys will always be treated as labels (consistent with DataFrame behavior). To access a value by position, use `ser.iloc[pos]`\n",
      "  Top_5_SHolder = DF_.sum(axis=0)[2]\n"
     ]
    },
    {
     "name": "stdout",
     "output_type": "stream",
     "text": [
      "19\n"
     ]
    },
    {
     "name": "stderr",
     "output_type": "stream",
     "text": [
      "C:\\Users\\nvdun\\AppData\\Local\\Temp\\ipykernel_13500\\3101836222.py:7: FutureWarning: Series.__getitem__ treating keys as positions is deprecated. In a future version, integer keys will always be treated as labels (consistent with DataFrame behavior). To access a value by position, use `ser.iloc[pos]`\n",
      "  Top_9_SHolder = DF_.sum(axis=0)[2]\n",
      "C:\\Users\\nvdun\\AppData\\Local\\Temp\\ipykernel_13500\\3101836222.py:11: FutureWarning: Series.__getitem__ treating keys as positions is deprecated. In a future version, integer keys will always be treated as labels (consistent with DataFrame behavior). To access a value by position, use `ser.iloc[pos]`\n",
      "  Top_5_SHolder = DF_.sum(axis=0)[2]\n"
     ]
    },
    {
     "name": "stdout",
     "output_type": "stream",
     "text": [
      "20\n"
     ]
    },
    {
     "name": "stderr",
     "output_type": "stream",
     "text": [
      "C:\\Users\\nvdun\\AppData\\Local\\Temp\\ipykernel_13500\\3101836222.py:7: FutureWarning: Series.__getitem__ treating keys as positions is deprecated. In a future version, integer keys will always be treated as labels (consistent with DataFrame behavior). To access a value by position, use `ser.iloc[pos]`\n",
      "  Top_9_SHolder = DF_.sum(axis=0)[2]\n",
      "C:\\Users\\nvdun\\AppData\\Local\\Temp\\ipykernel_13500\\3101836222.py:11: FutureWarning: Series.__getitem__ treating keys as positions is deprecated. In a future version, integer keys will always be treated as labels (consistent with DataFrame behavior). To access a value by position, use `ser.iloc[pos]`\n",
      "  Top_5_SHolder = DF_.sum(axis=0)[2]\n"
     ]
    },
    {
     "name": "stdout",
     "output_type": "stream",
     "text": [
      "21\n"
     ]
    },
    {
     "name": "stderr",
     "output_type": "stream",
     "text": [
      "C:\\Users\\nvdun\\AppData\\Local\\Temp\\ipykernel_13500\\3101836222.py:7: FutureWarning: Series.__getitem__ treating keys as positions is deprecated. In a future version, integer keys will always be treated as labels (consistent with DataFrame behavior). To access a value by position, use `ser.iloc[pos]`\n",
      "  Top_9_SHolder = DF_.sum(axis=0)[2]\n",
      "C:\\Users\\nvdun\\AppData\\Local\\Temp\\ipykernel_13500\\3101836222.py:11: FutureWarning: Series.__getitem__ treating keys as positions is deprecated. In a future version, integer keys will always be treated as labels (consistent with DataFrame behavior). To access a value by position, use `ser.iloc[pos]`\n",
      "  Top_5_SHolder = DF_.sum(axis=0)[2]\n"
     ]
    },
    {
     "name": "stdout",
     "output_type": "stream",
     "text": [
      "22\n"
     ]
    },
    {
     "name": "stderr",
     "output_type": "stream",
     "text": [
      "C:\\Users\\nvdun\\AppData\\Local\\Temp\\ipykernel_13500\\3101836222.py:7: FutureWarning: Series.__getitem__ treating keys as positions is deprecated. In a future version, integer keys will always be treated as labels (consistent with DataFrame behavior). To access a value by position, use `ser.iloc[pos]`\n",
      "  Top_9_SHolder = DF_.sum(axis=0)[2]\n",
      "C:\\Users\\nvdun\\AppData\\Local\\Temp\\ipykernel_13500\\3101836222.py:11: FutureWarning: Series.__getitem__ treating keys as positions is deprecated. In a future version, integer keys will always be treated as labels (consistent with DataFrame behavior). To access a value by position, use `ser.iloc[pos]`\n",
      "  Top_5_SHolder = DF_.sum(axis=0)[2]\n"
     ]
    },
    {
     "name": "stdout",
     "output_type": "stream",
     "text": [
      "23\n"
     ]
    },
    {
     "name": "stderr",
     "output_type": "stream",
     "text": [
      "C:\\Users\\nvdun\\AppData\\Local\\Temp\\ipykernel_13500\\3101836222.py:7: FutureWarning: Series.__getitem__ treating keys as positions is deprecated. In a future version, integer keys will always be treated as labels (consistent with DataFrame behavior). To access a value by position, use `ser.iloc[pos]`\n",
      "  Top_9_SHolder = DF_.sum(axis=0)[2]\n",
      "C:\\Users\\nvdun\\AppData\\Local\\Temp\\ipykernel_13500\\3101836222.py:11: FutureWarning: Series.__getitem__ treating keys as positions is deprecated. In a future version, integer keys will always be treated as labels (consistent with DataFrame behavior). To access a value by position, use `ser.iloc[pos]`\n",
      "  Top_5_SHolder = DF_.sum(axis=0)[2]\n"
     ]
    },
    {
     "name": "stdout",
     "output_type": "stream",
     "text": [
      "24\n"
     ]
    },
    {
     "name": "stderr",
     "output_type": "stream",
     "text": [
      "C:\\Users\\nvdun\\AppData\\Local\\Temp\\ipykernel_13500\\3101836222.py:7: FutureWarning: Series.__getitem__ treating keys as positions is deprecated. In a future version, integer keys will always be treated as labels (consistent with DataFrame behavior). To access a value by position, use `ser.iloc[pos]`\n",
      "  Top_9_SHolder = DF_.sum(axis=0)[2]\n",
      "C:\\Users\\nvdun\\AppData\\Local\\Temp\\ipykernel_13500\\3101836222.py:11: FutureWarning: Series.__getitem__ treating keys as positions is deprecated. In a future version, integer keys will always be treated as labels (consistent with DataFrame behavior). To access a value by position, use `ser.iloc[pos]`\n",
      "  Top_5_SHolder = DF_.sum(axis=0)[2]\n"
     ]
    },
    {
     "name": "stdout",
     "output_type": "stream",
     "text": [
      "25\n"
     ]
    },
    {
     "name": "stderr",
     "output_type": "stream",
     "text": [
      "C:\\Users\\nvdun\\AppData\\Local\\Temp\\ipykernel_13500\\3101836222.py:7: FutureWarning: Series.__getitem__ treating keys as positions is deprecated. In a future version, integer keys will always be treated as labels (consistent with DataFrame behavior). To access a value by position, use `ser.iloc[pos]`\n",
      "  Top_9_SHolder = DF_.sum(axis=0)[2]\n",
      "C:\\Users\\nvdun\\AppData\\Local\\Temp\\ipykernel_13500\\3101836222.py:11: FutureWarning: Series.__getitem__ treating keys as positions is deprecated. In a future version, integer keys will always be treated as labels (consistent with DataFrame behavior). To access a value by position, use `ser.iloc[pos]`\n",
      "  Top_5_SHolder = DF_.sum(axis=0)[2]\n"
     ]
    },
    {
     "name": "stdout",
     "output_type": "stream",
     "text": [
      "26\n"
     ]
    },
    {
     "name": "stderr",
     "output_type": "stream",
     "text": [
      "C:\\Users\\nvdun\\AppData\\Local\\Temp\\ipykernel_13500\\3101836222.py:7: FutureWarning: Series.__getitem__ treating keys as positions is deprecated. In a future version, integer keys will always be treated as labels (consistent with DataFrame behavior). To access a value by position, use `ser.iloc[pos]`\n",
      "  Top_9_SHolder = DF_.sum(axis=0)[2]\n",
      "C:\\Users\\nvdun\\AppData\\Local\\Temp\\ipykernel_13500\\3101836222.py:11: FutureWarning: Series.__getitem__ treating keys as positions is deprecated. In a future version, integer keys will always be treated as labels (consistent with DataFrame behavior). To access a value by position, use `ser.iloc[pos]`\n",
      "  Top_5_SHolder = DF_.sum(axis=0)[2]\n"
     ]
    },
    {
     "name": "stdout",
     "output_type": "stream",
     "text": [
      "27\n"
     ]
    },
    {
     "name": "stderr",
     "output_type": "stream",
     "text": [
      "C:\\Users\\nvdun\\AppData\\Local\\Temp\\ipykernel_13500\\3101836222.py:7: FutureWarning: Series.__getitem__ treating keys as positions is deprecated. In a future version, integer keys will always be treated as labels (consistent with DataFrame behavior). To access a value by position, use `ser.iloc[pos]`\n",
      "  Top_9_SHolder = DF_.sum(axis=0)[2]\n",
      "C:\\Users\\nvdun\\AppData\\Local\\Temp\\ipykernel_13500\\3101836222.py:11: FutureWarning: Series.__getitem__ treating keys as positions is deprecated. In a future version, integer keys will always be treated as labels (consistent with DataFrame behavior). To access a value by position, use `ser.iloc[pos]`\n",
      "  Top_5_SHolder = DF_.sum(axis=0)[2]\n"
     ]
    },
    {
     "name": "stdout",
     "output_type": "stream",
     "text": [
      "28\n"
     ]
    },
    {
     "name": "stderr",
     "output_type": "stream",
     "text": [
      "C:\\Users\\nvdun\\AppData\\Local\\Temp\\ipykernel_13500\\3101836222.py:7: FutureWarning: Series.__getitem__ treating keys as positions is deprecated. In a future version, integer keys will always be treated as labels (consistent with DataFrame behavior). To access a value by position, use `ser.iloc[pos]`\n",
      "  Top_9_SHolder = DF_.sum(axis=0)[2]\n",
      "C:\\Users\\nvdun\\AppData\\Local\\Temp\\ipykernel_13500\\3101836222.py:11: FutureWarning: Series.__getitem__ treating keys as positions is deprecated. In a future version, integer keys will always be treated as labels (consistent with DataFrame behavior). To access a value by position, use `ser.iloc[pos]`\n",
      "  Top_5_SHolder = DF_.sum(axis=0)[2]\n"
     ]
    },
    {
     "name": "stdout",
     "output_type": "stream",
     "text": [
      "29\n"
     ]
    },
    {
     "name": "stderr",
     "output_type": "stream",
     "text": [
      "C:\\Users\\nvdun\\AppData\\Local\\Temp\\ipykernel_13500\\3101836222.py:7: FutureWarning: Series.__getitem__ treating keys as positions is deprecated. In a future version, integer keys will always be treated as labels (consistent with DataFrame behavior). To access a value by position, use `ser.iloc[pos]`\n",
      "  Top_9_SHolder = DF_.sum(axis=0)[2]\n",
      "C:\\Users\\nvdun\\AppData\\Local\\Temp\\ipykernel_13500\\3101836222.py:11: FutureWarning: Series.__getitem__ treating keys as positions is deprecated. In a future version, integer keys will always be treated as labels (consistent with DataFrame behavior). To access a value by position, use `ser.iloc[pos]`\n",
      "  Top_5_SHolder = DF_.sum(axis=0)[2]\n"
     ]
    },
    {
     "name": "stdout",
     "output_type": "stream",
     "text": [
      "30\n"
     ]
    },
    {
     "name": "stderr",
     "output_type": "stream",
     "text": [
      "C:\\Users\\nvdun\\AppData\\Local\\Temp\\ipykernel_13500\\3101836222.py:7: FutureWarning: Series.__getitem__ treating keys as positions is deprecated. In a future version, integer keys will always be treated as labels (consistent with DataFrame behavior). To access a value by position, use `ser.iloc[pos]`\n",
      "  Top_9_SHolder = DF_.sum(axis=0)[2]\n",
      "C:\\Users\\nvdun\\AppData\\Local\\Temp\\ipykernel_13500\\3101836222.py:11: FutureWarning: Series.__getitem__ treating keys as positions is deprecated. In a future version, integer keys will always be treated as labels (consistent with DataFrame behavior). To access a value by position, use `ser.iloc[pos]`\n",
      "  Top_5_SHolder = DF_.sum(axis=0)[2]\n"
     ]
    },
    {
     "name": "stdout",
     "output_type": "stream",
     "text": [
      "31\n"
     ]
    },
    {
     "name": "stderr",
     "output_type": "stream",
     "text": [
      "C:\\Users\\nvdun\\AppData\\Local\\Temp\\ipykernel_13500\\3101836222.py:7: FutureWarning: Series.__getitem__ treating keys as positions is deprecated. In a future version, integer keys will always be treated as labels (consistent with DataFrame behavior). To access a value by position, use `ser.iloc[pos]`\n",
      "  Top_9_SHolder = DF_.sum(axis=0)[2]\n",
      "C:\\Users\\nvdun\\AppData\\Local\\Temp\\ipykernel_13500\\3101836222.py:11: FutureWarning: Series.__getitem__ treating keys as positions is deprecated. In a future version, integer keys will always be treated as labels (consistent with DataFrame behavior). To access a value by position, use `ser.iloc[pos]`\n",
      "  Top_5_SHolder = DF_.sum(axis=0)[2]\n"
     ]
    },
    {
     "name": "stdout",
     "output_type": "stream",
     "text": [
      "32\n"
     ]
    },
    {
     "name": "stderr",
     "output_type": "stream",
     "text": [
      "C:\\Users\\nvdun\\AppData\\Local\\Temp\\ipykernel_13500\\3101836222.py:7: FutureWarning: Series.__getitem__ treating keys as positions is deprecated. In a future version, integer keys will always be treated as labels (consistent with DataFrame behavior). To access a value by position, use `ser.iloc[pos]`\n",
      "  Top_9_SHolder = DF_.sum(axis=0)[2]\n",
      "C:\\Users\\nvdun\\AppData\\Local\\Temp\\ipykernel_13500\\3101836222.py:11: FutureWarning: Series.__getitem__ treating keys as positions is deprecated. In a future version, integer keys will always be treated as labels (consistent with DataFrame behavior). To access a value by position, use `ser.iloc[pos]`\n",
      "  Top_5_SHolder = DF_.sum(axis=0)[2]\n"
     ]
    },
    {
     "name": "stdout",
     "output_type": "stream",
     "text": [
      "33\n"
     ]
    },
    {
     "name": "stderr",
     "output_type": "stream",
     "text": [
      "C:\\Users\\nvdun\\AppData\\Local\\Temp\\ipykernel_13500\\3101836222.py:7: FutureWarning: Series.__getitem__ treating keys as positions is deprecated. In a future version, integer keys will always be treated as labels (consistent with DataFrame behavior). To access a value by position, use `ser.iloc[pos]`\n",
      "  Top_9_SHolder = DF_.sum(axis=0)[2]\n",
      "C:\\Users\\nvdun\\AppData\\Local\\Temp\\ipykernel_13500\\3101836222.py:11: FutureWarning: Series.__getitem__ treating keys as positions is deprecated. In a future version, integer keys will always be treated as labels (consistent with DataFrame behavior). To access a value by position, use `ser.iloc[pos]`\n",
      "  Top_5_SHolder = DF_.sum(axis=0)[2]\n"
     ]
    },
    {
     "name": "stdout",
     "output_type": "stream",
     "text": [
      "34\n"
     ]
    },
    {
     "name": "stderr",
     "output_type": "stream",
     "text": [
      "C:\\Users\\nvdun\\AppData\\Local\\Temp\\ipykernel_13500\\3101836222.py:7: FutureWarning: Series.__getitem__ treating keys as positions is deprecated. In a future version, integer keys will always be treated as labels (consistent with DataFrame behavior). To access a value by position, use `ser.iloc[pos]`\n",
      "  Top_9_SHolder = DF_.sum(axis=0)[2]\n",
      "C:\\Users\\nvdun\\AppData\\Local\\Temp\\ipykernel_13500\\3101836222.py:11: FutureWarning: Series.__getitem__ treating keys as positions is deprecated. In a future version, integer keys will always be treated as labels (consistent with DataFrame behavior). To access a value by position, use `ser.iloc[pos]`\n",
      "  Top_5_SHolder = DF_.sum(axis=0)[2]\n"
     ]
    },
    {
     "name": "stdout",
     "output_type": "stream",
     "text": [
      "35\n"
     ]
    },
    {
     "name": "stderr",
     "output_type": "stream",
     "text": [
      "C:\\Users\\nvdun\\AppData\\Local\\Temp\\ipykernel_13500\\3101836222.py:7: FutureWarning: Series.__getitem__ treating keys as positions is deprecated. In a future version, integer keys will always be treated as labels (consistent with DataFrame behavior). To access a value by position, use `ser.iloc[pos]`\n",
      "  Top_9_SHolder = DF_.sum(axis=0)[2]\n",
      "C:\\Users\\nvdun\\AppData\\Local\\Temp\\ipykernel_13500\\3101836222.py:11: FutureWarning: Series.__getitem__ treating keys as positions is deprecated. In a future version, integer keys will always be treated as labels (consistent with DataFrame behavior). To access a value by position, use `ser.iloc[pos]`\n",
      "  Top_5_SHolder = DF_.sum(axis=0)[2]\n"
     ]
    },
    {
     "name": "stdout",
     "output_type": "stream",
     "text": [
      "36\n"
     ]
    },
    {
     "name": "stderr",
     "output_type": "stream",
     "text": [
      "C:\\Users\\nvdun\\AppData\\Local\\Temp\\ipykernel_13500\\3101836222.py:7: FutureWarning: Series.__getitem__ treating keys as positions is deprecated. In a future version, integer keys will always be treated as labels (consistent with DataFrame behavior). To access a value by position, use `ser.iloc[pos]`\n",
      "  Top_9_SHolder = DF_.sum(axis=0)[2]\n",
      "C:\\Users\\nvdun\\AppData\\Local\\Temp\\ipykernel_13500\\3101836222.py:11: FutureWarning: Series.__getitem__ treating keys as positions is deprecated. In a future version, integer keys will always be treated as labels (consistent with DataFrame behavior). To access a value by position, use `ser.iloc[pos]`\n",
      "  Top_5_SHolder = DF_.sum(axis=0)[2]\n"
     ]
    },
    {
     "name": "stdout",
     "output_type": "stream",
     "text": [
      "37\n"
     ]
    },
    {
     "name": "stderr",
     "output_type": "stream",
     "text": [
      "C:\\Users\\nvdun\\AppData\\Local\\Temp\\ipykernel_13500\\3101836222.py:7: FutureWarning: Series.__getitem__ treating keys as positions is deprecated. In a future version, integer keys will always be treated as labels (consistent with DataFrame behavior). To access a value by position, use `ser.iloc[pos]`\n",
      "  Top_9_SHolder = DF_.sum(axis=0)[2]\n",
      "C:\\Users\\nvdun\\AppData\\Local\\Temp\\ipykernel_13500\\3101836222.py:11: FutureWarning: Series.__getitem__ treating keys as positions is deprecated. In a future version, integer keys will always be treated as labels (consistent with DataFrame behavior). To access a value by position, use `ser.iloc[pos]`\n",
      "  Top_5_SHolder = DF_.sum(axis=0)[2]\n"
     ]
    },
    {
     "name": "stdout",
     "output_type": "stream",
     "text": [
      "38\n"
     ]
    },
    {
     "name": "stderr",
     "output_type": "stream",
     "text": [
      "C:\\Users\\nvdun\\AppData\\Local\\Temp\\ipykernel_13500\\3101836222.py:7: FutureWarning: Series.__getitem__ treating keys as positions is deprecated. In a future version, integer keys will always be treated as labels (consistent with DataFrame behavior). To access a value by position, use `ser.iloc[pos]`\n",
      "  Top_9_SHolder = DF_.sum(axis=0)[2]\n",
      "C:\\Users\\nvdun\\AppData\\Local\\Temp\\ipykernel_13500\\3101836222.py:11: FutureWarning: Series.__getitem__ treating keys as positions is deprecated. In a future version, integer keys will always be treated as labels (consistent with DataFrame behavior). To access a value by position, use `ser.iloc[pos]`\n",
      "  Top_5_SHolder = DF_.sum(axis=0)[2]\n"
     ]
    },
    {
     "name": "stdout",
     "output_type": "stream",
     "text": [
      "39\n"
     ]
    },
    {
     "name": "stderr",
     "output_type": "stream",
     "text": [
      "C:\\Users\\nvdun\\AppData\\Local\\Temp\\ipykernel_13500\\3101836222.py:7: FutureWarning: Series.__getitem__ treating keys as positions is deprecated. In a future version, integer keys will always be treated as labels (consistent with DataFrame behavior). To access a value by position, use `ser.iloc[pos]`\n",
      "  Top_9_SHolder = DF_.sum(axis=0)[2]\n",
      "C:\\Users\\nvdun\\AppData\\Local\\Temp\\ipykernel_13500\\3101836222.py:11: FutureWarning: Series.__getitem__ treating keys as positions is deprecated. In a future version, integer keys will always be treated as labels (consistent with DataFrame behavior). To access a value by position, use `ser.iloc[pos]`\n",
      "  Top_5_SHolder = DF_.sum(axis=0)[2]\n"
     ]
    },
    {
     "name": "stdout",
     "output_type": "stream",
     "text": [
      "40\n"
     ]
    },
    {
     "name": "stderr",
     "output_type": "stream",
     "text": [
      "C:\\Users\\nvdun\\AppData\\Local\\Temp\\ipykernel_13500\\3101836222.py:7: FutureWarning: Series.__getitem__ treating keys as positions is deprecated. In a future version, integer keys will always be treated as labels (consistent with DataFrame behavior). To access a value by position, use `ser.iloc[pos]`\n",
      "  Top_9_SHolder = DF_.sum(axis=0)[2]\n",
      "C:\\Users\\nvdun\\AppData\\Local\\Temp\\ipykernel_13500\\3101836222.py:11: FutureWarning: Series.__getitem__ treating keys as positions is deprecated. In a future version, integer keys will always be treated as labels (consistent with DataFrame behavior). To access a value by position, use `ser.iloc[pos]`\n",
      "  Top_5_SHolder = DF_.sum(axis=0)[2]\n"
     ]
    },
    {
     "name": "stdout",
     "output_type": "stream",
     "text": [
      "41\n"
     ]
    },
    {
     "name": "stderr",
     "output_type": "stream",
     "text": [
      "C:\\Users\\nvdun\\AppData\\Local\\Temp\\ipykernel_13500\\3101836222.py:7: FutureWarning: Series.__getitem__ treating keys as positions is deprecated. In a future version, integer keys will always be treated as labels (consistent with DataFrame behavior). To access a value by position, use `ser.iloc[pos]`\n",
      "  Top_9_SHolder = DF_.sum(axis=0)[2]\n",
      "C:\\Users\\nvdun\\AppData\\Local\\Temp\\ipykernel_13500\\3101836222.py:11: FutureWarning: Series.__getitem__ treating keys as positions is deprecated. In a future version, integer keys will always be treated as labels (consistent with DataFrame behavior). To access a value by position, use `ser.iloc[pos]`\n",
      "  Top_5_SHolder = DF_.sum(axis=0)[2]\n"
     ]
    },
    {
     "name": "stdout",
     "output_type": "stream",
     "text": [
      "42\n"
     ]
    },
    {
     "name": "stderr",
     "output_type": "stream",
     "text": [
      "C:\\Users\\nvdun\\AppData\\Local\\Temp\\ipykernel_13500\\3101836222.py:7: FutureWarning: Series.__getitem__ treating keys as positions is deprecated. In a future version, integer keys will always be treated as labels (consistent with DataFrame behavior). To access a value by position, use `ser.iloc[pos]`\n",
      "  Top_9_SHolder = DF_.sum(axis=0)[2]\n",
      "C:\\Users\\nvdun\\AppData\\Local\\Temp\\ipykernel_13500\\3101836222.py:11: FutureWarning: Series.__getitem__ treating keys as positions is deprecated. In a future version, integer keys will always be treated as labels (consistent with DataFrame behavior). To access a value by position, use `ser.iloc[pos]`\n",
      "  Top_5_SHolder = DF_.sum(axis=0)[2]\n"
     ]
    },
    {
     "name": "stdout",
     "output_type": "stream",
     "text": [
      "43\n"
     ]
    },
    {
     "name": "stderr",
     "output_type": "stream",
     "text": [
      "C:\\Users\\nvdun\\AppData\\Local\\Temp\\ipykernel_13500\\3101836222.py:7: FutureWarning: Series.__getitem__ treating keys as positions is deprecated. In a future version, integer keys will always be treated as labels (consistent with DataFrame behavior). To access a value by position, use `ser.iloc[pos]`\n",
      "  Top_9_SHolder = DF_.sum(axis=0)[2]\n",
      "C:\\Users\\nvdun\\AppData\\Local\\Temp\\ipykernel_13500\\3101836222.py:11: FutureWarning: Series.__getitem__ treating keys as positions is deprecated. In a future version, integer keys will always be treated as labels (consistent with DataFrame behavior). To access a value by position, use `ser.iloc[pos]`\n",
      "  Top_5_SHolder = DF_.sum(axis=0)[2]\n"
     ]
    },
    {
     "name": "stdout",
     "output_type": "stream",
     "text": [
      "44\n"
     ]
    },
    {
     "name": "stderr",
     "output_type": "stream",
     "text": [
      "C:\\Users\\nvdun\\AppData\\Local\\Temp\\ipykernel_13500\\3101836222.py:7: FutureWarning: Series.__getitem__ treating keys as positions is deprecated. In a future version, integer keys will always be treated as labels (consistent with DataFrame behavior). To access a value by position, use `ser.iloc[pos]`\n",
      "  Top_9_SHolder = DF_.sum(axis=0)[2]\n",
      "C:\\Users\\nvdun\\AppData\\Local\\Temp\\ipykernel_13500\\3101836222.py:11: FutureWarning: Series.__getitem__ treating keys as positions is deprecated. In a future version, integer keys will always be treated as labels (consistent with DataFrame behavior). To access a value by position, use `ser.iloc[pos]`\n",
      "  Top_5_SHolder = DF_.sum(axis=0)[2]\n"
     ]
    },
    {
     "name": "stdout",
     "output_type": "stream",
     "text": [
      "45\n"
     ]
    },
    {
     "name": "stderr",
     "output_type": "stream",
     "text": [
      "C:\\Users\\nvdun\\AppData\\Local\\Temp\\ipykernel_13500\\3101836222.py:7: FutureWarning: Series.__getitem__ treating keys as positions is deprecated. In a future version, integer keys will always be treated as labels (consistent with DataFrame behavior). To access a value by position, use `ser.iloc[pos]`\n",
      "  Top_9_SHolder = DF_.sum(axis=0)[2]\n",
      "C:\\Users\\nvdun\\AppData\\Local\\Temp\\ipykernel_13500\\3101836222.py:11: FutureWarning: Series.__getitem__ treating keys as positions is deprecated. In a future version, integer keys will always be treated as labels (consistent with DataFrame behavior). To access a value by position, use `ser.iloc[pos]`\n",
      "  Top_5_SHolder = DF_.sum(axis=0)[2]\n"
     ]
    },
    {
     "name": "stdout",
     "output_type": "stream",
     "text": [
      "46\n"
     ]
    },
    {
     "name": "stderr",
     "output_type": "stream",
     "text": [
      "C:\\Users\\nvdun\\AppData\\Local\\Temp\\ipykernel_13500\\3101836222.py:7: FutureWarning: Series.__getitem__ treating keys as positions is deprecated. In a future version, integer keys will always be treated as labels (consistent with DataFrame behavior). To access a value by position, use `ser.iloc[pos]`\n",
      "  Top_9_SHolder = DF_.sum(axis=0)[2]\n",
      "C:\\Users\\nvdun\\AppData\\Local\\Temp\\ipykernel_13500\\3101836222.py:11: FutureWarning: Series.__getitem__ treating keys as positions is deprecated. In a future version, integer keys will always be treated as labels (consistent with DataFrame behavior). To access a value by position, use `ser.iloc[pos]`\n",
      "  Top_5_SHolder = DF_.sum(axis=0)[2]\n"
     ]
    },
    {
     "name": "stdout",
     "output_type": "stream",
     "text": [
      "47\n"
     ]
    },
    {
     "name": "stderr",
     "output_type": "stream",
     "text": [
      "C:\\Users\\nvdun\\AppData\\Local\\Temp\\ipykernel_13500\\3101836222.py:7: FutureWarning: Series.__getitem__ treating keys as positions is deprecated. In a future version, integer keys will always be treated as labels (consistent with DataFrame behavior). To access a value by position, use `ser.iloc[pos]`\n",
      "  Top_9_SHolder = DF_.sum(axis=0)[2]\n",
      "C:\\Users\\nvdun\\AppData\\Local\\Temp\\ipykernel_13500\\3101836222.py:11: FutureWarning: Series.__getitem__ treating keys as positions is deprecated. In a future version, integer keys will always be treated as labels (consistent with DataFrame behavior). To access a value by position, use `ser.iloc[pos]`\n",
      "  Top_5_SHolder = DF_.sum(axis=0)[2]\n"
     ]
    },
    {
     "name": "stdout",
     "output_type": "stream",
     "text": [
      "48\n"
     ]
    },
    {
     "name": "stderr",
     "output_type": "stream",
     "text": [
      "C:\\Users\\nvdun\\AppData\\Local\\Temp\\ipykernel_13500\\3101836222.py:7: FutureWarning: Series.__getitem__ treating keys as positions is deprecated. In a future version, integer keys will always be treated as labels (consistent with DataFrame behavior). To access a value by position, use `ser.iloc[pos]`\n",
      "  Top_9_SHolder = DF_.sum(axis=0)[2]\n",
      "C:\\Users\\nvdun\\AppData\\Local\\Temp\\ipykernel_13500\\3101836222.py:11: FutureWarning: Series.__getitem__ treating keys as positions is deprecated. In a future version, integer keys will always be treated as labels (consistent with DataFrame behavior). To access a value by position, use `ser.iloc[pos]`\n",
      "  Top_5_SHolder = DF_.sum(axis=0)[2]\n"
     ]
    },
    {
     "name": "stdout",
     "output_type": "stream",
     "text": [
      "49\n"
     ]
    },
    {
     "name": "stderr",
     "output_type": "stream",
     "text": [
      "C:\\Users\\nvdun\\AppData\\Local\\Temp\\ipykernel_13500\\3101836222.py:7: FutureWarning: Series.__getitem__ treating keys as positions is deprecated. In a future version, integer keys will always be treated as labels (consistent with DataFrame behavior). To access a value by position, use `ser.iloc[pos]`\n",
      "  Top_9_SHolder = DF_.sum(axis=0)[2]\n",
      "C:\\Users\\nvdun\\AppData\\Local\\Temp\\ipykernel_13500\\3101836222.py:11: FutureWarning: Series.__getitem__ treating keys as positions is deprecated. In a future version, integer keys will always be treated as labels (consistent with DataFrame behavior). To access a value by position, use `ser.iloc[pos]`\n",
      "  Top_5_SHolder = DF_.sum(axis=0)[2]\n"
     ]
    },
    {
     "name": "stdout",
     "output_type": "stream",
     "text": [
      "50\n"
     ]
    },
    {
     "name": "stderr",
     "output_type": "stream",
     "text": [
      "C:\\Users\\nvdun\\AppData\\Local\\Temp\\ipykernel_13500\\3101836222.py:7: FutureWarning: Series.__getitem__ treating keys as positions is deprecated. In a future version, integer keys will always be treated as labels (consistent with DataFrame behavior). To access a value by position, use `ser.iloc[pos]`\n",
      "  Top_9_SHolder = DF_.sum(axis=0)[2]\n",
      "C:\\Users\\nvdun\\AppData\\Local\\Temp\\ipykernel_13500\\3101836222.py:11: FutureWarning: Series.__getitem__ treating keys as positions is deprecated. In a future version, integer keys will always be treated as labels (consistent with DataFrame behavior). To access a value by position, use `ser.iloc[pos]`\n",
      "  Top_5_SHolder = DF_.sum(axis=0)[2]\n"
     ]
    },
    {
     "name": "stdout",
     "output_type": "stream",
     "text": [
      "51\n"
     ]
    },
    {
     "name": "stderr",
     "output_type": "stream",
     "text": [
      "C:\\Users\\nvdun\\AppData\\Local\\Temp\\ipykernel_13500\\3101836222.py:7: FutureWarning: Series.__getitem__ treating keys as positions is deprecated. In a future version, integer keys will always be treated as labels (consistent with DataFrame behavior). To access a value by position, use `ser.iloc[pos]`\n",
      "  Top_9_SHolder = DF_.sum(axis=0)[2]\n",
      "C:\\Users\\nvdun\\AppData\\Local\\Temp\\ipykernel_13500\\3101836222.py:11: FutureWarning: Series.__getitem__ treating keys as positions is deprecated. In a future version, integer keys will always be treated as labels (consistent with DataFrame behavior). To access a value by position, use `ser.iloc[pos]`\n",
      "  Top_5_SHolder = DF_.sum(axis=0)[2]\n"
     ]
    },
    {
     "name": "stdout",
     "output_type": "stream",
     "text": [
      "52\n"
     ]
    },
    {
     "name": "stderr",
     "output_type": "stream",
     "text": [
      "C:\\Users\\nvdun\\AppData\\Local\\Temp\\ipykernel_13500\\3101836222.py:7: FutureWarning: Series.__getitem__ treating keys as positions is deprecated. In a future version, integer keys will always be treated as labels (consistent with DataFrame behavior). To access a value by position, use `ser.iloc[pos]`\n",
      "  Top_9_SHolder = DF_.sum(axis=0)[2]\n",
      "C:\\Users\\nvdun\\AppData\\Local\\Temp\\ipykernel_13500\\3101836222.py:11: FutureWarning: Series.__getitem__ treating keys as positions is deprecated. In a future version, integer keys will always be treated as labels (consistent with DataFrame behavior). To access a value by position, use `ser.iloc[pos]`\n",
      "  Top_5_SHolder = DF_.sum(axis=0)[2]\n"
     ]
    },
    {
     "name": "stdout",
     "output_type": "stream",
     "text": [
      "53\n"
     ]
    },
    {
     "name": "stderr",
     "output_type": "stream",
     "text": [
      "C:\\Users\\nvdun\\AppData\\Local\\Temp\\ipykernel_13500\\3101836222.py:7: FutureWarning: Series.__getitem__ treating keys as positions is deprecated. In a future version, integer keys will always be treated as labels (consistent with DataFrame behavior). To access a value by position, use `ser.iloc[pos]`\n",
      "  Top_9_SHolder = DF_.sum(axis=0)[2]\n",
      "C:\\Users\\nvdun\\AppData\\Local\\Temp\\ipykernel_13500\\3101836222.py:11: FutureWarning: Series.__getitem__ treating keys as positions is deprecated. In a future version, integer keys will always be treated as labels (consistent with DataFrame behavior). To access a value by position, use `ser.iloc[pos]`\n",
      "  Top_5_SHolder = DF_.sum(axis=0)[2]\n"
     ]
    },
    {
     "name": "stdout",
     "output_type": "stream",
     "text": [
      "54\n"
     ]
    },
    {
     "name": "stderr",
     "output_type": "stream",
     "text": [
      "C:\\Users\\nvdun\\AppData\\Local\\Temp\\ipykernel_13500\\3101836222.py:7: FutureWarning: Series.__getitem__ treating keys as positions is deprecated. In a future version, integer keys will always be treated as labels (consistent with DataFrame behavior). To access a value by position, use `ser.iloc[pos]`\n",
      "  Top_9_SHolder = DF_.sum(axis=0)[2]\n",
      "C:\\Users\\nvdun\\AppData\\Local\\Temp\\ipykernel_13500\\3101836222.py:11: FutureWarning: Series.__getitem__ treating keys as positions is deprecated. In a future version, integer keys will always be treated as labels (consistent with DataFrame behavior). To access a value by position, use `ser.iloc[pos]`\n",
      "  Top_5_SHolder = DF_.sum(axis=0)[2]\n"
     ]
    },
    {
     "name": "stdout",
     "output_type": "stream",
     "text": [
      "55\n"
     ]
    },
    {
     "name": "stderr",
     "output_type": "stream",
     "text": [
      "C:\\Users\\nvdun\\AppData\\Local\\Temp\\ipykernel_13500\\3101836222.py:7: FutureWarning: Series.__getitem__ treating keys as positions is deprecated. In a future version, integer keys will always be treated as labels (consistent with DataFrame behavior). To access a value by position, use `ser.iloc[pos]`\n",
      "  Top_9_SHolder = DF_.sum(axis=0)[2]\n",
      "C:\\Users\\nvdun\\AppData\\Local\\Temp\\ipykernel_13500\\3101836222.py:11: FutureWarning: Series.__getitem__ treating keys as positions is deprecated. In a future version, integer keys will always be treated as labels (consistent with DataFrame behavior). To access a value by position, use `ser.iloc[pos]`\n",
      "  Top_5_SHolder = DF_.sum(axis=0)[2]\n"
     ]
    },
    {
     "name": "stdout",
     "output_type": "stream",
     "text": [
      "56\n"
     ]
    },
    {
     "name": "stderr",
     "output_type": "stream",
     "text": [
      "C:\\Users\\nvdun\\AppData\\Local\\Temp\\ipykernel_13500\\3101836222.py:7: FutureWarning: Series.__getitem__ treating keys as positions is deprecated. In a future version, integer keys will always be treated as labels (consistent with DataFrame behavior). To access a value by position, use `ser.iloc[pos]`\n",
      "  Top_9_SHolder = DF_.sum(axis=0)[2]\n",
      "C:\\Users\\nvdun\\AppData\\Local\\Temp\\ipykernel_13500\\3101836222.py:11: FutureWarning: Series.__getitem__ treating keys as positions is deprecated. In a future version, integer keys will always be treated as labels (consistent with DataFrame behavior). To access a value by position, use `ser.iloc[pos]`\n",
      "  Top_5_SHolder = DF_.sum(axis=0)[2]\n"
     ]
    },
    {
     "name": "stdout",
     "output_type": "stream",
     "text": [
      "57\n"
     ]
    },
    {
     "name": "stderr",
     "output_type": "stream",
     "text": [
      "C:\\Users\\nvdun\\AppData\\Local\\Temp\\ipykernel_13500\\3101836222.py:7: FutureWarning: Series.__getitem__ treating keys as positions is deprecated. In a future version, integer keys will always be treated as labels (consistent with DataFrame behavior). To access a value by position, use `ser.iloc[pos]`\n",
      "  Top_9_SHolder = DF_.sum(axis=0)[2]\n",
      "C:\\Users\\nvdun\\AppData\\Local\\Temp\\ipykernel_13500\\3101836222.py:11: FutureWarning: Series.__getitem__ treating keys as positions is deprecated. In a future version, integer keys will always be treated as labels (consistent with DataFrame behavior). To access a value by position, use `ser.iloc[pos]`\n",
      "  Top_5_SHolder = DF_.sum(axis=0)[2]\n"
     ]
    },
    {
     "name": "stdout",
     "output_type": "stream",
     "text": [
      "58\n"
     ]
    },
    {
     "name": "stderr",
     "output_type": "stream",
     "text": [
      "C:\\Users\\nvdun\\AppData\\Local\\Temp\\ipykernel_13500\\3101836222.py:7: FutureWarning: Series.__getitem__ treating keys as positions is deprecated. In a future version, integer keys will always be treated as labels (consistent with DataFrame behavior). To access a value by position, use `ser.iloc[pos]`\n",
      "  Top_9_SHolder = DF_.sum(axis=0)[2]\n",
      "C:\\Users\\nvdun\\AppData\\Local\\Temp\\ipykernel_13500\\3101836222.py:11: FutureWarning: Series.__getitem__ treating keys as positions is deprecated. In a future version, integer keys will always be treated as labels (consistent with DataFrame behavior). To access a value by position, use `ser.iloc[pos]`\n",
      "  Top_5_SHolder = DF_.sum(axis=0)[2]\n"
     ]
    },
    {
     "name": "stdout",
     "output_type": "stream",
     "text": [
      "59\n"
     ]
    },
    {
     "name": "stderr",
     "output_type": "stream",
     "text": [
      "C:\\Users\\nvdun\\AppData\\Local\\Temp\\ipykernel_13500\\3101836222.py:7: FutureWarning: Series.__getitem__ treating keys as positions is deprecated. In a future version, integer keys will always be treated as labels (consistent with DataFrame behavior). To access a value by position, use `ser.iloc[pos]`\n",
      "  Top_9_SHolder = DF_.sum(axis=0)[2]\n",
      "C:\\Users\\nvdun\\AppData\\Local\\Temp\\ipykernel_13500\\3101836222.py:11: FutureWarning: Series.__getitem__ treating keys as positions is deprecated. In a future version, integer keys will always be treated as labels (consistent with DataFrame behavior). To access a value by position, use `ser.iloc[pos]`\n",
      "  Top_5_SHolder = DF_.sum(axis=0)[2]\n"
     ]
    },
    {
     "name": "stdout",
     "output_type": "stream",
     "text": [
      "60\n"
     ]
    },
    {
     "name": "stderr",
     "output_type": "stream",
     "text": [
      "C:\\Users\\nvdun\\AppData\\Local\\Temp\\ipykernel_13500\\3101836222.py:7: FutureWarning: Series.__getitem__ treating keys as positions is deprecated. In a future version, integer keys will always be treated as labels (consistent with DataFrame behavior). To access a value by position, use `ser.iloc[pos]`\n",
      "  Top_9_SHolder = DF_.sum(axis=0)[2]\n",
      "C:\\Users\\nvdun\\AppData\\Local\\Temp\\ipykernel_13500\\3101836222.py:11: FutureWarning: Series.__getitem__ treating keys as positions is deprecated. In a future version, integer keys will always be treated as labels (consistent with DataFrame behavior). To access a value by position, use `ser.iloc[pos]`\n",
      "  Top_5_SHolder = DF_.sum(axis=0)[2]\n"
     ]
    },
    {
     "name": "stdout",
     "output_type": "stream",
     "text": [
      "61\n"
     ]
    },
    {
     "name": "stderr",
     "output_type": "stream",
     "text": [
      "C:\\Users\\nvdun\\AppData\\Local\\Temp\\ipykernel_13500\\3101836222.py:7: FutureWarning: Series.__getitem__ treating keys as positions is deprecated. In a future version, integer keys will always be treated as labels (consistent with DataFrame behavior). To access a value by position, use `ser.iloc[pos]`\n",
      "  Top_9_SHolder = DF_.sum(axis=0)[2]\n",
      "C:\\Users\\nvdun\\AppData\\Local\\Temp\\ipykernel_13500\\3101836222.py:11: FutureWarning: Series.__getitem__ treating keys as positions is deprecated. In a future version, integer keys will always be treated as labels (consistent with DataFrame behavior). To access a value by position, use `ser.iloc[pos]`\n",
      "  Top_5_SHolder = DF_.sum(axis=0)[2]\n"
     ]
    },
    {
     "name": "stdout",
     "output_type": "stream",
     "text": [
      "62\n"
     ]
    },
    {
     "name": "stderr",
     "output_type": "stream",
     "text": [
      "C:\\Users\\nvdun\\AppData\\Local\\Temp\\ipykernel_13500\\3101836222.py:7: FutureWarning: Series.__getitem__ treating keys as positions is deprecated. In a future version, integer keys will always be treated as labels (consistent with DataFrame behavior). To access a value by position, use `ser.iloc[pos]`\n",
      "  Top_9_SHolder = DF_.sum(axis=0)[2]\n",
      "C:\\Users\\nvdun\\AppData\\Local\\Temp\\ipykernel_13500\\3101836222.py:11: FutureWarning: Series.__getitem__ treating keys as positions is deprecated. In a future version, integer keys will always be treated as labels (consistent with DataFrame behavior). To access a value by position, use `ser.iloc[pos]`\n",
      "  Top_5_SHolder = DF_.sum(axis=0)[2]\n"
     ]
    },
    {
     "name": "stdout",
     "output_type": "stream",
     "text": [
      "63\n"
     ]
    },
    {
     "name": "stderr",
     "output_type": "stream",
     "text": [
      "C:\\Users\\nvdun\\AppData\\Local\\Temp\\ipykernel_13500\\3101836222.py:7: FutureWarning: Series.__getitem__ treating keys as positions is deprecated. In a future version, integer keys will always be treated as labels (consistent with DataFrame behavior). To access a value by position, use `ser.iloc[pos]`\n",
      "  Top_9_SHolder = DF_.sum(axis=0)[2]\n",
      "C:\\Users\\nvdun\\AppData\\Local\\Temp\\ipykernel_13500\\3101836222.py:11: FutureWarning: Series.__getitem__ treating keys as positions is deprecated. In a future version, integer keys will always be treated as labels (consistent with DataFrame behavior). To access a value by position, use `ser.iloc[pos]`\n",
      "  Top_5_SHolder = DF_.sum(axis=0)[2]\n"
     ]
    },
    {
     "name": "stdout",
     "output_type": "stream",
     "text": [
      "64\n"
     ]
    },
    {
     "name": "stderr",
     "output_type": "stream",
     "text": [
      "C:\\Users\\nvdun\\AppData\\Local\\Temp\\ipykernel_13500\\3101836222.py:7: FutureWarning: Series.__getitem__ treating keys as positions is deprecated. In a future version, integer keys will always be treated as labels (consistent with DataFrame behavior). To access a value by position, use `ser.iloc[pos]`\n",
      "  Top_9_SHolder = DF_.sum(axis=0)[2]\n",
      "C:\\Users\\nvdun\\AppData\\Local\\Temp\\ipykernel_13500\\3101836222.py:11: FutureWarning: Series.__getitem__ treating keys as positions is deprecated. In a future version, integer keys will always be treated as labels (consistent with DataFrame behavior). To access a value by position, use `ser.iloc[pos]`\n",
      "  Top_5_SHolder = DF_.sum(axis=0)[2]\n"
     ]
    },
    {
     "name": "stdout",
     "output_type": "stream",
     "text": [
      "65\n"
     ]
    },
    {
     "name": "stderr",
     "output_type": "stream",
     "text": [
      "C:\\Users\\nvdun\\AppData\\Local\\Temp\\ipykernel_13500\\3101836222.py:7: FutureWarning: Series.__getitem__ treating keys as positions is deprecated. In a future version, integer keys will always be treated as labels (consistent with DataFrame behavior). To access a value by position, use `ser.iloc[pos]`\n",
      "  Top_9_SHolder = DF_.sum(axis=0)[2]\n",
      "C:\\Users\\nvdun\\AppData\\Local\\Temp\\ipykernel_13500\\3101836222.py:11: FutureWarning: Series.__getitem__ treating keys as positions is deprecated. In a future version, integer keys will always be treated as labels (consistent with DataFrame behavior). To access a value by position, use `ser.iloc[pos]`\n",
      "  Top_5_SHolder = DF_.sum(axis=0)[2]\n"
     ]
    },
    {
     "name": "stdout",
     "output_type": "stream",
     "text": [
      "66\n"
     ]
    },
    {
     "name": "stderr",
     "output_type": "stream",
     "text": [
      "C:\\Users\\nvdun\\AppData\\Local\\Temp\\ipykernel_13500\\3101836222.py:7: FutureWarning: Series.__getitem__ treating keys as positions is deprecated. In a future version, integer keys will always be treated as labels (consistent with DataFrame behavior). To access a value by position, use `ser.iloc[pos]`\n",
      "  Top_9_SHolder = DF_.sum(axis=0)[2]\n",
      "C:\\Users\\nvdun\\AppData\\Local\\Temp\\ipykernel_13500\\3101836222.py:11: FutureWarning: Series.__getitem__ treating keys as positions is deprecated. In a future version, integer keys will always be treated as labels (consistent with DataFrame behavior). To access a value by position, use `ser.iloc[pos]`\n",
      "  Top_5_SHolder = DF_.sum(axis=0)[2]\n"
     ]
    },
    {
     "name": "stdout",
     "output_type": "stream",
     "text": [
      "67\n"
     ]
    },
    {
     "name": "stderr",
     "output_type": "stream",
     "text": [
      "C:\\Users\\nvdun\\AppData\\Local\\Temp\\ipykernel_13500\\3101836222.py:7: FutureWarning: Series.__getitem__ treating keys as positions is deprecated. In a future version, integer keys will always be treated as labels (consistent with DataFrame behavior). To access a value by position, use `ser.iloc[pos]`\n",
      "  Top_9_SHolder = DF_.sum(axis=0)[2]\n",
      "C:\\Users\\nvdun\\AppData\\Local\\Temp\\ipykernel_13500\\3101836222.py:11: FutureWarning: Series.__getitem__ treating keys as positions is deprecated. In a future version, integer keys will always be treated as labels (consistent with DataFrame behavior). To access a value by position, use `ser.iloc[pos]`\n",
      "  Top_5_SHolder = DF_.sum(axis=0)[2]\n"
     ]
    },
    {
     "name": "stdout",
     "output_type": "stream",
     "text": [
      "68\n"
     ]
    },
    {
     "name": "stderr",
     "output_type": "stream",
     "text": [
      "C:\\Users\\nvdun\\AppData\\Local\\Temp\\ipykernel_13500\\3101836222.py:7: FutureWarning: Series.__getitem__ treating keys as positions is deprecated. In a future version, integer keys will always be treated as labels (consistent with DataFrame behavior). To access a value by position, use `ser.iloc[pos]`\n",
      "  Top_9_SHolder = DF_.sum(axis=0)[2]\n",
      "C:\\Users\\nvdun\\AppData\\Local\\Temp\\ipykernel_13500\\3101836222.py:11: FutureWarning: Series.__getitem__ treating keys as positions is deprecated. In a future version, integer keys will always be treated as labels (consistent with DataFrame behavior). To access a value by position, use `ser.iloc[pos]`\n",
      "  Top_5_SHolder = DF_.sum(axis=0)[2]\n"
     ]
    },
    {
     "name": "stdout",
     "output_type": "stream",
     "text": [
      "69\n"
     ]
    },
    {
     "name": "stderr",
     "output_type": "stream",
     "text": [
      "C:\\Users\\nvdun\\AppData\\Local\\Temp\\ipykernel_13500\\3101836222.py:7: FutureWarning: Series.__getitem__ treating keys as positions is deprecated. In a future version, integer keys will always be treated as labels (consistent with DataFrame behavior). To access a value by position, use `ser.iloc[pos]`\n",
      "  Top_9_SHolder = DF_.sum(axis=0)[2]\n",
      "C:\\Users\\nvdun\\AppData\\Local\\Temp\\ipykernel_13500\\3101836222.py:11: FutureWarning: Series.__getitem__ treating keys as positions is deprecated. In a future version, integer keys will always be treated as labels (consistent with DataFrame behavior). To access a value by position, use `ser.iloc[pos]`\n",
      "  Top_5_SHolder = DF_.sum(axis=0)[2]\n"
     ]
    },
    {
     "name": "stdout",
     "output_type": "stream",
     "text": [
      "70\n"
     ]
    },
    {
     "name": "stderr",
     "output_type": "stream",
     "text": [
      "C:\\Users\\nvdun\\AppData\\Local\\Temp\\ipykernel_13500\\3101836222.py:7: FutureWarning: Series.__getitem__ treating keys as positions is deprecated. In a future version, integer keys will always be treated as labels (consistent with DataFrame behavior). To access a value by position, use `ser.iloc[pos]`\n",
      "  Top_9_SHolder = DF_.sum(axis=0)[2]\n",
      "C:\\Users\\nvdun\\AppData\\Local\\Temp\\ipykernel_13500\\3101836222.py:11: FutureWarning: Series.__getitem__ treating keys as positions is deprecated. In a future version, integer keys will always be treated as labels (consistent with DataFrame behavior). To access a value by position, use `ser.iloc[pos]`\n",
      "  Top_5_SHolder = DF_.sum(axis=0)[2]\n"
     ]
    },
    {
     "name": "stdout",
     "output_type": "stream",
     "text": [
      "71\n"
     ]
    },
    {
     "name": "stderr",
     "output_type": "stream",
     "text": [
      "C:\\Users\\nvdun\\AppData\\Local\\Temp\\ipykernel_13500\\3101836222.py:7: FutureWarning: Series.__getitem__ treating keys as positions is deprecated. In a future version, integer keys will always be treated as labels (consistent with DataFrame behavior). To access a value by position, use `ser.iloc[pos]`\n",
      "  Top_9_SHolder = DF_.sum(axis=0)[2]\n",
      "C:\\Users\\nvdun\\AppData\\Local\\Temp\\ipykernel_13500\\3101836222.py:11: FutureWarning: Series.__getitem__ treating keys as positions is deprecated. In a future version, integer keys will always be treated as labels (consistent with DataFrame behavior). To access a value by position, use `ser.iloc[pos]`\n",
      "  Top_5_SHolder = DF_.sum(axis=0)[2]\n"
     ]
    },
    {
     "name": "stdout",
     "output_type": "stream",
     "text": [
      "72\n"
     ]
    },
    {
     "name": "stderr",
     "output_type": "stream",
     "text": [
      "C:\\Users\\nvdun\\AppData\\Local\\Temp\\ipykernel_13500\\3101836222.py:7: FutureWarning: Series.__getitem__ treating keys as positions is deprecated. In a future version, integer keys will always be treated as labels (consistent with DataFrame behavior). To access a value by position, use `ser.iloc[pos]`\n",
      "  Top_9_SHolder = DF_.sum(axis=0)[2]\n",
      "C:\\Users\\nvdun\\AppData\\Local\\Temp\\ipykernel_13500\\3101836222.py:11: FutureWarning: Series.__getitem__ treating keys as positions is deprecated. In a future version, integer keys will always be treated as labels (consistent with DataFrame behavior). To access a value by position, use `ser.iloc[pos]`\n",
      "  Top_5_SHolder = DF_.sum(axis=0)[2]\n"
     ]
    },
    {
     "name": "stdout",
     "output_type": "stream",
     "text": [
      "73\n"
     ]
    },
    {
     "name": "stderr",
     "output_type": "stream",
     "text": [
      "C:\\Users\\nvdun\\AppData\\Local\\Temp\\ipykernel_13500\\3101836222.py:7: FutureWarning: Series.__getitem__ treating keys as positions is deprecated. In a future version, integer keys will always be treated as labels (consistent with DataFrame behavior). To access a value by position, use `ser.iloc[pos]`\n",
      "  Top_9_SHolder = DF_.sum(axis=0)[2]\n",
      "C:\\Users\\nvdun\\AppData\\Local\\Temp\\ipykernel_13500\\3101836222.py:11: FutureWarning: Series.__getitem__ treating keys as positions is deprecated. In a future version, integer keys will always be treated as labels (consistent with DataFrame behavior). To access a value by position, use `ser.iloc[pos]`\n",
      "  Top_5_SHolder = DF_.sum(axis=0)[2]\n"
     ]
    },
    {
     "name": "stdout",
     "output_type": "stream",
     "text": [
      "74\n"
     ]
    },
    {
     "name": "stderr",
     "output_type": "stream",
     "text": [
      "C:\\Users\\nvdun\\AppData\\Local\\Temp\\ipykernel_13500\\3101836222.py:7: FutureWarning: Series.__getitem__ treating keys as positions is deprecated. In a future version, integer keys will always be treated as labels (consistent with DataFrame behavior). To access a value by position, use `ser.iloc[pos]`\n",
      "  Top_9_SHolder = DF_.sum(axis=0)[2]\n",
      "C:\\Users\\nvdun\\AppData\\Local\\Temp\\ipykernel_13500\\3101836222.py:11: FutureWarning: Series.__getitem__ treating keys as positions is deprecated. In a future version, integer keys will always be treated as labels (consistent with DataFrame behavior). To access a value by position, use `ser.iloc[pos]`\n",
      "  Top_5_SHolder = DF_.sum(axis=0)[2]\n"
     ]
    },
    {
     "name": "stdout",
     "output_type": "stream",
     "text": [
      "75\n"
     ]
    },
    {
     "name": "stderr",
     "output_type": "stream",
     "text": [
      "C:\\Users\\nvdun\\AppData\\Local\\Temp\\ipykernel_13500\\3101836222.py:7: FutureWarning: Series.__getitem__ treating keys as positions is deprecated. In a future version, integer keys will always be treated as labels (consistent with DataFrame behavior). To access a value by position, use `ser.iloc[pos]`\n",
      "  Top_9_SHolder = DF_.sum(axis=0)[2]\n",
      "C:\\Users\\nvdun\\AppData\\Local\\Temp\\ipykernel_13500\\3101836222.py:11: FutureWarning: Series.__getitem__ treating keys as positions is deprecated. In a future version, integer keys will always be treated as labels (consistent with DataFrame behavior). To access a value by position, use `ser.iloc[pos]`\n",
      "  Top_5_SHolder = DF_.sum(axis=0)[2]\n"
     ]
    },
    {
     "name": "stdout",
     "output_type": "stream",
     "text": [
      "76\n"
     ]
    },
    {
     "name": "stderr",
     "output_type": "stream",
     "text": [
      "C:\\Users\\nvdun\\AppData\\Local\\Temp\\ipykernel_13500\\3101836222.py:7: FutureWarning: Series.__getitem__ treating keys as positions is deprecated. In a future version, integer keys will always be treated as labels (consistent with DataFrame behavior). To access a value by position, use `ser.iloc[pos]`\n",
      "  Top_9_SHolder = DF_.sum(axis=0)[2]\n",
      "C:\\Users\\nvdun\\AppData\\Local\\Temp\\ipykernel_13500\\3101836222.py:11: FutureWarning: Series.__getitem__ treating keys as positions is deprecated. In a future version, integer keys will always be treated as labels (consistent with DataFrame behavior). To access a value by position, use `ser.iloc[pos]`\n",
      "  Top_5_SHolder = DF_.sum(axis=0)[2]\n"
     ]
    },
    {
     "name": "stdout",
     "output_type": "stream",
     "text": [
      "77\n"
     ]
    },
    {
     "name": "stderr",
     "output_type": "stream",
     "text": [
      "C:\\Users\\nvdun\\AppData\\Local\\Temp\\ipykernel_13500\\3101836222.py:7: FutureWarning: Series.__getitem__ treating keys as positions is deprecated. In a future version, integer keys will always be treated as labels (consistent with DataFrame behavior). To access a value by position, use `ser.iloc[pos]`\n",
      "  Top_9_SHolder = DF_.sum(axis=0)[2]\n",
      "C:\\Users\\nvdun\\AppData\\Local\\Temp\\ipykernel_13500\\3101836222.py:11: FutureWarning: Series.__getitem__ treating keys as positions is deprecated. In a future version, integer keys will always be treated as labels (consistent with DataFrame behavior). To access a value by position, use `ser.iloc[pos]`\n",
      "  Top_5_SHolder = DF_.sum(axis=0)[2]\n"
     ]
    },
    {
     "name": "stdout",
     "output_type": "stream",
     "text": [
      "78\n"
     ]
    },
    {
     "name": "stderr",
     "output_type": "stream",
     "text": [
      "C:\\Users\\nvdun\\AppData\\Local\\Temp\\ipykernel_13500\\3101836222.py:7: FutureWarning: Series.__getitem__ treating keys as positions is deprecated. In a future version, integer keys will always be treated as labels (consistent with DataFrame behavior). To access a value by position, use `ser.iloc[pos]`\n",
      "  Top_9_SHolder = DF_.sum(axis=0)[2]\n",
      "C:\\Users\\nvdun\\AppData\\Local\\Temp\\ipykernel_13500\\3101836222.py:11: FutureWarning: Series.__getitem__ treating keys as positions is deprecated. In a future version, integer keys will always be treated as labels (consistent with DataFrame behavior). To access a value by position, use `ser.iloc[pos]`\n",
      "  Top_5_SHolder = DF_.sum(axis=0)[2]\n"
     ]
    },
    {
     "name": "stdout",
     "output_type": "stream",
     "text": [
      "79\n"
     ]
    },
    {
     "name": "stderr",
     "output_type": "stream",
     "text": [
      "C:\\Users\\nvdun\\AppData\\Local\\Temp\\ipykernel_13500\\3101836222.py:7: FutureWarning: Series.__getitem__ treating keys as positions is deprecated. In a future version, integer keys will always be treated as labels (consistent with DataFrame behavior). To access a value by position, use `ser.iloc[pos]`\n",
      "  Top_9_SHolder = DF_.sum(axis=0)[2]\n",
      "C:\\Users\\nvdun\\AppData\\Local\\Temp\\ipykernel_13500\\3101836222.py:11: FutureWarning: Series.__getitem__ treating keys as positions is deprecated. In a future version, integer keys will always be treated as labels (consistent with DataFrame behavior). To access a value by position, use `ser.iloc[pos]`\n",
      "  Top_5_SHolder = DF_.sum(axis=0)[2]\n"
     ]
    },
    {
     "name": "stdout",
     "output_type": "stream",
     "text": [
      "80\n"
     ]
    },
    {
     "name": "stderr",
     "output_type": "stream",
     "text": [
      "C:\\Users\\nvdun\\AppData\\Local\\Temp\\ipykernel_13500\\3101836222.py:7: FutureWarning: Series.__getitem__ treating keys as positions is deprecated. In a future version, integer keys will always be treated as labels (consistent with DataFrame behavior). To access a value by position, use `ser.iloc[pos]`\n",
      "  Top_9_SHolder = DF_.sum(axis=0)[2]\n",
      "C:\\Users\\nvdun\\AppData\\Local\\Temp\\ipykernel_13500\\3101836222.py:11: FutureWarning: Series.__getitem__ treating keys as positions is deprecated. In a future version, integer keys will always be treated as labels (consistent with DataFrame behavior). To access a value by position, use `ser.iloc[pos]`\n",
      "  Top_5_SHolder = DF_.sum(axis=0)[2]\n"
     ]
    },
    {
     "name": "stdout",
     "output_type": "stream",
     "text": [
      "81\n"
     ]
    },
    {
     "name": "stderr",
     "output_type": "stream",
     "text": [
      "C:\\Users\\nvdun\\AppData\\Local\\Temp\\ipykernel_13500\\3101836222.py:7: FutureWarning: Series.__getitem__ treating keys as positions is deprecated. In a future version, integer keys will always be treated as labels (consistent with DataFrame behavior). To access a value by position, use `ser.iloc[pos]`\n",
      "  Top_9_SHolder = DF_.sum(axis=0)[2]\n",
      "C:\\Users\\nvdun\\AppData\\Local\\Temp\\ipykernel_13500\\3101836222.py:11: FutureWarning: Series.__getitem__ treating keys as positions is deprecated. In a future version, integer keys will always be treated as labels (consistent with DataFrame behavior). To access a value by position, use `ser.iloc[pos]`\n",
      "  Top_5_SHolder = DF_.sum(axis=0)[2]\n"
     ]
    },
    {
     "name": "stdout",
     "output_type": "stream",
     "text": [
      "82\n"
     ]
    },
    {
     "name": "stderr",
     "output_type": "stream",
     "text": [
      "C:\\Users\\nvdun\\AppData\\Local\\Temp\\ipykernel_13500\\3101836222.py:7: FutureWarning: Series.__getitem__ treating keys as positions is deprecated. In a future version, integer keys will always be treated as labels (consistent with DataFrame behavior). To access a value by position, use `ser.iloc[pos]`\n",
      "  Top_9_SHolder = DF_.sum(axis=0)[2]\n",
      "C:\\Users\\nvdun\\AppData\\Local\\Temp\\ipykernel_13500\\3101836222.py:11: FutureWarning: Series.__getitem__ treating keys as positions is deprecated. In a future version, integer keys will always be treated as labels (consistent with DataFrame behavior). To access a value by position, use `ser.iloc[pos]`\n",
      "  Top_5_SHolder = DF_.sum(axis=0)[2]\n"
     ]
    },
    {
     "name": "stdout",
     "output_type": "stream",
     "text": [
      "83\n"
     ]
    },
    {
     "name": "stderr",
     "output_type": "stream",
     "text": [
      "C:\\Users\\nvdun\\AppData\\Local\\Temp\\ipykernel_13500\\3101836222.py:7: FutureWarning: Series.__getitem__ treating keys as positions is deprecated. In a future version, integer keys will always be treated as labels (consistent with DataFrame behavior). To access a value by position, use `ser.iloc[pos]`\n",
      "  Top_9_SHolder = DF_.sum(axis=0)[2]\n",
      "C:\\Users\\nvdun\\AppData\\Local\\Temp\\ipykernel_13500\\3101836222.py:11: FutureWarning: Series.__getitem__ treating keys as positions is deprecated. In a future version, integer keys will always be treated as labels (consistent with DataFrame behavior). To access a value by position, use `ser.iloc[pos]`\n",
      "  Top_5_SHolder = DF_.sum(axis=0)[2]\n"
     ]
    },
    {
     "name": "stdout",
     "output_type": "stream",
     "text": [
      "84\n"
     ]
    },
    {
     "name": "stderr",
     "output_type": "stream",
     "text": [
      "C:\\Users\\nvdun\\AppData\\Local\\Temp\\ipykernel_13500\\3101836222.py:7: FutureWarning: Series.__getitem__ treating keys as positions is deprecated. In a future version, integer keys will always be treated as labels (consistent with DataFrame behavior). To access a value by position, use `ser.iloc[pos]`\n",
      "  Top_9_SHolder = DF_.sum(axis=0)[2]\n",
      "C:\\Users\\nvdun\\AppData\\Local\\Temp\\ipykernel_13500\\3101836222.py:11: FutureWarning: Series.__getitem__ treating keys as positions is deprecated. In a future version, integer keys will always be treated as labels (consistent with DataFrame behavior). To access a value by position, use `ser.iloc[pos]`\n",
      "  Top_5_SHolder = DF_.sum(axis=0)[2]\n"
     ]
    },
    {
     "name": "stdout",
     "output_type": "stream",
     "text": [
      "85\n"
     ]
    },
    {
     "name": "stderr",
     "output_type": "stream",
     "text": [
      "C:\\Users\\nvdun\\AppData\\Local\\Temp\\ipykernel_13500\\3101836222.py:7: FutureWarning: Series.__getitem__ treating keys as positions is deprecated. In a future version, integer keys will always be treated as labels (consistent with DataFrame behavior). To access a value by position, use `ser.iloc[pos]`\n",
      "  Top_9_SHolder = DF_.sum(axis=0)[2]\n",
      "C:\\Users\\nvdun\\AppData\\Local\\Temp\\ipykernel_13500\\3101836222.py:11: FutureWarning: Series.__getitem__ treating keys as positions is deprecated. In a future version, integer keys will always be treated as labels (consistent with DataFrame behavior). To access a value by position, use `ser.iloc[pos]`\n",
      "  Top_5_SHolder = DF_.sum(axis=0)[2]\n"
     ]
    },
    {
     "name": "stdout",
     "output_type": "stream",
     "text": [
      "86\n"
     ]
    },
    {
     "name": "stderr",
     "output_type": "stream",
     "text": [
      "C:\\Users\\nvdun\\AppData\\Local\\Temp\\ipykernel_13500\\3101836222.py:7: FutureWarning: Series.__getitem__ treating keys as positions is deprecated. In a future version, integer keys will always be treated as labels (consistent with DataFrame behavior). To access a value by position, use `ser.iloc[pos]`\n",
      "  Top_9_SHolder = DF_.sum(axis=0)[2]\n",
      "C:\\Users\\nvdun\\AppData\\Local\\Temp\\ipykernel_13500\\3101836222.py:11: FutureWarning: Series.__getitem__ treating keys as positions is deprecated. In a future version, integer keys will always be treated as labels (consistent with DataFrame behavior). To access a value by position, use `ser.iloc[pos]`\n",
      "  Top_5_SHolder = DF_.sum(axis=0)[2]\n"
     ]
    },
    {
     "name": "stdout",
     "output_type": "stream",
     "text": [
      "87\n"
     ]
    },
    {
     "name": "stderr",
     "output_type": "stream",
     "text": [
      "C:\\Users\\nvdun\\AppData\\Local\\Temp\\ipykernel_13500\\3101836222.py:7: FutureWarning: Series.__getitem__ treating keys as positions is deprecated. In a future version, integer keys will always be treated as labels (consistent with DataFrame behavior). To access a value by position, use `ser.iloc[pos]`\n",
      "  Top_9_SHolder = DF_.sum(axis=0)[2]\n",
      "C:\\Users\\nvdun\\AppData\\Local\\Temp\\ipykernel_13500\\3101836222.py:11: FutureWarning: Series.__getitem__ treating keys as positions is deprecated. In a future version, integer keys will always be treated as labels (consistent with DataFrame behavior). To access a value by position, use `ser.iloc[pos]`\n",
      "  Top_5_SHolder = DF_.sum(axis=0)[2]\n"
     ]
    },
    {
     "name": "stdout",
     "output_type": "stream",
     "text": [
      "88\n"
     ]
    },
    {
     "name": "stderr",
     "output_type": "stream",
     "text": [
      "C:\\Users\\nvdun\\AppData\\Local\\Temp\\ipykernel_13500\\3101836222.py:7: FutureWarning: Series.__getitem__ treating keys as positions is deprecated. In a future version, integer keys will always be treated as labels (consistent with DataFrame behavior). To access a value by position, use `ser.iloc[pos]`\n",
      "  Top_9_SHolder = DF_.sum(axis=0)[2]\n",
      "C:\\Users\\nvdun\\AppData\\Local\\Temp\\ipykernel_13500\\3101836222.py:11: FutureWarning: Series.__getitem__ treating keys as positions is deprecated. In a future version, integer keys will always be treated as labels (consistent with DataFrame behavior). To access a value by position, use `ser.iloc[pos]`\n",
      "  Top_5_SHolder = DF_.sum(axis=0)[2]\n"
     ]
    },
    {
     "name": "stdout",
     "output_type": "stream",
     "text": [
      "89\n"
     ]
    },
    {
     "name": "stderr",
     "output_type": "stream",
     "text": [
      "C:\\Users\\nvdun\\AppData\\Local\\Temp\\ipykernel_13500\\3101836222.py:7: FutureWarning: Series.__getitem__ treating keys as positions is deprecated. In a future version, integer keys will always be treated as labels (consistent with DataFrame behavior). To access a value by position, use `ser.iloc[pos]`\n",
      "  Top_9_SHolder = DF_.sum(axis=0)[2]\n",
      "C:\\Users\\nvdun\\AppData\\Local\\Temp\\ipykernel_13500\\3101836222.py:11: FutureWarning: Series.__getitem__ treating keys as positions is deprecated. In a future version, integer keys will always be treated as labels (consistent with DataFrame behavior). To access a value by position, use `ser.iloc[pos]`\n",
      "  Top_5_SHolder = DF_.sum(axis=0)[2]\n"
     ]
    },
    {
     "name": "stdout",
     "output_type": "stream",
     "text": [
      "90\n"
     ]
    },
    {
     "name": "stderr",
     "output_type": "stream",
     "text": [
      "C:\\Users\\nvdun\\AppData\\Local\\Temp\\ipykernel_13500\\3101836222.py:7: FutureWarning: Series.__getitem__ treating keys as positions is deprecated. In a future version, integer keys will always be treated as labels (consistent with DataFrame behavior). To access a value by position, use `ser.iloc[pos]`\n",
      "  Top_9_SHolder = DF_.sum(axis=0)[2]\n",
      "C:\\Users\\nvdun\\AppData\\Local\\Temp\\ipykernel_13500\\3101836222.py:11: FutureWarning: Series.__getitem__ treating keys as positions is deprecated. In a future version, integer keys will always be treated as labels (consistent with DataFrame behavior). To access a value by position, use `ser.iloc[pos]`\n",
      "  Top_5_SHolder = DF_.sum(axis=0)[2]\n"
     ]
    },
    {
     "name": "stdout",
     "output_type": "stream",
     "text": [
      "91\n"
     ]
    },
    {
     "name": "stderr",
     "output_type": "stream",
     "text": [
      "C:\\Users\\nvdun\\AppData\\Local\\Temp\\ipykernel_13500\\3101836222.py:7: FutureWarning: Series.__getitem__ treating keys as positions is deprecated. In a future version, integer keys will always be treated as labels (consistent with DataFrame behavior). To access a value by position, use `ser.iloc[pos]`\n",
      "  Top_9_SHolder = DF_.sum(axis=0)[2]\n",
      "C:\\Users\\nvdun\\AppData\\Local\\Temp\\ipykernel_13500\\3101836222.py:11: FutureWarning: Series.__getitem__ treating keys as positions is deprecated. In a future version, integer keys will always be treated as labels (consistent with DataFrame behavior). To access a value by position, use `ser.iloc[pos]`\n",
      "  Top_5_SHolder = DF_.sum(axis=0)[2]\n"
     ]
    },
    {
     "name": "stdout",
     "output_type": "stream",
     "text": [
      "92\n"
     ]
    },
    {
     "name": "stderr",
     "output_type": "stream",
     "text": [
      "C:\\Users\\nvdun\\AppData\\Local\\Temp\\ipykernel_13500\\3101836222.py:7: FutureWarning: Series.__getitem__ treating keys as positions is deprecated. In a future version, integer keys will always be treated as labels (consistent with DataFrame behavior). To access a value by position, use `ser.iloc[pos]`\n",
      "  Top_9_SHolder = DF_.sum(axis=0)[2]\n",
      "C:\\Users\\nvdun\\AppData\\Local\\Temp\\ipykernel_13500\\3101836222.py:11: FutureWarning: Series.__getitem__ treating keys as positions is deprecated. In a future version, integer keys will always be treated as labels (consistent with DataFrame behavior). To access a value by position, use `ser.iloc[pos]`\n",
      "  Top_5_SHolder = DF_.sum(axis=0)[2]\n"
     ]
    },
    {
     "name": "stdout",
     "output_type": "stream",
     "text": [
      "93\n"
     ]
    },
    {
     "name": "stderr",
     "output_type": "stream",
     "text": [
      "C:\\Users\\nvdun\\AppData\\Local\\Temp\\ipykernel_13500\\3101836222.py:7: FutureWarning: Series.__getitem__ treating keys as positions is deprecated. In a future version, integer keys will always be treated as labels (consistent with DataFrame behavior). To access a value by position, use `ser.iloc[pos]`\n",
      "  Top_9_SHolder = DF_.sum(axis=0)[2]\n",
      "C:\\Users\\nvdun\\AppData\\Local\\Temp\\ipykernel_13500\\3101836222.py:11: FutureWarning: Series.__getitem__ treating keys as positions is deprecated. In a future version, integer keys will always be treated as labels (consistent with DataFrame behavior). To access a value by position, use `ser.iloc[pos]`\n",
      "  Top_5_SHolder = DF_.sum(axis=0)[2]\n"
     ]
    },
    {
     "name": "stdout",
     "output_type": "stream",
     "text": [
      "94\n"
     ]
    },
    {
     "name": "stderr",
     "output_type": "stream",
     "text": [
      "C:\\Users\\nvdun\\AppData\\Local\\Temp\\ipykernel_13500\\3101836222.py:7: FutureWarning: Series.__getitem__ treating keys as positions is deprecated. In a future version, integer keys will always be treated as labels (consistent with DataFrame behavior). To access a value by position, use `ser.iloc[pos]`\n",
      "  Top_9_SHolder = DF_.sum(axis=0)[2]\n",
      "C:\\Users\\nvdun\\AppData\\Local\\Temp\\ipykernel_13500\\3101836222.py:11: FutureWarning: Series.__getitem__ treating keys as positions is deprecated. In a future version, integer keys will always be treated as labels (consistent with DataFrame behavior). To access a value by position, use `ser.iloc[pos]`\n",
      "  Top_5_SHolder = DF_.sum(axis=0)[2]\n"
     ]
    },
    {
     "name": "stdout",
     "output_type": "stream",
     "text": [
      "95\n"
     ]
    },
    {
     "name": "stderr",
     "output_type": "stream",
     "text": [
      "C:\\Users\\nvdun\\AppData\\Local\\Temp\\ipykernel_13500\\3101836222.py:7: FutureWarning: Series.__getitem__ treating keys as positions is deprecated. In a future version, integer keys will always be treated as labels (consistent with DataFrame behavior). To access a value by position, use `ser.iloc[pos]`\n",
      "  Top_9_SHolder = DF_.sum(axis=0)[2]\n",
      "C:\\Users\\nvdun\\AppData\\Local\\Temp\\ipykernel_13500\\3101836222.py:11: FutureWarning: Series.__getitem__ treating keys as positions is deprecated. In a future version, integer keys will always be treated as labels (consistent with DataFrame behavior). To access a value by position, use `ser.iloc[pos]`\n",
      "  Top_5_SHolder = DF_.sum(axis=0)[2]\n"
     ]
    },
    {
     "name": "stdout",
     "output_type": "stream",
     "text": [
      "96\n"
     ]
    },
    {
     "name": "stderr",
     "output_type": "stream",
     "text": [
      "C:\\Users\\nvdun\\AppData\\Local\\Temp\\ipykernel_13500\\3101836222.py:7: FutureWarning: Series.__getitem__ treating keys as positions is deprecated. In a future version, integer keys will always be treated as labels (consistent with DataFrame behavior). To access a value by position, use `ser.iloc[pos]`\n",
      "  Top_9_SHolder = DF_.sum(axis=0)[2]\n",
      "C:\\Users\\nvdun\\AppData\\Local\\Temp\\ipykernel_13500\\3101836222.py:11: FutureWarning: Series.__getitem__ treating keys as positions is deprecated. In a future version, integer keys will always be treated as labels (consistent with DataFrame behavior). To access a value by position, use `ser.iloc[pos]`\n",
      "  Top_5_SHolder = DF_.sum(axis=0)[2]\n"
     ]
    },
    {
     "name": "stdout",
     "output_type": "stream",
     "text": [
      "97\n"
     ]
    },
    {
     "name": "stderr",
     "output_type": "stream",
     "text": [
      "C:\\Users\\nvdun\\AppData\\Local\\Temp\\ipykernel_13500\\3101836222.py:7: FutureWarning: Series.__getitem__ treating keys as positions is deprecated. In a future version, integer keys will always be treated as labels (consistent with DataFrame behavior). To access a value by position, use `ser.iloc[pos]`\n",
      "  Top_9_SHolder = DF_.sum(axis=0)[2]\n",
      "C:\\Users\\nvdun\\AppData\\Local\\Temp\\ipykernel_13500\\3101836222.py:11: FutureWarning: Series.__getitem__ treating keys as positions is deprecated. In a future version, integer keys will always be treated as labels (consistent with DataFrame behavior). To access a value by position, use `ser.iloc[pos]`\n",
      "  Top_5_SHolder = DF_.sum(axis=0)[2]\n"
     ]
    },
    {
     "name": "stdout",
     "output_type": "stream",
     "text": [
      "98\n"
     ]
    },
    {
     "name": "stderr",
     "output_type": "stream",
     "text": [
      "C:\\Users\\nvdun\\AppData\\Local\\Temp\\ipykernel_13500\\3101836222.py:7: FutureWarning: Series.__getitem__ treating keys as positions is deprecated. In a future version, integer keys will always be treated as labels (consistent with DataFrame behavior). To access a value by position, use `ser.iloc[pos]`\n",
      "  Top_9_SHolder = DF_.sum(axis=0)[2]\n",
      "C:\\Users\\nvdun\\AppData\\Local\\Temp\\ipykernel_13500\\3101836222.py:11: FutureWarning: Series.__getitem__ treating keys as positions is deprecated. In a future version, integer keys will always be treated as labels (consistent with DataFrame behavior). To access a value by position, use `ser.iloc[pos]`\n",
      "  Top_5_SHolder = DF_.sum(axis=0)[2]\n"
     ]
    },
    {
     "name": "stdout",
     "output_type": "stream",
     "text": [
      "99\n",
      "100\n"
     ]
    },
    {
     "name": "stderr",
     "output_type": "stream",
     "text": [
      "C:\\Users\\nvdun\\AppData\\Local\\Temp\\ipykernel_13500\\3101836222.py:7: FutureWarning: Series.__getitem__ treating keys as positions is deprecated. In a future version, integer keys will always be treated as labels (consistent with DataFrame behavior). To access a value by position, use `ser.iloc[pos]`\n",
      "  Top_9_SHolder = DF_.sum(axis=0)[2]\n",
      "C:\\Users\\nvdun\\AppData\\Local\\Temp\\ipykernel_13500\\3101836222.py:11: FutureWarning: Series.__getitem__ treating keys as positions is deprecated. In a future version, integer keys will always be treated as labels (consistent with DataFrame behavior). To access a value by position, use `ser.iloc[pos]`\n",
      "  Top_5_SHolder = DF_.sum(axis=0)[2]\n"
     ]
    }
   ],
   "source": [
    "count =0\n",
    "for TCK in List_TCK:\n",
    "    count +=1\n",
    "    DF_Profile = vnstock.company_overview(TCK)\n",
    "    DF_ = vnstock.company_large_shareholders(TCK)\n",
    "    DF_.drop(DF_.index[-1:],inplace=True)\n",
    "    Top_9_SHolder = DF_.sum(axis=0)[2]\n",
    "    if(Top_9_SHolder>1): \n",
    "        Top_9_SHolder = 1\n",
    "    DF_.drop(DF_.index[-4:],inplace=True)\n",
    "    Top_5_SHolder = DF_.sum(axis=0)[2]\n",
    "    if(Top_5_SHolder>1): \n",
    "        Top_5_SHolder = 1\n",
    "    DF_Profile['T9_SHolder']=Top_9_SHolder\n",
    "    DF_Profile['T5_SHolder']=Top_5_SHolder\n",
    "    Free_float = DF_Profile.iloc[0,6]/DF_Profile.iloc[0,7]\n",
    "    if(Free_float>1):\n",
    "        Free_float = 1\n",
    "    DF_Profile['Free_float'] = Free_float\n",
    "    DF_Profile.to_sql('Profile_',conn,if_exists='append',index=False)\n",
    "    print(count)\n"
   ]
  },
  {
   "cell_type": "code",
   "execution_count": 12,
   "metadata": {},
   "outputs": [
    {
     "name": "stdout",
     "output_type": "stream",
     "text": [
      "(10, 36)\n",
      "(20, 36)\n",
      "(30, 36)\n",
      "(40, 36)\n",
      "(50, 36)\n",
      "(60, 36)\n",
      "(70, 36)\n",
      "(80, 36)\n",
      "(90, 36)\n",
      "(100, 36)\n",
      "(110, 36)\n",
      "(120, 36)\n",
      "(130, 36)\n",
      "(140, 36)\n",
      "(150, 36)\n",
      "(160, 36)\n",
      "(170, 36)\n",
      "(180, 36)\n",
      "(190, 36)\n",
      "(200, 36)\n",
      "(210, 36)\n",
      "(220, 36)\n",
      "(230, 36)\n",
      "(240, 36)\n",
      "(250, 36)\n",
      "(260, 36)\n",
      "(270, 36)\n",
      "(280, 36)\n",
      "(290, 36)\n",
      "(300, 36)\n",
      "(310, 36)\n",
      "(320, 36)\n",
      "(330, 36)\n",
      "(340, 36)\n",
      "(350, 36)\n",
      "(360, 36)\n",
      "(370, 36)\n",
      "(380, 36)\n",
      "(390, 36)\n",
      "(400, 36)\n",
      "(410, 36)\n",
      "(420, 36)\n",
      "(430, 36)\n",
      "(440, 36)\n",
      "(450, 36)\n",
      "(460, 36)\n",
      "(470, 36)\n",
      "(480, 36)\n",
      "(490, 36)\n",
      "(500, 36)\n",
      "(510, 36)\n",
      "(520, 36)\n",
      "(530, 36)\n",
      "(540, 36)\n",
      "(550, 36)\n",
      "(560, 36)\n",
      "(570, 36)\n",
      "(580, 36)\n",
      "(590, 36)\n",
      "(600, 36)\n",
      "(610, 36)\n",
      "(620, 36)\n",
      "(630, 36)\n",
      "(640, 36)\n",
      "(650, 36)\n",
      "(660, 36)\n",
      "(670, 36)\n",
      "(680, 36)\n",
      "(690, 36)\n",
      "(700, 36)\n",
      "(710, 36)\n",
      "(720, 36)\n",
      "(730, 36)\n",
      "(740, 36)\n",
      "(750, 36)\n",
      "(760, 36)\n",
      "(770, 36)\n",
      "(780, 36)\n",
      "(790, 36)\n",
      "(800, 36)\n",
      "(810, 36)\n",
      "(820, 36)\n",
      "(830, 36)\n",
      "(840, 36)\n",
      "(850, 36)\n",
      "(860, 36)\n",
      "(870, 36)\n",
      "(880, 36)\n",
      "(890, 36)\n",
      "(900, 36)\n",
      "(910, 36)\n",
      "(920, 36)\n",
      "(930, 36)\n",
      "(940, 36)\n",
      "(950, 36)\n",
      "(960, 36)\n",
      "(970, 36)\n",
      "(980, 36)\n",
      "(990, 36)\n",
      "(1000, 36)\n"
     ]
    }
   ],
   "source": [
    "DF_Q_BS = pd.DataFrame()\n",
    "for TCK in List_TCK:\n",
    "    DF_FStatement = vnstock.financial_flow(TCK,'balancesheet','quarterly',get_all=False)\n",
    "    DF_FStatement.reset_index(inplace=True)\n",
    "    DF_Q_BS = pd.concat([DF_Q_BS,DF_FStatement],ignore_index=True)\n",
    "    print(DF_Q_BS.shape)"
   ]
  },
  {
   "cell_type": "code",
   "execution_count": 13,
   "metadata": {},
   "outputs": [
    {
     "data": {
      "text/plain": [
       "1000"
      ]
     },
     "execution_count": 13,
     "metadata": {},
     "output_type": "execute_result"
    }
   ],
   "source": [
    "DF_Q_BS.to_sql('BalanceSheet_Q',conn,if_exists='replace',index=False)"
   ]
  },
  {
   "cell_type": "code",
   "execution_count": 14,
   "metadata": {},
   "outputs": [
    {
     "name": "stdout",
     "output_type": "stream",
     "text": [
      "(5, 36)\n",
      "(10, 36)\n",
      "(15, 36)\n",
      "(20, 36)\n",
      "(25, 36)\n",
      "(30, 36)\n",
      "(35, 36)\n",
      "(40, 36)\n",
      "(45, 36)\n",
      "(50, 36)\n",
      "(55, 36)\n",
      "(60, 36)\n",
      "(65, 36)\n",
      "(70, 36)\n",
      "(75, 36)\n",
      "(80, 36)\n",
      "(85, 36)\n",
      "(90, 36)\n",
      "(95, 36)\n",
      "(100, 36)\n",
      "(105, 36)\n",
      "(110, 36)\n",
      "(115, 36)\n",
      "(120, 36)\n",
      "(125, 36)\n",
      "(130, 36)\n",
      "(135, 36)\n",
      "(140, 36)\n",
      "(145, 36)\n",
      "(150, 36)\n",
      "(155, 36)\n",
      "(160, 36)\n",
      "(165, 36)\n",
      "(170, 36)\n",
      "(175, 36)\n",
      "(180, 36)\n",
      "(185, 36)\n",
      "(190, 36)\n",
      "(195, 36)\n",
      "(200, 36)\n",
      "(205, 36)\n",
      "(210, 36)\n",
      "(215, 36)\n",
      "(220, 36)\n",
      "(225, 36)\n",
      "(230, 36)\n",
      "(235, 36)\n",
      "(240, 36)\n",
      "(245, 36)\n",
      "(250, 36)\n",
      "(255, 36)\n",
      "(260, 36)\n",
      "(265, 36)\n",
      "(270, 36)\n",
      "(275, 36)\n",
      "(280, 36)\n",
      "(285, 36)\n",
      "(290, 36)\n",
      "(295, 36)\n",
      "(300, 36)\n",
      "(305, 36)\n",
      "(310, 36)\n",
      "(315, 36)\n",
      "(320, 36)\n",
      "(325, 36)\n",
      "(330, 36)\n",
      "(335, 36)\n",
      "(340, 36)\n",
      "(345, 36)\n",
      "(350, 36)\n",
      "(355, 36)\n",
      "(360, 36)\n",
      "(365, 36)\n",
      "(370, 36)\n",
      "(375, 36)\n",
      "(380, 36)\n",
      "(385, 36)\n",
      "(390, 36)\n",
      "(395, 36)\n",
      "(400, 36)\n",
      "(405, 36)\n",
      "(410, 36)\n",
      "(415, 36)\n",
      "(420, 36)\n",
      "(425, 36)\n",
      "(430, 36)\n",
      "(435, 36)\n",
      "(440, 36)\n",
      "(445, 36)\n",
      "(450, 36)\n",
      "(455, 36)\n",
      "(460, 36)\n",
      "(465, 36)\n",
      "(470, 36)\n",
      "(475, 36)\n",
      "(480, 36)\n",
      "(485, 36)\n",
      "(490, 36)\n",
      "(495, 36)\n",
      "(500, 36)\n"
     ]
    }
   ],
   "source": [
    "DF_Y_BS = pd.DataFrame()\n",
    "for TCK in List_TCK:\n",
    "    DF_FStatement = vnstock.financial_flow(TCK,'balancesheet','yearly',get_all=False)\n",
    "    DF_FStatement.reset_index(inplace=True)\n",
    "    DF_Y_BS = pd.concat([DF_Y_BS,DF_FStatement],ignore_index=True)\n",
    "    print(DF_Y_BS.shape)"
   ]
  },
  {
   "cell_type": "code",
   "execution_count": 15,
   "metadata": {},
   "outputs": [
    {
     "data": {
      "text/plain": [
       "500"
      ]
     },
     "execution_count": 15,
     "metadata": {},
     "output_type": "execute_result"
    }
   ],
   "source": [
    "DF_Y_BS.to_sql('BalanceSheet_Y',conn,if_exists='replace',index=False)"
   ]
  },
  {
   "cell_type": "code",
   "execution_count": 16,
   "metadata": {},
   "outputs": [
    {
     "name": "stdout",
     "output_type": "stream",
     "text": [
      "(10, 23)\n",
      "(20, 23)\n",
      "(30, 23)\n",
      "(40, 23)\n",
      "(50, 23)\n"
     ]
    },
    {
     "name": "stderr",
     "output_type": "stream",
     "text": [
      "C:\\Users\\nvdun\\AppData\\Local\\Temp\\ipykernel_5892\\2980697082.py:5: FutureWarning: The behavior of DataFrame concatenation with empty or all-NA entries is deprecated. In a future version, this will no longer exclude empty or all-NA columns when determining the result dtypes. To retain the old behavior, exclude the relevant entries before the concat operation.\n",
      "  DF_Q_PnL = pd.concat([DF_Q_PnL,DF_FStatement],ignore_index=True)\n"
     ]
    },
    {
     "name": "stdout",
     "output_type": "stream",
     "text": [
      "(60, 23)\n",
      "(70, 23)\n",
      "(80, 23)\n",
      "(90, 23)\n",
      "(100, 23)\n",
      "(110, 23)\n",
      "(120, 23)\n",
      "(130, 23)\n",
      "(140, 23)\n",
      "(150, 23)\n",
      "(160, 23)\n",
      "(170, 23)\n",
      "(180, 23)\n",
      "(190, 23)\n",
      "(200, 23)\n",
      "(210, 23)\n",
      "(220, 23)\n",
      "(230, 23)\n",
      "(240, 23)\n",
      "(250, 23)\n",
      "(260, 23)\n",
      "(270, 23)\n",
      "(280, 23)\n",
      "(290, 23)\n",
      "(300, 23)\n",
      "(310, 23)\n",
      "(320, 23)\n",
      "(330, 23)\n",
      "(340, 23)\n",
      "(350, 23)\n",
      "(360, 23)\n",
      "(370, 23)\n",
      "(380, 23)\n",
      "(390, 23)\n",
      "(400, 23)\n",
      "(410, 23)\n",
      "(420, 23)\n",
      "(430, 23)\n",
      "(440, 23)\n",
      "(450, 23)\n",
      "(460, 23)\n",
      "(470, 23)\n",
      "(480, 23)\n",
      "(490, 23)\n",
      "(500, 23)\n",
      "(510, 23)\n",
      "(520, 23)\n",
      "(530, 23)\n",
      "(540, 23)\n",
      "(550, 23)\n",
      "(560, 23)\n",
      "(570, 23)\n",
      "(580, 23)\n",
      "(590, 23)\n",
      "(600, 23)\n",
      "(610, 23)\n",
      "(620, 23)\n",
      "(630, 23)\n",
      "(640, 23)\n",
      "(650, 23)\n",
      "(660, 23)\n",
      "(670, 23)\n",
      "(680, 23)\n",
      "(690, 23)\n",
      "(700, 23)\n",
      "(710, 23)\n",
      "(720, 23)\n",
      "(730, 23)\n",
      "(740, 23)\n",
      "(750, 23)\n",
      "(760, 23)\n",
      "(770, 23)\n",
      "(780, 23)\n",
      "(790, 23)\n",
      "(800, 23)\n",
      "(810, 23)\n",
      "(820, 23)\n",
      "(830, 23)\n",
      "(840, 23)\n",
      "(850, 23)\n",
      "(860, 23)\n",
      "(870, 23)\n",
      "(880, 23)\n"
     ]
    },
    {
     "name": "stderr",
     "output_type": "stream",
     "text": [
      "C:\\Users\\nvdun\\AppData\\Local\\Temp\\ipykernel_5892\\2980697082.py:5: FutureWarning: The behavior of DataFrame concatenation with empty or all-NA entries is deprecated. In a future version, this will no longer exclude empty or all-NA columns when determining the result dtypes. To retain the old behavior, exclude the relevant entries before the concat operation.\n",
      "  DF_Q_PnL = pd.concat([DF_Q_PnL,DF_FStatement],ignore_index=True)\n"
     ]
    },
    {
     "name": "stdout",
     "output_type": "stream",
     "text": [
      "(890, 23)\n",
      "(900, 23)\n",
      "(910, 23)\n",
      "(920, 23)\n",
      "(930, 23)\n",
      "(940, 23)\n",
      "(950, 23)\n",
      "(960, 23)\n",
      "(970, 23)\n",
      "(980, 23)\n",
      "(990, 23)\n",
      "(1000, 23)\n"
     ]
    }
   ],
   "source": [
    "DF_Q_PnL = pd.DataFrame()\n",
    "for TCK in List_TCK:\n",
    "    DF_FStatement = vnstock.financial_flow(TCK,'incomestatement','quarterly',get_all=False)\n",
    "    DF_FStatement.reset_index(inplace=True)\n",
    "    DF_Q_PnL = pd.concat([DF_Q_PnL,DF_FStatement],ignore_index=True)\n",
    "    print(DF_Q_PnL.shape)"
   ]
  },
  {
   "cell_type": "code",
   "execution_count": 17,
   "metadata": {},
   "outputs": [
    {
     "data": {
      "text/plain": [
       "1000"
      ]
     },
     "execution_count": 17,
     "metadata": {},
     "output_type": "execute_result"
    }
   ],
   "source": [
    "DF_Q_PnL.to_sql('PnL_Q',conn,if_exists='replace',index=False)"
   ]
  },
  {
   "cell_type": "code",
   "execution_count": 18,
   "metadata": {},
   "outputs": [
    {
     "name": "stdout",
     "output_type": "stream",
     "text": [
      "(5, 23)\n",
      "(10, 23)\n",
      "(15, 23)\n",
      "(20, 23)\n",
      "(25, 23)\n"
     ]
    },
    {
     "name": "stderr",
     "output_type": "stream",
     "text": [
      "C:\\Users\\nvdun\\AppData\\Local\\Temp\\ipykernel_5892\\3927387735.py:5: FutureWarning: The behavior of DataFrame concatenation with empty or all-NA entries is deprecated. In a future version, this will no longer exclude empty or all-NA columns when determining the result dtypes. To retain the old behavior, exclude the relevant entries before the concat operation.\n",
      "  DF_Y_PnL = pd.concat([DF_Y_PnL,DF_FStatement],ignore_index=True)\n"
     ]
    },
    {
     "name": "stdout",
     "output_type": "stream",
     "text": [
      "(30, 23)\n",
      "(35, 23)\n",
      "(40, 23)\n",
      "(45, 23)\n",
      "(50, 23)\n",
      "(55, 23)\n",
      "(60, 23)\n",
      "(65, 23)\n",
      "(70, 23)\n",
      "(75, 23)\n",
      "(80, 23)\n",
      "(85, 23)\n",
      "(90, 23)\n",
      "(95, 23)\n",
      "(100, 23)\n",
      "(105, 23)\n",
      "(110, 23)\n",
      "(115, 23)\n",
      "(120, 23)\n",
      "(125, 23)\n",
      "(130, 23)\n",
      "(135, 23)\n",
      "(140, 23)\n",
      "(145, 23)\n",
      "(150, 23)\n",
      "(155, 23)\n",
      "(160, 23)\n",
      "(165, 23)\n",
      "(170, 23)\n",
      "(175, 23)\n",
      "(180, 23)\n",
      "(185, 23)\n",
      "(190, 23)\n",
      "(195, 23)\n",
      "(200, 23)\n",
      "(205, 23)\n",
      "(210, 23)\n",
      "(215, 23)\n",
      "(220, 23)\n",
      "(225, 23)\n",
      "(230, 23)\n",
      "(235, 23)\n",
      "(240, 23)\n",
      "(245, 23)\n",
      "(250, 23)\n",
      "(255, 23)\n",
      "(260, 23)\n",
      "(265, 23)\n",
      "(270, 23)\n",
      "(275, 23)\n",
      "(280, 23)\n",
      "(285, 23)\n",
      "(290, 23)\n",
      "(295, 23)\n",
      "(300, 23)\n",
      "(305, 23)\n",
      "(310, 23)\n",
      "(315, 23)\n",
      "(320, 23)\n",
      "(325, 23)\n",
      "(330, 23)\n",
      "(335, 23)\n",
      "(340, 23)\n",
      "(345, 23)\n",
      "(350, 23)\n",
      "(355, 23)\n",
      "(360, 23)\n",
      "(365, 23)\n",
      "(370, 23)\n",
      "(375, 23)\n",
      "(380, 23)\n",
      "(385, 23)\n",
      "(390, 23)\n",
      "(395, 23)\n",
      "(400, 23)\n",
      "(405, 23)\n",
      "(410, 23)\n",
      "(415, 23)\n",
      "(420, 23)\n",
      "(425, 23)\n",
      "(430, 23)\n",
      "(435, 23)\n",
      "(440, 23)\n",
      "(445, 23)\n",
      "(450, 23)\n",
      "(455, 23)\n",
      "(460, 23)\n",
      "(465, 23)\n",
      "(470, 23)\n",
      "(475, 23)\n",
      "(480, 23)\n",
      "(485, 23)\n",
      "(490, 23)\n",
      "(495, 23)\n",
      "(500, 23)\n"
     ]
    }
   ],
   "source": [
    "DF_Y_PnL = pd.DataFrame()\n",
    "for TCK in List_TCK:\n",
    "    DF_FStatement = vnstock.financial_flow(TCK,'incomestatement','yearly',get_all=False)\n",
    "    DF_FStatement.reset_index(inplace=True)\n",
    "    DF_Y_PnL = pd.concat([DF_Y_PnL,DF_FStatement],ignore_index=True)\n",
    "    print(DF_Y_PnL.shape)"
   ]
  },
  {
   "cell_type": "code",
   "execution_count": 19,
   "metadata": {},
   "outputs": [
    {
     "name": "stdout",
     "output_type": "stream",
     "text": [
      "(10, 7)\n",
      "(20, 7)\n",
      "(30, 7)\n",
      "(40, 7)\n",
      "(50, 7)\n",
      "(60, 7)\n",
      "(70, 7)\n",
      "(80, 7)\n",
      "(90, 7)\n",
      "(100, 7)\n",
      "(110, 7)\n",
      "(120, 7)\n",
      "(130, 7)\n",
      "(140, 7)\n",
      "(150, 7)\n",
      "(160, 7)\n",
      "(170, 7)\n",
      "(180, 7)\n",
      "(190, 7)\n",
      "(200, 7)\n",
      "(210, 7)\n",
      "(220, 7)\n",
      "(230, 7)\n",
      "(240, 7)\n",
      "(250, 7)\n",
      "(260, 7)\n",
      "(270, 7)\n",
      "(280, 7)\n",
      "(290, 7)\n",
      "(300, 7)\n",
      "(310, 7)\n",
      "(320, 7)\n",
      "(330, 7)\n",
      "(340, 7)\n",
      "(350, 7)\n",
      "(360, 7)\n",
      "(370, 7)\n",
      "(380, 7)\n",
      "(390, 7)\n",
      "(400, 7)\n",
      "(410, 7)\n",
      "(420, 7)\n",
      "(430, 7)\n",
      "(442, 7)\n",
      "(452, 7)\n",
      "(462, 7)\n",
      "(472, 7)\n",
      "(482, 7)\n",
      "(492, 7)\n",
      "(502, 7)\n",
      "(512, 7)\n",
      "(522, 7)\n",
      "(532, 7)\n",
      "(542, 7)\n",
      "(552, 7)\n",
      "(562, 7)\n",
      "(572, 7)\n",
      "(582, 7)\n",
      "(592, 7)\n",
      "(602, 7)\n",
      "(612, 7)\n",
      "(622, 7)\n",
      "(632, 7)\n",
      "(643, 7)\n",
      "(653, 7)\n",
      "(663, 7)\n",
      "(673, 7)\n",
      "(683, 7)\n",
      "(693, 7)\n",
      "(703, 7)\n",
      "(713, 7)\n",
      "(723, 7)\n",
      "(733, 7)\n",
      "(743, 7)\n",
      "(753, 7)\n",
      "(763, 7)\n",
      "(773, 7)\n",
      "(783, 7)\n",
      "(793, 7)\n",
      "(803, 7)\n",
      "(813, 7)\n",
      "(823, 7)\n",
      "(833, 7)\n",
      "(843, 7)\n",
      "(853, 7)\n",
      "(863, 7)\n",
      "(873, 7)\n",
      "(883, 7)\n",
      "(893, 7)\n",
      "(903, 7)\n",
      "(913, 7)\n",
      "(923, 7)\n",
      "(933, 7)\n",
      "(943, 7)\n",
      "(953, 7)\n",
      "(963, 7)\n",
      "(973, 7)\n",
      "(983, 7)\n",
      "(993, 7)\n",
      "(1003, 7)\n"
     ]
    }
   ],
   "source": [
    "DF_Q_CF = pd.DataFrame()\n",
    "for TCK in List_TCK:\n",
    "    DF_FStatement = vnstock.financial_flow(TCK,'cashflow','quarterly',get_all=False)\n",
    "    DF_FStatement.reset_index(inplace=True)\n",
    "    DF_Q_CF = pd.concat([DF_Q_CF,DF_FStatement],ignore_index=True)\n",
    "    print(DF_Q_CF.shape)"
   ]
  },
  {
   "cell_type": "code",
   "execution_count": 20,
   "metadata": {},
   "outputs": [
    {
     "name": "stdout",
     "output_type": "stream",
     "text": [
      "(5, 7)\n",
      "(10, 7)\n",
      "(15, 7)\n",
      "(20, 7)\n",
      "(25, 7)\n",
      "(30, 7)\n",
      "(35, 7)\n",
      "(40, 7)\n",
      "(45, 7)\n",
      "(50, 7)\n",
      "(55, 7)\n",
      "(60, 7)\n",
      "(65, 7)\n",
      "(70, 7)\n",
      "(75, 7)\n",
      "(80, 7)\n",
      "(85, 7)\n",
      "(90, 7)\n",
      "(95, 7)\n",
      "(100, 7)\n",
      "(105, 7)\n",
      "(110, 7)\n",
      "(115, 7)\n",
      "(120, 7)\n",
      "(125, 7)\n",
      "(130, 7)\n",
      "(135, 7)\n",
      "(140, 7)\n",
      "(145, 7)\n",
      "(150, 7)\n",
      "(155, 7)\n",
      "(160, 7)\n",
      "(165, 7)\n",
      "(170, 7)\n",
      "(175, 7)\n",
      "(180, 7)\n",
      "(185, 7)\n",
      "(190, 7)\n",
      "(195, 7)\n",
      "(200, 7)\n",
      "(205, 7)\n",
      "(210, 7)\n",
      "(215, 7)\n",
      "(220, 7)\n",
      "(225, 7)\n",
      "(230, 7)\n",
      "(235, 7)\n",
      "(240, 7)\n",
      "(245, 7)\n",
      "(250, 7)\n",
      "(255, 7)\n",
      "(260, 7)\n",
      "(265, 7)\n",
      "(270, 7)\n",
      "(275, 7)\n",
      "(280, 7)\n",
      "(285, 7)\n",
      "(290, 7)\n",
      "(295, 7)\n",
      "(300, 7)\n",
      "(305, 7)\n",
      "(310, 7)\n",
      "(315, 7)\n",
      "(320, 7)\n",
      "(325, 7)\n",
      "(330, 7)\n",
      "(335, 7)\n",
      "(340, 7)\n",
      "(345, 7)\n",
      "(350, 7)\n",
      "(355, 7)\n",
      "(360, 7)\n",
      "(365, 7)\n",
      "(370, 7)\n",
      "(375, 7)\n",
      "(380, 7)\n",
      "(385, 7)\n",
      "(390, 7)\n",
      "(395, 7)\n",
      "(400, 7)\n",
      "(405, 7)\n",
      "(410, 7)\n",
      "(415, 7)\n",
      "(420, 7)\n",
      "(425, 7)\n",
      "(430, 7)\n",
      "(435, 7)\n",
      "(440, 7)\n",
      "(445, 7)\n",
      "(450, 7)\n",
      "(455, 7)\n",
      "(460, 7)\n",
      "(465, 7)\n",
      "(470, 7)\n",
      "(475, 7)\n",
      "(480, 7)\n",
      "(485, 7)\n",
      "(490, 7)\n",
      "(495, 7)\n",
      "(500, 7)\n"
     ]
    }
   ],
   "source": [
    "DF_Y_CF = pd.DataFrame()\n",
    "for TCK in List_TCK:\n",
    "    DF_FStatement = vnstock.financial_flow(TCK,'cashflow','yearly',get_all=False)\n",
    "    DF_FStatement.reset_index(inplace=True)\n",
    "    DF_Y_CF = pd.concat([DF_Y_CF,DF_FStatement],ignore_index=True)\n",
    "    print(DF_Y_CF.shape)"
   ]
  },
  {
   "cell_type": "code",
   "execution_count": 21,
   "metadata": {},
   "outputs": [
    {
     "data": {
      "text/plain": [
       "500"
      ]
     },
     "execution_count": 21,
     "metadata": {},
     "output_type": "execute_result"
    }
   ],
   "source": [
    "DF_Y_CF.to_sql('CF_Y',conn,if_exists='replace',index = False)\n",
    "DF_Q_CF.to_sql('CF_Q',conn,if_exists='replace',index = False)\n",
    "DF_Y_PnL.to_sql('PnL_Y',conn,if_exists='replace',index = False)"
   ]
  },
  {
   "cell_type": "code",
   "execution_count": 74,
   "metadata": {},
   "outputs": [],
   "source": [
    "cols_name = ['ticker','DATE','Last_PRC','AVG_3_PRC','AVG_5_PRC','AVG_10_PRC','AVG_20_PRC','Last_VOL','AVG_3_VOL','AVG_5_VOL','AVG_10_VOL','AVG_20_VOL']\n",
    "Proxy_Prc_ = pd.DataFrame(columns=cols_name)"
   ]
  },
  {
   "cell_type": "code",
   "execution_count": 75,
   "metadata": {},
   "outputs": [
    {
     "name": "stdout",
     "output_type": "stream",
     "text": [
      "TCK: SSI\n",
      "(1, 12)\n"
     ]
    },
    {
     "name": "stderr",
     "output_type": "stream",
     "text": [
      "C:\\Users\\nvdun\\AppData\\Local\\Temp\\ipykernel_5892\\2594150798.py:19: FutureWarning: The behavior of DataFrame concatenation with empty or all-NA entries is deprecated. In a future version, this will no longer exclude empty or all-NA columns when determining the result dtypes. To retain the old behavior, exclude the relevant entries before the concat operation.\n",
      "  Proxy_Prc_= pd.concat([Proxy_Prc_,new_row_df],ignore_index=True)\n"
     ]
    },
    {
     "name": "stdout",
     "output_type": "stream",
     "text": [
      "TCK: BCM\n",
      "(2, 12)\n",
      "TCK: VHM\n",
      "(3, 12)\n",
      "TCK: VIC\n",
      "(4, 12)\n",
      "TCK: VRE\n",
      "(5, 12)\n",
      "TCK: BVH\n",
      "(6, 12)\n",
      "TCK: POW\n",
      "(7, 12)\n",
      "TCK: GAS\n",
      "(8, 12)\n",
      "TCK: ACB\n",
      "(9, 12)\n",
      "TCK: BID\n",
      "(10, 12)\n",
      "TCK: CTG\n",
      "(11, 12)\n",
      "TCK: HDB\n",
      "(12, 12)\n",
      "TCK: MBB\n",
      "(13, 12)\n",
      "TCK: SSB\n",
      "(14, 12)\n",
      "TCK: SHB\n",
      "(15, 12)\n",
      "TCK: STB\n",
      "(16, 12)\n",
      "TCK: TCB\n",
      "(17, 12)\n",
      "TCK: TPB\n",
      "(18, 12)\n",
      "TCK: VCB\n",
      "(19, 12)\n",
      "TCK: VIB\n",
      "(20, 12)\n",
      "TCK: VPB\n",
      "(21, 12)\n",
      "TCK: HPG\n",
      "(22, 12)\n",
      "TCK: GVR\n",
      "(23, 12)\n",
      "TCK: MSN\n",
      "(24, 12)\n",
      "TCK: VNM\n",
      "(25, 12)\n",
      "TCK: SAB\n",
      "(26, 12)\n",
      "TCK: VJC\n",
      "(27, 12)\n",
      "TCK: MWG\n",
      "(28, 12)\n",
      "TCK: PLX\n",
      "(29, 12)\n",
      "TCK: FPT\n",
      "(30, 12)\n",
      "TCK: BCG\n",
      "(31, 12)\n",
      "TCK: FTS\n",
      "(32, 12)\n",
      "TCK: HCM\n",
      "(33, 12)\n",
      "TCK: VCI\n",
      "(34, 12)\n",
      "TCK: VIX\n",
      "(35, 12)\n",
      "TCK: VND\n",
      "(36, 12)\n",
      "TCK: AGG\n",
      "(37, 12)\n",
      "TCK: CRE\n",
      "(38, 12)\n",
      "TCK: DIG\n",
      "(39, 12)\n",
      "TCK: DXG\n",
      "(40, 12)\n",
      "TCK: DXS\n",
      "(41, 12)\n",
      "TCK: HDC\n",
      "(42, 12)\n",
      "TCK: HDG\n",
      "(43, 12)\n",
      "TCK: TCH\n",
      "(44, 12)\n",
      "TCK: KBC\n",
      "(45, 12)\n",
      "TCK: KDH\n",
      "(46, 12)\n",
      "TCK: KOS\n",
      "(47, 12)\n",
      "TCK: NLG\n",
      "(48, 12)\n",
      "TCK: PDR\n",
      "(49, 12)\n",
      "TCK: SZC\n",
      "(50, 12)\n",
      "TCK: SJS\n",
      "(51, 12)\n",
      "TCK: VPI\n",
      "(52, 12)\n",
      "TCK: GEG\n",
      "(53, 12)\n",
      "TCK: NT2\n",
      "(54, 12)\n",
      "TCK: PPC\n",
      "(55, 12)\n",
      "TCK: VSH\n",
      "(56, 12)\n",
      "TCK: BWE\n",
      "(57, 12)\n",
      "TCK: EIB\n",
      "(58, 12)\n",
      "TCK: LPB\n",
      "(59, 12)\n",
      "TCK: MSB\n",
      "(60, 12)\n",
      "TCK: OCB\n",
      "(61, 12)\n",
      "TCK: DHC\n",
      "(62, 12)\n",
      "TCK: PTB\n",
      "(63, 12)\n",
      "TCK: HSG\n",
      "(64, 12)\n",
      "TCK: NKG\n",
      "(65, 12)\n",
      "TCK: AAA\n",
      "(66, 12)\n",
      "TCK: DCM\n",
      "(67, 12)\n",
      "TCK: DGC\n",
      "(68, 12)\n",
      "TCK: DPM\n",
      "(69, 12)\n",
      "TCK: PHR\n",
      "(70, 12)\n",
      "TCK: ANV\n",
      "(71, 12)\n",
      "TCK: ASM\n",
      "(72, 12)\n",
      "TCK: DBC\n",
      "(73, 12)\n",
      "TCK: HAG\n",
      "(74, 12)\n",
      "TCK: KDC\n",
      "(75, 12)\n",
      "TCK: PAN\n",
      "(76, 12)\n",
      "TCK: SBT\n",
      "(77, 12)\n",
      "TCK: VHC\n",
      "(78, 12)\n",
      "TCK: PNJ\n",
      "(79, 12)\n",
      "TCK: SCS\n",
      "(80, 12)\n",
      "TCK: DGW\n",
      "(81, 12)\n",
      "TCK: FRT\n",
      "(82, 12)\n",
      "TCK: PVD\n",
      "(83, 12)\n",
      "TCK: IMP\n",
      "(84, 12)\n",
      "TCK: SAM\n",
      "(85, 12)\n",
      "TCK: CMG\n",
      "(86, 12)\n",
      "TCK: BMP\n",
      "(87, 12)\n",
      "TCK: CII\n",
      "(88, 12)\n",
      "TCK: CTD\n",
      "(89, 12)\n",
      "TCK: CTR\n",
      "(90, 12)\n",
      "TCK: HHV\n",
      "(91, 12)\n",
      "TCK: HT1\n",
      "(92, 12)\n",
      "TCK: PC1\n",
      "(93, 12)\n",
      "TCK: VCG\n",
      "(94, 12)\n",
      "TCK: VGC\n",
      "(95, 12)\n",
      "TCK: GEX\n",
      "(96, 12)\n",
      "TCK: GMD\n",
      "(97, 12)\n",
      "TCK: PVT\n",
      "(98, 12)\n",
      "TCK: TMS\n",
      "(99, 12)\n",
      "TCK: REE\n",
      "(100, 12)\n"
     ]
    },
    {
     "data": {
      "text/html": [
       "<div>\n",
       "<style scoped>\n",
       "    .dataframe tbody tr th:only-of-type {\n",
       "        vertical-align: middle;\n",
       "    }\n",
       "\n",
       "    .dataframe tbody tr th {\n",
       "        vertical-align: top;\n",
       "    }\n",
       "\n",
       "    .dataframe thead th {\n",
       "        text-align: right;\n",
       "    }\n",
       "</style>\n",
       "<table border=\"1\" class=\"dataframe\">\n",
       "  <thead>\n",
       "    <tr style=\"text-align: right;\">\n",
       "      <th></th>\n",
       "      <th>ticker</th>\n",
       "      <th>DATE</th>\n",
       "      <th>Last_PRC</th>\n",
       "      <th>AVG_3_PRC</th>\n",
       "      <th>AVG_5_PRC</th>\n",
       "      <th>AVG_10_PRC</th>\n",
       "      <th>AVG_20_PRC</th>\n",
       "      <th>Last_VOL</th>\n",
       "      <th>AVG_3_VOL</th>\n",
       "      <th>AVG_5_VOL</th>\n",
       "      <th>AVG_10_VOL</th>\n",
       "      <th>AVG_20_VOL</th>\n",
       "    </tr>\n",
       "  </thead>\n",
       "  <tbody>\n",
       "    <tr>\n",
       "      <th>0</th>\n",
       "      <td>SSI</td>\n",
       "      <td>2024-02-07</td>\n",
       "      <td>35100</td>\n",
       "      <td>35017.0</td>\n",
       "      <td>34900.0</td>\n",
       "      <td>34505.0</td>\n",
       "      <td>34110.0</td>\n",
       "      <td>15710800</td>\n",
       "      <td>16144900.0</td>\n",
       "      <td>16618800.0</td>\n",
       "      <td>17730770.0</td>\n",
       "      <td>19483770.0</td>\n",
       "    </tr>\n",
       "    <tr>\n",
       "      <th>1</th>\n",
       "      <td>BCM</td>\n",
       "      <td>2024-02-07</td>\n",
       "      <td>64000</td>\n",
       "      <td>63767.0</td>\n",
       "      <td>64360.0</td>\n",
       "      <td>63790.0</td>\n",
       "      <td>62185.0</td>\n",
       "      <td>276500</td>\n",
       "      <td>459667.0</td>\n",
       "      <td>559500.0</td>\n",
       "      <td>722850.0</td>\n",
       "      <td>619935.0</td>\n",
       "    </tr>\n",
       "    <tr>\n",
       "      <th>2</th>\n",
       "      <td>VHM</td>\n",
       "      <td>2024-02-07</td>\n",
       "      <td>41800</td>\n",
       "      <td>41350.0</td>\n",
       "      <td>41290.0</td>\n",
       "      <td>41585.0</td>\n",
       "      <td>41970.0</td>\n",
       "      <td>3768900</td>\n",
       "      <td>4221900.0</td>\n",
       "      <td>5109640.0</td>\n",
       "      <td>4457670.0</td>\n",
       "      <td>5015825.0</td>\n",
       "    </tr>\n",
       "    <tr>\n",
       "      <th>3</th>\n",
       "      <td>VIC</td>\n",
       "      <td>2024-02-07</td>\n",
       "      <td>42400</td>\n",
       "      <td>42300.0</td>\n",
       "      <td>42270.0</td>\n",
       "      <td>42480.0</td>\n",
       "      <td>42852.0</td>\n",
       "      <td>1596000</td>\n",
       "      <td>1961033.0</td>\n",
       "      <td>2012140.0</td>\n",
       "      <td>1891180.0</td>\n",
       "      <td>1927125.0</td>\n",
       "    </tr>\n",
       "    <tr>\n",
       "      <th>4</th>\n",
       "      <td>VRE</td>\n",
       "      <td>2024-02-07</td>\n",
       "      <td>21900</td>\n",
       "      <td>21800.0</td>\n",
       "      <td>22070.0</td>\n",
       "      <td>22705.0</td>\n",
       "      <td>23098.0</td>\n",
       "      <td>6100200</td>\n",
       "      <td>8949567.0</td>\n",
       "      <td>8047800.0</td>\n",
       "      <td>8187080.0</td>\n",
       "      <td>6731430.0</td>\n",
       "    </tr>\n",
       "    <tr>\n",
       "      <th>...</th>\n",
       "      <td>...</td>\n",
       "      <td>...</td>\n",
       "      <td>...</td>\n",
       "      <td>...</td>\n",
       "      <td>...</td>\n",
       "      <td>...</td>\n",
       "      <td>...</td>\n",
       "      <td>...</td>\n",
       "      <td>...</td>\n",
       "      <td>...</td>\n",
       "      <td>...</td>\n",
       "      <td>...</td>\n",
       "    </tr>\n",
       "    <tr>\n",
       "      <th>95</th>\n",
       "      <td>GEX</td>\n",
       "      <td>2024-02-07</td>\n",
       "      <td>21500</td>\n",
       "      <td>21283.0</td>\n",
       "      <td>21340.0</td>\n",
       "      <td>21500.0</td>\n",
       "      <td>21530.0</td>\n",
       "      <td>9320400</td>\n",
       "      <td>10092933.0</td>\n",
       "      <td>9858520.0</td>\n",
       "      <td>8962150.0</td>\n",
       "      <td>10023735.0</td>\n",
       "    </tr>\n",
       "    <tr>\n",
       "      <th>96</th>\n",
       "      <td>GMD</td>\n",
       "      <td>2024-02-07</td>\n",
       "      <td>69500</td>\n",
       "      <td>69100.0</td>\n",
       "      <td>69020.0</td>\n",
       "      <td>69280.0</td>\n",
       "      <td>69510.0</td>\n",
       "      <td>1059600</td>\n",
       "      <td>1041033.0</td>\n",
       "      <td>883780.0</td>\n",
       "      <td>882910.0</td>\n",
       "      <td>902460.0</td>\n",
       "    </tr>\n",
       "    <tr>\n",
       "      <th>97</th>\n",
       "      <td>PVT</td>\n",
       "      <td>2024-02-07</td>\n",
       "      <td>26750</td>\n",
       "      <td>26500.0</td>\n",
       "      <td>26340.0</td>\n",
       "      <td>26365.0</td>\n",
       "      <td>26405.0</td>\n",
       "      <td>2873000</td>\n",
       "      <td>2369900.0</td>\n",
       "      <td>2079100.0</td>\n",
       "      <td>2154060.0</td>\n",
       "      <td>2783735.0</td>\n",
       "    </tr>\n",
       "    <tr>\n",
       "      <th>98</th>\n",
       "      <td>TMS</td>\n",
       "      <td>2024-02-07</td>\n",
       "      <td>47000</td>\n",
       "      <td>47000.0</td>\n",
       "      <td>46910.0</td>\n",
       "      <td>46640.0</td>\n",
       "      <td>46008.0</td>\n",
       "      <td>3000</td>\n",
       "      <td>2800.0</td>\n",
       "      <td>4300.0</td>\n",
       "      <td>7000.0</td>\n",
       "      <td>6375.0</td>\n",
       "    </tr>\n",
       "    <tr>\n",
       "      <th>99</th>\n",
       "      <td>REE</td>\n",
       "      <td>2024-02-07</td>\n",
       "      <td>56500</td>\n",
       "      <td>56067.0</td>\n",
       "      <td>55720.0</td>\n",
       "      <td>56000.0</td>\n",
       "      <td>55965.0</td>\n",
       "      <td>323400</td>\n",
       "      <td>509400.0</td>\n",
       "      <td>627760.0</td>\n",
       "      <td>555150.0</td>\n",
       "      <td>457815.0</td>\n",
       "    </tr>\n",
       "  </tbody>\n",
       "</table>\n",
       "<p>100 rows × 12 columns</p>\n",
       "</div>"
      ],
      "text/plain": [
       "   ticker        DATE Last_PRC  AVG_3_PRC  AVG_5_PRC  AVG_10_PRC  AVG_20_PRC  \\\n",
       "0     SSI  2024-02-07    35100    35017.0    34900.0     34505.0     34110.0   \n",
       "1     BCM  2024-02-07    64000    63767.0    64360.0     63790.0     62185.0   \n",
       "2     VHM  2024-02-07    41800    41350.0    41290.0     41585.0     41970.0   \n",
       "3     VIC  2024-02-07    42400    42300.0    42270.0     42480.0     42852.0   \n",
       "4     VRE  2024-02-07    21900    21800.0    22070.0     22705.0     23098.0   \n",
       "..    ...         ...      ...        ...        ...         ...         ...   \n",
       "95    GEX  2024-02-07    21500    21283.0    21340.0     21500.0     21530.0   \n",
       "96    GMD  2024-02-07    69500    69100.0    69020.0     69280.0     69510.0   \n",
       "97    PVT  2024-02-07    26750    26500.0    26340.0     26365.0     26405.0   \n",
       "98    TMS  2024-02-07    47000    47000.0    46910.0     46640.0     46008.0   \n",
       "99    REE  2024-02-07    56500    56067.0    55720.0     56000.0     55965.0   \n",
       "\n",
       "    Last_VOL   AVG_3_VOL   AVG_5_VOL  AVG_10_VOL  AVG_20_VOL  \n",
       "0   15710800  16144900.0  16618800.0  17730770.0  19483770.0  \n",
       "1     276500    459667.0    559500.0    722850.0    619935.0  \n",
       "2    3768900   4221900.0   5109640.0   4457670.0   5015825.0  \n",
       "3    1596000   1961033.0   2012140.0   1891180.0   1927125.0  \n",
       "4    6100200   8949567.0   8047800.0   8187080.0   6731430.0  \n",
       "..       ...         ...         ...         ...         ...  \n",
       "95   9320400  10092933.0   9858520.0   8962150.0  10023735.0  \n",
       "96   1059600   1041033.0    883780.0    882910.0    902460.0  \n",
       "97   2873000   2369900.0   2079100.0   2154060.0   2783735.0  \n",
       "98      3000      2800.0      4300.0      7000.0      6375.0  \n",
       "99    323400    509400.0    627760.0    555150.0    457815.0  \n",
       "\n",
       "[100 rows x 12 columns]"
      ]
     },
     "execution_count": 75,
     "metadata": {},
     "output_type": "execute_result"
    }
   ],
   "source": [
    "for TCK in List_TCK:\n",
    "    DF_trading = vnstock.stock_historical_data(TCK,start_date='2023-02-14',end_date='2024-02-14',resolution = '1D')\n",
    "    Date = DF_trading.iloc[-1,0]\n",
    "    Last_CLS = DF_trading.iloc[-1,4]\n",
    "    Last_Vol = DF_trading.iloc[-1,5]\n",
    "    AVG_3_CLS = round(DF_trading.iloc[-3:,4].sum()/3,0)\n",
    "    AVG_5_CLS = round(DF_trading.iloc[-5:,4].sum()/5,0)\n",
    "    AVG_10_CLS = round(DF_trading.iloc[-10:,4].sum()/10,0)\n",
    "    AVG_20_CLS = round(DF_trading.iloc[-20:,4].sum()/20,0)\n",
    "    AVG_3_VOL = round(DF_trading.iloc[-3:,5].sum()/3,0)\n",
    "    AVG_5_VOL = round(DF_trading.iloc[-5:,5].sum()/5,0)\n",
    "    AVG_10_VOL = round(DF_trading.iloc[-10:,5].sum()/10,0)\n",
    "    AVG_20_VOL = round(DF_trading.iloc[-20:,5].sum()/20,0)\n",
    "    # print(f'Last prc: {Last_CLS}\\nLast vol: {Last_Vol}\\nAverage 3: {AVG_3_CLS}\\nAverage 5: {AVG_5_CLS}\\nAverage 10: {AVG_10_CLS}\\nAverage 20: {AVG_20_CLS}\\nAverage 3 vol: {AVG_3_VOL}\\nAverage 5 vol: {AVG_5_VOL}\\nAverage 10 vol: {AVG_10_VOL}\\nAverage 20 vol: {AVG_20_VOL}')\n",
    "    \n",
    "    print(f'TCK: {TCK}')\n",
    "    data_arr = [TCK,Date,Last_CLS,AVG_3_CLS,AVG_5_CLS,AVG_10_CLS,AVG_20_CLS,Last_Vol,AVG_3_VOL,AVG_5_VOL,AVG_10_VOL,AVG_20_VOL]\n",
    "    new_row_df = pd.DataFrame([data_arr],columns= cols_name)\n",
    "    Proxy_Prc_= pd.concat([Proxy_Prc_,new_row_df],ignore_index=True)\n",
    "    print(Proxy_Prc_.shape)\n",
    "Proxy_Prc_"
   ]
  },
  {
   "cell_type": "code",
   "execution_count": 76,
   "metadata": {},
   "outputs": [
    {
     "data": {
      "text/plain": [
       "100"
      ]
     },
     "execution_count": 76,
     "metadata": {},
     "output_type": "execute_result"
    }
   ],
   "source": [
    "Proxy_Prc_.to_sql('Proxy_PRC',conn,if_exists='replace',index=False)\n",
    "# DF_trading = vnstock.stock_historical_data(List_TCK[1],start_date='2023-02-14',end_date='2024-02-14',resolution = '1D')\n",
    "# DF_trading.iloc[-3:,4]\n",
    "# DF_trading.tail(5)[4].sum()"
   ]
  }
 ],
 "metadata": {
  "kernelspec": {
   "display_name": "Python 3",
   "language": "python",
   "name": "python3"
  },
  "language_info": {
   "codemirror_mode": {
    "name": "ipython",
    "version": 3
   },
   "file_extension": ".py",
   "mimetype": "text/x-python",
   "name": "python",
   "nbconvert_exporter": "python",
   "pygments_lexer": "ipython3",
   "version": "3.10.5"
  }
 },
 "nbformat": 4,
 "nbformat_minor": 2
}
